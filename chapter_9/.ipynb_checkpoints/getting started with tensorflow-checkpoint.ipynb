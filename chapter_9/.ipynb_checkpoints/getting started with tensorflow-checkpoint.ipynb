{
 "cells": [
  {
   "cell_type": "code",
   "execution_count": 1,
   "metadata": {},
   "outputs": [],
   "source": [
    "import tensorflow as tf"
   ]
  },
  {
   "cell_type": "code",
   "execution_count": 2,
   "metadata": {},
   "outputs": [],
   "source": [
    "x = tf.Variable(3, name=\"x\")\n",
    "y = tf.Variable(4, name=\"y\")\n",
    "\n",
    "f = x*x*y + y + 2\n",
    "# only creates a computation graph\n",
    "# evaluating a tf graph can be done by opening a tensorflow\n",
    "# session and using it to initialise the variable and evaluate f\n"
   ]
  },
  {
   "cell_type": "code",
   "execution_count": 4,
   "metadata": {},
   "outputs": [
    {
     "name": "stdout",
     "output_type": "stream",
     "text": [
      "Tensor(\"add_1:0\", shape=(), dtype=int32)\n",
      "42\n"
     ]
    }
   ],
   "source": [
    "# creating a sssion , initialising the variables\n",
    "# ans close section\n",
    "\n",
    "print(f)\n",
    "\n",
    "sess = tf.Session()\n",
    "sess.run(x.initializer)\n",
    "sess.run(y.initializer)\n",
    "result = sess.run(f)\n",
    "print(result)\n",
    "sess.close()"
   ]
  },
  {
   "cell_type": "code",
   "execution_count": 6,
   "metadata": {},
   "outputs": [],
   "source": [
    "# another way to evaluate is\n",
    "with tf.Session() as sess:\n",
    "    x.initializer.run()\n",
    "    y.initializer.run()\n",
    "    result = f.eval()\n",
    "\n",
    "# inside with block the session is set as default session.\n",
    "# calling x.initializer.run() \n"
   ]
  },
  {
   "cell_type": "code",
   "execution_count": 8,
   "metadata": {},
   "outputs": [
    {
     "name": "stdout",
     "output_type": "stream",
     "text": [
      "42\n"
     ]
    }
   ],
   "source": [
    "# isntead of manually running the initialiser everytime\n",
    "# we can use tf.global_variables_initialiser\n",
    "\n",
    "\n",
    "init = tf.global_variables_initializer() # prepare init node\n",
    "\n",
    "with tf.Session() as sess:\n",
    "    init.run() # actual initialisation\n",
    "    result = f.eval()\n",
    "\n",
    "print(result)"
   ]
  },
  {
   "cell_type": "code",
   "execution_count": 9,
   "metadata": {},
   "outputs": [
    {
     "name": "stdout",
     "output_type": "stream",
     "text": [
      "42\n"
     ]
    }
   ],
   "source": [
    "# in jupyter notebook we can also use interactive session\n",
    "# as the default session\n",
    "\n",
    "sess = tf.InteractiveSession()\n",
    "init.run()\n",
    "result = f.eval()\n",
    "print(result)\n",
    "sess.close()"
   ]
  },
  {
   "cell_type": "code",
   "execution_count": 10,
   "metadata": {},
   "outputs": [
    {
     "data": {
      "text/plain": [
       "True"
      ]
     },
     "execution_count": 10,
     "metadata": {},
     "output_type": "execute_result"
    }
   ],
   "source": [
    "# any node created is automatically added to default graph\n",
    "\n",
    "x1 = tf.Variable(1)\n",
    "x1.graph is tf.get_default_graph()\n"
   ]
  },
  {
   "cell_type": "code",
   "execution_count": 11,
   "metadata": {},
   "outputs": [
    {
     "data": {
      "text/plain": [
       "True"
      ]
     },
     "execution_count": 11,
     "metadata": {},
     "output_type": "execute_result"
    }
   ],
   "source": [
    "# we can also reate multiple independent graph\n",
    "\n",
    "graph= tf.Graph()\n",
    "\n",
    "with graph.as_default():\n",
    "    x2 = tf.Variable(2)\n",
    "\n",
    "x2.graph is graph"
   ]
  },
  {
   "cell_type": "code",
   "execution_count": 12,
   "metadata": {},
   "outputs": [
    {
     "data": {
      "text/plain": [
       "False"
      ]
     },
     "execution_count": 12,
     "metadata": {},
     "output_type": "execute_result"
    }
   ],
   "source": [
    "x2.graph is tf.get_default_graph()"
   ]
  },
  {
   "cell_type": "code",
   "execution_count": 15,
   "metadata": {},
   "outputs": [],
   "source": [
    "# to reset thedefaultgraph\n",
    "tf.reset_default_graph()"
   ]
  },
  {
   "cell_type": "markdown",
   "metadata": {},
   "source": [
    "### Life cycle of a Node Value"
   ]
  },
  {
   "cell_type": "code",
   "execution_count": 17,
   "metadata": {},
   "outputs": [
    {
     "name": "stdout",
     "output_type": "stream",
     "text": [
      "10\n",
      "15\n"
     ]
    }
   ],
   "source": [
    "# tensorflow automaticlly determines the set of nodes \n",
    "# that it dpends on and it evaluates these nodes first\n",
    "\n",
    "w = tf.constant(3)\n",
    "x =  w + 2\n",
    "y = x + 5\n",
    "z = x * 3\n",
    "\n",
    "with tf.Session() as sess:\n",
    "    print(y.eval()) # w and x are automatically computed\n",
    "    print(z.eval())"
   ]
  },
  {
   "cell_type": "code",
   "execution_count": 18,
   "metadata": {},
   "outputs": [
    {
     "name": "stdout",
     "output_type": "stream",
     "text": [
      "10\n",
      "15\n"
     ]
    }
   ],
   "source": [
    "# for efficent run if we want to evaluate y and z \n",
    "# without evaluating x and w twice\n",
    "#we ask tf to evaluate bith y and z in just one graph\n",
    "\n",
    "with tf.Session() as sess:\n",
    "    y_val, z_val = sess.run([y,z])\n",
    "    print(y_val)\n",
    "    print(z_val)\n",
    "\n",
    "# in single process tensorflow multiple sessions do not share \n",
    "# any state, even ifthe reuse the saegraph"
   ]
  },
  {
   "cell_type": "markdown",
   "metadata": {},
   "source": [
    "### Linear Regression with Tensorflow"
   ]
  },
  {
   "cell_type": "code",
   "execution_count": null,
   "metadata": {},
   "outputs": [],
   "source": [
    "# tensorflow operation can take any number of inputs and produce\n",
    "# variables and constants need no input they are called source ops\n",
    "# the input anad outputs are multidimensional arrays called tensors\n",
    "# Python api tenosrs are just numpy ndarrays\n",
    "# linear regression on californiadataset"
   ]
  },
  {
   "cell_type": "code",
   "execution_count": 19,
   "metadata": {},
   "outputs": [],
   "source": [
    "import numpy as np\n",
    "from sklearn.datasets import fetch_california_housing\n",
    "\n",
    "housing = fetch_california_housing()\n",
    "m,n = housing.data.shape\n",
    "\n",
    "# we add an extra bias input feature (X0 =1) to all training instances\n",
    "# this is done by numpy no tensorflow involved\n",
    "housing_data_plus_bias = np.c_[np.ones((m,1)), housing.data]"
   ]
  },
  {
   "cell_type": "code",
   "execution_count": 22,
   "metadata": {},
   "outputs": [],
   "source": [
    "# now creating two constant nodes X and y and theta\n",
    "X = tf.constant(housing_data_plus_bias,dtype=tf.float32, name=\"X\")\n",
    "\n",
    "# we need to reshape y to calculate theta\n",
    "y = tf.constant(housing.target.reshape(-1,1), dtype=tf.float32, name=\"y\")\n",
    "XT = tf.transpose(X)\n",
    "\n",
    "# thsi is the normal equation for linear regression\n",
    "theta = tf.matmul(tf.matmul(tf.matrix_inverse(tf.matmul(XT,X)),XT), y)\n",
    "\n",
    "# session to evaluate theta\n",
    "with tf.Session() as sess:\n",
    "    theta_value = theta.eval()\n",
    "\n",
    "# the main benefit is that tensoforflow would computethis directly on your primary\n"
   ]
  },
  {
   "cell_type": "markdown",
   "metadata": {},
   "source": [
    "### gradient descent computation"
   ]
  },
  {
   "cell_type": "code",
   "execution_count": 23,
   "metadata": {},
   "outputs": [],
   "source": [
    "# implementing gradient descent\n",
    "\n",
    "# we can also use batch gradientdescent thatnt he normal equation\n",
    "# it is importnat to first normalize te input feature vectors\n",
    "# or training would be much slower\n",
    "# we can do it by numpy, tensorfow , scikit learn StandardSCaler\n",
    "\n",
    "from sklearn.preprocessing import StandardScaler\n",
    "\n",
    "scaled_housing_data_plus_bias = StandardScaler().fit_transform(housing_data_plus_bias)"
   ]
  },
  {
   "cell_type": "code",
   "execution_count": 25,
   "metadata": {},
   "outputs": [
    {
     "name": "stdout",
     "output_type": "stream",
     "text": [
      "[[ 0.          2.34476576  0.98214266  0.62855945 -0.15375759 -0.9744286\n",
      "  -0.04959654  1.05254828 -1.32783522]\n",
      " [ 0.          2.33223796 -0.60701891  0.32704136 -0.26333577  0.86143887\n",
      "  -0.09251223  1.04318455 -1.32284391]\n",
      " [ 0.          1.7826994   1.85618152  1.15562047 -0.04901636 -0.82077735\n",
      "  -0.02584253  1.03850269 -1.33282653]\n",
      " [ 0.          0.93296751  1.85618152  0.15696608 -0.04983292 -0.76602806\n",
      "  -0.0503293   1.03850269 -1.33781784]\n",
      " [ 0.         -0.012881    1.85618152  0.3447108  -0.03290586 -0.75984669\n",
      "  -0.08561576  1.03850269 -1.33781784]]\n"
     ]
    }
   ],
   "source": [
    "print(scaled_housing_data_plus_bias[:5][:5])"
   ]
  },
  {
   "cell_type": "code",
   "execution_count": 27,
   "metadata": {},
   "outputs": [],
   "source": [
    "# steps for gradient descent\n",
    "# 1. the random_uniform() function creates a node in the graph\n",
    "# to generate a tensorcontaining random values, given its shape and value range\n",
    "# like Numpy's rand() function\n",
    "\n",
    "n_epochs = 1000\n",
    "learning_rate = 0.01\n",
    "\n",
    "X = tf.constant(scaled_housing_data_plus_bias, dtype=tf.float32, name=\"X\")\n",
    "y = tf.constant(housing.target.reshape(-1,1), dtype=tf.float32, name=\"y\")\n",
    "\n",
    "theta = tf.Variable(tf.random_uniform([n + 1,1], -1.0,1.0), name=\"theta\")\n"
   ]
  },
  {
   "cell_type": "code",
   "execution_count": 28,
   "metadata": {},
   "outputs": [],
   "source": [
    "# 2. the assign function creates a node \n",
    "# this will assign a new value to tf.variable\n",
    "\n",
    "# predictions X . theta\n",
    "y_pred = tf.matmul(X,theta, name=\"predictions\")\n",
    "\n",
    "error = y_pred -y\n",
    "mse = tf.reduce_mean(tf.square(error),name=\"mse\")\n",
    "gradients = 2/m * tf.matmul(tf.transpose(X), error)\n",
    "\n",
    "# next op calculated\n",
    "training_op = tf.assign(theta,theta - learning_rate * gradients)\n",
    "\n"
   ]
  },
  {
   "cell_type": "code",
   "execution_count": 29,
   "metadata": {},
   "outputs": [
    {
     "name": "stdout",
     "output_type": "stream",
     "text": [
      "Epoch 0 MSE = 9.467428\n",
      "Epoch 100 MSE = 5.096341\n",
      "Epoch 200 MSE = 4.9982862\n",
      "Epoch 300 MSE = 4.9473033\n",
      "Epoch 400 MSE = 4.9104877\n",
      "Epoch 500 MSE = 4.8834043\n",
      "Epoch 600 MSE = 4.8634033\n",
      "Epoch 700 MSE = 4.8485866\n",
      "Epoch 800 MSE = 4.837575\n",
      "Epoch 900 MSE = 4.8293614\n"
     ]
    }
   ],
   "source": [
    "# The main loop executes the training sterp over and over and prints the\n",
    "# current mean squared error (mse)\n",
    "\n",
    "init = tf.global_variables_initializer()\n",
    "\n",
    "with tf.Session() as sess:\n",
    "    sess.run(init)\n",
    "    \n",
    "    for epoch in range(n_epochs):\n",
    "        if (epoch % 100 == 0):\n",
    "            print(\"Epoch\", epoch, \"MSE =\", mse.eval())\n",
    "        sess.run(training_op)\n",
    "        \n",
    "    best_theta = theta.eval()"
   ]
  },
  {
   "cell_type": "code",
   "execution_count": 30,
   "metadata": {},
   "outputs": [
    {
     "name": "stdout",
     "output_type": "stream",
     "text": [
      "[[-0.2949021 ]\n",
      " [ 0.86975557]\n",
      " [ 0.16850199]\n",
      " [-0.26238075]\n",
      " [ 0.2683621 ]\n",
      " [ 0.01307414]\n",
      " [-0.04439048]\n",
      " [-0.49952713]\n",
      " [-0.47103322]]\n"
     ]
    }
   ],
   "source": [
    "print(best_theta) # from gradients"
   ]
  },
  {
   "cell_type": "code",
   "execution_count": 32,
   "metadata": {},
   "outputs": [
    {
     "name": "stdout",
     "output_type": "stream",
     "text": [
      "[[-3.68901253e+01]\n",
      " [ 4.36643779e-01]\n",
      " [ 9.45042260e-03]\n",
      " [-1.07117996e-01]\n",
      " [ 6.43712580e-01]\n",
      " [-3.96291580e-06]\n",
      " [-3.78801115e-03]\n",
      " [-4.20931637e-01]\n",
      " [-4.34006572e-01]]\n"
     ]
    }
   ],
   "source": [
    "print(theta_value) # from normal equation"
   ]
  },
  {
   "cell_type": "markdown",
   "metadata": {},
   "source": [
    "### using autodiff"
   ]
  },
  {
   "cell_type": "code",
   "execution_count": 33,
   "metadata": {},
   "outputs": [],
   "source": [
    "# mathematically deriving values of cost function\n",
    "# is a big headache\n",
    "# you could use symbolic differentiation to automatically find the equations\n",
    "# for the partial derivatives for you\n",
    "# but its not efficient\n",
    "\n",
    "# for examplein this function\n",
    "def my_func(a,b):\n",
    "    z=0\n",
    "    for i in range(100):\n",
    "        z = a * np.cos(z + i) + z * np.sin(b - i)\n",
    "    return z\n"
   ]
  },
  {
   "cell_type": "code",
   "execution_count": 34,
   "metadata": {},
   "outputs": [],
   "source": [
    "# tensorflow autodiff can compute thte gradients \n",
    "gradients = tf.gradients(mse,[theta])[0]\n",
    "\n",
    "# gradients function takes an op (in this case mse) and\n",
    "# a list of varibles (in this case just theta)\n",
    "# and creates a list of ops (one per variable)\n",
    "# and computes gradients of the op with regards to\n",
    "# each variable so gradients node will compute the\n",
    "# gradient vector of the mse with regards to theta\n"
   ]
  },
  {
   "cell_type": "code",
   "execution_count": 36,
   "metadata": {},
   "outputs": [
    {
     "name": "stdout",
     "output_type": "stream",
     "text": [
      "Epoch 0 MSE = 9.54605\n",
      "Epoch 100 MSE = 4.924492\n",
      "Epoch 200 MSE = 4.822067\n",
      "Epoch 300 MSE = 4.8133245\n",
      "Epoch 400 MSE = 4.810294\n",
      "Epoch 500 MSE = 4.8083177\n",
      "Epoch 600 MSE = 4.8069057\n",
      "Epoch 700 MSE = 4.8058887\n",
      "Epoch 800 MSE = 4.805155\n",
      "Epoch 900 MSE = 4.8046255\n",
      "[[ 0.06252575]\n",
      " [ 0.80939484]\n",
      " [ 0.12736683]\n",
      " [-0.20410803]\n",
      " [ 0.24470128]\n",
      " [-0.00110729]\n",
      " [-0.0396236 ]\n",
      " [-0.85606456]\n",
      " [-0.8232432 ]]\n"
     ]
    }
   ],
   "source": [
    "# running the tf session once more with changing gradients\n",
    "\n",
    "init = tf.global_variables_initializer()\n",
    "\n",
    "with tf.Session() as sess:\n",
    "    sess.run(init)\n",
    "\n",
    "    for epoch in range(n_epochs):\n",
    "        if epoch % 100 == 0:\n",
    "            print(\"Epoch\", epoch,\"MSE =\", mse.eval())\n",
    "        sess.run(training_op)\n",
    "    best_theta = theta.eval()\n",
    "print(best_theta)\n",
    "\n",
    "# tensorflow uses reverse-mode autodiff \n",
    "# which is perfect when there are many inputs and fewer outputs\n"
   ]
  },
  {
   "cell_type": "markdown",
   "metadata": {},
   "source": [
    "### Using an Optimizer\n"
   ]
  },
  {
   "cell_type": "code",
   "execution_count": 37,
   "metadata": {},
   "outputs": [],
   "source": [
    "# tensoflow not only can compute gradients\n",
    "# but it also provides a number of optimizers out of box\n",
    "# gradient descent optimizer\n",
    "\n",
    "optimizer = tf.train.GradientDescentOptimizer(learning_rate=learning_rate)\n",
    "training_op = optimizer.minimize(mse)\n",
    "\n",
    "\n",
    "# if we want momentum optimizer\n",
    "optimizer = tf.train.MomentumOptimizer(learning_rate=learning_rate, momentum=0.9)"
   ]
  },
  {
   "cell_type": "markdown",
   "metadata": {},
   "source": [
    "### Ways to feed data into training algorithm"
   ]
  },
  {
   "cell_type": "code",
   "execution_count": 40,
   "metadata": {},
   "outputs": [
    {
     "name": "stdout",
     "output_type": "stream",
     "text": [
      "[[6. 7. 8.]]\n",
      "[[ 9. 10. 11.]\n",
      " [12. 13. 14.]]\n"
     ]
    }
   ],
   "source": [
    "# modifying the previous code to implement Mini-batch Gradient Descent\n",
    "# we need a way to replace X and y at every iteration\n",
    "# and next mini batch\n",
    "# we can use placeholder nodes\n",
    "# they don't perform any computation\n",
    "# they just outut the data you tellthem to output \n",
    "# at runtime\n",
    "# to create a placeholder node we need to call placeholder() function\n",
    "# and specify the output tensors data type\n",
    "# if we specify None for dimension it means any shape\n",
    "\n",
    "# creating a placeholder nde A \n",
    "# and a node B = A + 5\n",
    "# when evaluating B we pass a feed_dict to eval()\n",
    "# that specifies the value of A\n",
    "# A must be of rank 2\n",
    "# and there must be three columns ni it can have naynumber of rows\n",
    "\n",
    "A = tf.placeholder(tf.float32, shape=(None, 3))\n",
    "B = A + 5\n",
    "with tf.Session() as sess:\n",
    "    B_val_1 = B.eval(feed_dict={A : [[1,2,3]]})\n",
    "    B_val_2 = B.eval(feed_dict = {A: [[4,5,6],[7,8,9]]})\n",
    "\n",
    "    print(B_val_1)\n",
    "    print(B_val_2)"
   ]
  },
  {
   "cell_type": "code",
   "execution_count": 41,
   "metadata": {},
   "outputs": [],
   "source": [
    "# implementing mini bathc gradient descent\n",
    "# changin the definition of X and y in construction phase\n",
    "\n",
    "X = tf.placeholder(tf.float32, shape=(None,n+1), name=\"X\")\n",
    "y = tf.placeholder(tf.float32, shape=(None,1), name=\"y\")\n",
    "\n",
    "# defining batch size and computing the total number of batches\n",
    "\n",
    "batch_size = 100\n",
    "n_batches = int(np.ceil(m/batch_size))\n",
    "\n",
    "\n"
   ]
  },
  {
   "cell_type": "code",
   "execution_count": 45,
   "metadata": {},
   "outputs": [
    {
     "name": "stdout",
     "output_type": "stream",
     "text": [
      "[[ 0.06252575]\n",
      " [ 0.80939484]\n",
      " [ 0.12736683]\n",
      " [-0.20410803]\n",
      " [ 0.24470128]\n",
      " [-0.00110729]\n",
      " [-0.0396236 ]\n",
      " [-0.85606456]\n",
      " [-0.8232432 ]]\n"
     ]
    }
   ],
   "source": [
    "# execution [hase fetching the mini batches one by one then providing the value of X and y \n",
    "# through feed dict\n",
    "\n",
    "shuffled_indices = np.random.permutation(m)\n",
    "housing_X_shuffled = housing_data_plus_bias[shuffled_indices]\n",
    "housing_y_shuffled = housing.target[shuffled_indices]\n",
    "\n",
    "def fetch_batch(epoch, batch_index, batch_size):\n",
    "    # getting the data from disk\n",
    "    X_batch = housing_X_shuffled[epoch:epoch + batch_size]\n",
    "    y_batch = housing_y_shuffled[epoch:epoch + batch_size].reshape(-1,1)\n",
    "    \n",
    "    return X_batch,y_batch\n",
    "\n",
    "with tf.Session() as sess:\n",
    "    sess.run(init)\n",
    "    \n",
    "    for epoch in range(n_epochs):\n",
    "        for batch_index in range(n_batches):\n",
    "            X_batch, y_batch = fetch_batch(epoch, batch_index, batch_size)\n",
    "            sess.run(training_op, feed_dict={X:X_batch, y: y_batch})\n",
    "            \n",
    "    best_theta - theta.eval()\n",
    "\n",
    "print(best_theta)"
   ]
  },
  {
   "cell_type": "code",
   "execution_count": null,
   "metadata": {},
   "outputs": [],
   "source": [
    "# evaluate the code given in notebook"
   ]
  }
 ],
 "metadata": {
  "kernelspec": {
   "display_name": "Python (tf_gpu)",
   "language": "python",
   "name": "tf_gpu"
  },
  "language_info": {
   "codemirror_mode": {
    "name": "ipython",
    "version": 3
   },
   "file_extension": ".py",
   "mimetype": "text/x-python",
   "name": "python",
   "nbconvert_exporter": "python",
   "pygments_lexer": "ipython3",
   "version": "3.7.4"
  }
 },
 "nbformat": 4,
 "nbformat_minor": 2
}
