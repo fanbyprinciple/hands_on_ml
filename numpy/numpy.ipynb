{
 "cells": [
  {
   "cell_type": "code",
   "execution_count": 1,
   "metadata": {},
   "outputs": [],
   "source": [
    "import numpy as np"
   ]
  },
  {
   "cell_type": "code",
   "execution_count": 2,
   "metadata": {},
   "outputs": [
    {
     "data": {
      "text/plain": [
       "array([0., 0., 0., 0., 0.])"
      ]
     },
     "execution_count": 2,
     "metadata": {},
     "output_type": "execute_result"
    }
   ],
   "source": [
    "# np.zeros\n",
    "\n",
    "np.zeros(5)"
   ]
  },
  {
   "cell_type": "code",
   "execution_count": 4,
   "metadata": {},
   "outputs": [
    {
     "data": {
      "text/plain": [
       "array([[0., 0., 0., 0.],\n",
       "       [0., 0., 0., 0.],\n",
       "       [0., 0., 0., 0.]])"
      ]
     },
     "execution_count": 4,
     "metadata": {},
     "output_type": "execute_result"
    }
   ],
   "source": [
    "np.zeros((3,4))"
   ]
  },
  {
   "cell_type": "code",
   "execution_count": 5,
   "metadata": {},
   "outputs": [
    {
     "data": {
      "text/plain": [
       "array([[0., 0., 0., 0.],\n",
       "       [0., 0., 0., 0.],\n",
       "       [0., 0., 0., 0.]])"
      ]
     },
     "execution_count": 5,
     "metadata": {},
     "output_type": "execute_result"
    }
   ],
   "source": [
    "# in numpy eachdimension is called an axis\n",
    "# the number of axis is called the rank\n",
    "# shaoe is array list of axis lengths\n",
    "# size of array is product of all elngths\n",
    "\n",
    "a = np.zeros((3,4))\n",
    "a"
   ]
  },
  {
   "cell_type": "code",
   "execution_count": 6,
   "metadata": {},
   "outputs": [
    {
     "data": {
      "text/plain": [
       "(3, 4)"
      ]
     },
     "execution_count": 6,
     "metadata": {},
     "output_type": "execute_result"
    }
   ],
   "source": [
    "a.shape"
   ]
  },
  {
   "cell_type": "code",
   "execution_count": 7,
   "metadata": {},
   "outputs": [
    {
     "data": {
      "text/plain": [
       "2"
      ]
     },
     "execution_count": 7,
     "metadata": {},
     "output_type": "execute_result"
    }
   ],
   "source": [
    "a.ndim # number of dimension\n",
    "#  equivalent to len(a.shape)\n"
   ]
  },
  {
   "cell_type": "code",
   "execution_count": 8,
   "metadata": {},
   "outputs": [
    {
     "data": {
      "text/plain": [
       "12"
      ]
     },
     "execution_count": 8,
     "metadata": {},
     "output_type": "execute_result"
    }
   ],
   "source": [
    "a.size"
   ]
  },
  {
   "cell_type": "code",
   "execution_count": 9,
   "metadata": {},
   "outputs": [
    {
     "data": {
      "text/plain": [
       "array([[[0., 0., 0., 0.],\n",
       "        [0., 0., 0., 0.],\n",
       "        [0., 0., 0., 0.]],\n",
       "\n",
       "       [[0., 0., 0., 0.],\n",
       "        [0., 0., 0., 0.],\n",
       "        [0., 0., 0., 0.]]])"
      ]
     },
     "execution_count": 9,
     "metadata": {},
     "output_type": "execute_result"
    }
   ],
   "source": [
    "# N dimensional array\n",
    "\n",
    "np.zeros((2,3,4))"
   ]
  },
  {
   "cell_type": "code",
   "execution_count": 10,
   "metadata": {
    "scrolled": true
   },
   "outputs": [
    {
     "data": {
      "text/plain": [
       "numpy.ndarray"
      ]
     },
     "execution_count": 10,
     "metadata": {},
     "output_type": "execute_result"
    }
   ],
   "source": [
    "type(np.zeros((3,4)))"
   ]
  },
  {
   "cell_type": "code",
   "execution_count": 11,
   "metadata": {},
   "outputs": [
    {
     "data": {
      "text/plain": [
       "array([[1., 1., 1., 1.],\n",
       "       [1., 1., 1., 1.],\n",
       "       [1., 1., 1., 1.]])"
      ]
     },
     "execution_count": 11,
     "metadata": {},
     "output_type": "execute_result"
    }
   ],
   "source": [
    "# np.ones\n",
    "\n",
    "np.ones((3,4))"
   ]
  },
  {
   "cell_type": "code",
   "execution_count": 12,
   "metadata": {},
   "outputs": [
    {
     "data": {
      "text/plain": [
       "array([[3.14159265, 3.14159265, 3.14159265, 3.14159265],\n",
       "       [3.14159265, 3.14159265, 3.14159265, 3.14159265],\n",
       "       [3.14159265, 3.14159265, 3.14159265, 3.14159265]])"
      ]
     },
     "execution_count": 12,
     "metadata": {},
     "output_type": "execute_result"
    }
   ],
   "source": [
    "#np.full\n",
    "# matrix initialised with an arbitrary value\n",
    "\n",
    "np.full((3,4), np.pi)"
   ]
  },
  {
   "cell_type": "code",
   "execution_count": 13,
   "metadata": {},
   "outputs": [
    {
     "data": {
      "text/plain": [
       "array([[0., 0., 0.],\n",
       "       [0., 0., 0.]])"
      ]
     },
     "execution_count": 13,
     "metadata": {},
     "output_type": "execute_result"
    }
   ],
   "source": [
    "#np.empty\n",
    "# contents is not predictable\n",
    "# whateversi in the memory\n",
    "\n",
    "np.empty((2,3))"
   ]
  },
  {
   "cell_type": "code",
   "execution_count": 14,
   "metadata": {},
   "outputs": [
    {
     "data": {
      "text/plain": [
       "array([[ 1,  2,  3,  4],\n",
       "       [10, 20, 30, 40]])"
      ]
     },
     "execution_count": 14,
     "metadata": {},
     "output_type": "execute_result"
    }
   ],
   "source": [
    "# np.array\n",
    "# initialising the ndarray using a regular pythonarray\n",
    "\n",
    "np.array([[1,2,3,4], [10,20,30,40]])"
   ]
  },
  {
   "cell_type": "code",
   "execution_count": 15,
   "metadata": {},
   "outputs": [
    {
     "data": {
      "text/plain": [
       "array([1, 2, 3, 4])"
      ]
     },
     "execution_count": 15,
     "metadata": {},
     "output_type": "execute_result"
    }
   ],
   "source": [
    "# np.arange\n",
    "\n",
    "np.arange(1,5)"
   ]
  },
  {
   "cell_type": "code",
   "execution_count": 16,
   "metadata": {},
   "outputs": [
    {
     "data": {
      "text/plain": [
       "array([1., 2., 3., 4.])"
      ]
     },
     "execution_count": 16,
     "metadata": {},
     "output_type": "execute_result"
    }
   ],
   "source": [
    "np.arange(1.0,5.0)"
   ]
  },
  {
   "cell_type": "code",
   "execution_count": 17,
   "metadata": {},
   "outputs": [
    {
     "data": {
      "text/plain": [
       "array([1.3, 1.5, 1.7, 1.9, 2.1, 2.3, 2.5])"
      ]
     },
     "execution_count": 17,
     "metadata": {},
     "output_type": "execute_result"
    }
   ],
   "source": [
    "np.arange(1.3,2.7,0.2)"
   ]
  },
  {
   "cell_type": "code",
   "execution_count": 18,
   "metadata": {},
   "outputs": [
    {
     "name": "stdout",
     "output_type": "stream",
     "text": [
      "[0.         0.33333333 0.66666667 1.         1.33333333 1.66666667]\n"
     ]
    }
   ],
   "source": [
    "print(np.arange(0,5/3,1/3))\n"
   ]
  },
  {
   "cell_type": "code",
   "execution_count": 20,
   "metadata": {},
   "outputs": [
    {
     "name": "stdout",
     "output_type": "stream",
     "text": [
      "[0.        0.3333334 0.6666668 1.0000002 1.3333336]\n"
     ]
    }
   ],
   "source": [
    "print(np.arange(0, 5/3, 0.3333334))"
   ]
  },
  {
   "cell_type": "code",
   "execution_count": 23,
   "metadata": {},
   "outputs": [
    {
     "name": "stdout",
     "output_type": "stream",
     "text": [
      "[0.         0.33333333 0.66666667 1.         1.33333333 1.66666667]\n"
     ]
    }
   ],
   "source": [
    "# np.linspace\n",
    "print(np.linspace(0,5/3, 6))\n",
    "# print eqaully distributed 6 values between them including the max value"
   ]
  },
  {
   "cell_type": "code",
   "execution_count": 24,
   "metadata": {},
   "outputs": [
    {
     "data": {
      "text/plain": [
       "array([[0.0817939 , 0.32357444, 0.07865011, 0.57903169],\n",
       "       [0.6953992 , 0.90998905, 0.92645236, 0.14254273],\n",
       "       [0.43154245, 0.14998356, 0.84853744, 0.71069717]])"
      ]
     },
     "execution_count": 24,
     "metadata": {},
     "output_type": "execute_result"
    }
   ],
   "source": [
    "np.random.rand(3,4)\n",
    "# initialise witha random value"
   ]
  },
  {
   "cell_type": "code",
   "execution_count": 25,
   "metadata": {
    "scrolled": true
   },
   "outputs": [
    {
     "data": {
      "text/plain": [
       "array([[-0.98086417,  0.86781931, -0.39958187,  0.74422299],\n",
       "       [-1.95441238,  0.12658309,  0.19031965,  0.38470958],\n",
       "       [ 1.85921556, -0.16127306,  1.23479292,  0.60868244]])"
      ]
     },
     "execution_count": 25,
     "metadata": {},
     "output_type": "execute_result"
    }
   ],
   "source": [
    "np.random.randn(3,4)\n",
    "# prints floats sampled from univariate normaldistribution ofmean 0 and variance 1"
   ]
  },
  {
   "cell_type": "code",
   "execution_count": 26,
   "metadata": {},
   "outputs": [],
   "source": [
    "%matplotlib inline\n",
    "import matplotlib.pyplot as plt"
   ]
  },
  {
   "cell_type": "code",
   "execution_count": 29,
   "metadata": {
    "scrolled": false
   },
   "outputs": [
    {
     "name": "stderr",
     "output_type": "stream",
     "text": [
      "C:\\installs\\Anaconda\\envs\\tf_gpu\\lib\\site-packages\\ipykernel_launcher.py:1: MatplotlibDeprecationWarning: \n",
      "The 'normed' kwarg was deprecated in Matplotlib 2.1 and will be removed in 3.1. Use 'density' instead.\n",
      "  \"\"\"Entry point for launching an IPython kernel.\n",
      "C:\\installs\\Anaconda\\envs\\tf_gpu\\lib\\site-packages\\ipykernel_launcher.py:2: MatplotlibDeprecationWarning: \n",
      "The 'normed' kwarg was deprecated in Matplotlib 2.1 and will be removed in 3.1. Use 'density' instead.\n",
      "  \n"
     ]
    },
    {
     "data": {
      "text/plain": [
       "(array([1.15914234e-04, 1.15914234e-04, 3.47742702e-04, 2.31828468e-04,\n",
       "        0.00000000e+00, 4.63656936e-04, 8.11399638e-04, 5.79571170e-04,\n",
       "        1.15914234e-03, 1.15914234e-03, 9.27313872e-04, 1.73871351e-03,\n",
       "        2.43419892e-03, 3.82516972e-03, 6.25936864e-03, 6.83893981e-03,\n",
       "        1.04322811e-02, 1.02004526e-02, 1.55325074e-02, 1.37937939e-02,\n",
       "        2.36465037e-02, 2.86308158e-02, 3.34992136e-02, 3.83676115e-02,\n",
       "        5.16977484e-02, 5.54070039e-02, 7.37214529e-02, 7.81261938e-02,\n",
       "        9.23836445e-02, 1.07104752e-01, 1.13364121e-01, 1.33417283e-01,\n",
       "        1.48486134e-01, 1.81521691e-01, 2.00763453e-01, 2.13398105e-01,\n",
       "        2.36928694e-01, 2.49679260e-01, 2.69616508e-01, 2.85960415e-01,\n",
       "        3.20850600e-01, 3.36962678e-01, 3.55277127e-01, 3.53306585e-01,\n",
       "        3.87501284e-01, 3.84719343e-01, 4.00135936e-01, 3.80198688e-01,\n",
       "        3.87964941e-01, 4.09061332e-01, 3.88196770e-01, 3.84255686e-01,\n",
       "        3.85762571e-01, 3.68027693e-01, 3.41019677e-01, 3.36267193e-01,\n",
       "        3.10534233e-01, 2.95581297e-01, 2.65907253e-01, 2.50142917e-01,\n",
       "        2.28235127e-01, 2.18730160e-01, 1.85810517e-01, 1.68771125e-01,\n",
       "        1.55788731e-01, 1.40603966e-01, 1.21478117e-01, 1.08843466e-01,\n",
       "        8.75152467e-02, 7.51124237e-02, 6.07390586e-02, 5.77252886e-02,\n",
       "        4.10336389e-02, 3.98744965e-02, 3.14127574e-02, 2.99058724e-02,\n",
       "        2.12123048e-02, 1.98213340e-02, 1.42574508e-02, 1.25187373e-02,\n",
       "        8.92539602e-03, 7.18668251e-03, 5.44796900e-03, 5.21614053e-03,\n",
       "        3.12968432e-03, 2.08645621e-03, 1.04322811e-03, 4.63656936e-04,\n",
       "        9.27313872e-04, 8.11399638e-04, 4.63656936e-04, 3.47742702e-04,\n",
       "        4.63656936e-04, 4.63656936e-04, 0.00000000e+00, 2.31828468e-04,\n",
       "        1.15914234e-04, 2.31828468e-04, 0.00000000e+00, 1.15914234e-04]),\n",
       " array([-4.180635  , -4.09436432, -4.00809364, -3.92182296, -3.83555227,\n",
       "        -3.74928159, -3.66301091, -3.57674023, -3.49046955, -3.40419886,\n",
       "        -3.31792818, -3.2316575 , -3.14538682, -3.05911614, -2.97284546,\n",
       "        -2.88657477, -2.80030409, -2.71403341, -2.62776273, -2.54149205,\n",
       "        -2.45522136, -2.36895068, -2.28268   , -2.19640932, -2.11013864,\n",
       "        -2.02386796, -1.93759727, -1.85132659, -1.76505591, -1.67878523,\n",
       "        -1.59251455, -1.50624387, -1.41997318, -1.3337025 , -1.24743182,\n",
       "        -1.16116114, -1.07489046, -0.98861977, -0.90234909, -0.81607841,\n",
       "        -0.72980773, -0.64353705, -0.55726637, -0.47099568, -0.384725  ,\n",
       "        -0.29845432, -0.21218364, -0.12591296, -0.03964227,  0.04662841,\n",
       "         0.13289909,  0.21916977,  0.30544045,  0.39171113,  0.47798182,\n",
       "         0.5642525 ,  0.65052318,  0.73679386,  0.82306454,  0.90933522,\n",
       "         0.99560591,  1.08187659,  1.16814727,  1.25441795,  1.34068863,\n",
       "         1.42695932,  1.51323   ,  1.59950068,  1.68577136,  1.77204204,\n",
       "         1.85831272,  1.94458341,  2.03085409,  2.11712477,  2.20339545,\n",
       "         2.28966613,  2.37593682,  2.4622075 ,  2.54847818,  2.63474886,\n",
       "         2.72101954,  2.80729022,  2.89356091,  2.97983159,  3.06610227,\n",
       "         3.15237295,  3.23864363,  3.32491431,  3.411185  ,  3.49745568,\n",
       "         3.58372636,  3.66999704,  3.75626772,  3.84253841,  3.92880909,\n",
       "         4.01507977,  4.10135045,  4.18762113,  4.27389181,  4.3601625 ,\n",
       "         4.44643318]),\n",
       " <a list of 1 Patch objects>)"
      ]
     },
     "execution_count": 29,
     "metadata": {},
     "output_type": "execute_result"
    },
    {
     "data": {
      "image/png": "[encoded data removed]",
      "text/plain": [
       "<Figure size 432x288 with 1 Axes>"
      ]
     },
     "metadata": {
      "needs_background": "light"
     },
     "output_type": "display_data"
    }
   ],
   "source": [
    "plt.hist(np.random.rand(100000), normed=True,bins=100,histtype=\"step\", color=\"blue\", label=\"rand\")\n",
    "plt.hist(np.random.randn(100000), normed=True,bins=100, histtype=\"step\",color=\"red\", label=\"randn\")"
   ]
  },
  {
   "cell_type": "code",
   "execution_count": null,
   "metadata": {},
   "outputs": [],
   "source": [
    "# initialising numpy from a function\n"
   ]
  }
 ],
 "metadata": {
  "kernelspec": {
   "display_name": "Python (tf_gpu)",
   "language": "python",
   "name": "tf_gpu"
  },
  "language_info": {
   "codemirror_mode": {
    "name": "ipython",
    "version": 3
   },
   "file_extension": ".py",
   "mimetype": "text/x-python",
   "name": "python",
   "nbconvert_exporter": "python",
   "pygments_lexer": "ipython3",
   "version": "3.7.4"
  }
 },
 "nbformat": 4,
 "nbformat_minor": 2
}
