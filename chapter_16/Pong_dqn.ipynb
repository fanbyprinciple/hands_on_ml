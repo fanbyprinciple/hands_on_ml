{
 "cells": [
  {
   "cell_type": "markdown",
   "metadata": {},
   "source": [
    "## explore the environment"
   ]
  },
  {
   "cell_type": "code",
   "execution_count": 1,
   "metadata": {},
   "outputs": [],
   "source": [
    "import gym\n",
    "\n",
    "env = gym.make('Pong-v0')\n",
    "obs = env.reset()"
   ]
  },
  {
   "cell_type": "code",
   "execution_count": 2,
   "metadata": {},
   "outputs": [
    {
     "data": {
      "text/plain": [
       "(210, 160, 3)"
      ]
     },
     "execution_count": 2,
     "metadata": {},
     "output_type": "execute_result"
    }
   ],
   "source": [
    "obs.shape"
   ]
  },
  {
   "cell_type": "code",
   "execution_count": 3,
   "metadata": {},
   "outputs": [
    {
     "data": {
      "text/plain": [
       "Discrete(6)"
      ]
     },
     "execution_count": 3,
     "metadata": {},
     "output_type": "execute_result"
    }
   ],
   "source": [
    "env.action_space"
   ]
  },
  {
   "cell_type": "code",
   "execution_count": 4,
   "metadata": {},
   "outputs": [],
   "source": [
    "import numpy as np\n",
    "import tensorflow as tf\n",
    "import matplotlib.pyplot as plt"
   ]
  },
  {
   "cell_type": "code",
   "execution_count": 5,
   "metadata": {},
   "outputs": [],
   "source": [
    "from IPython import display\n",
    "%matplotlib inline\n",
    "\n",
    "def plot_animation(frames, repeat=False, interval=40):\n",
    "    plt.close()\n",
    "    fig = plt.figure()\n",
    "    for f in frames:\n",
    "        plt.imshow(f)\n",
    "        plt.axis('off')\n",
    "        display.display(plt.gcf())\n",
    "        display.clear_output(wait=True)"
   ]
  },
  {
   "cell_type": "code",
   "execution_count": 9,
   "metadata": {},
   "outputs": [],
   "source": [
    "\"\"\"\n",
    "We see the observation space is a 210x160 RGB image. \n",
    "The action space is a Discrete(6) space with 6 different actions: actions 0 and 1 do nothing, actions 2 and 4 move the paddle up, and finally actions 3 and 5 move the paddle down. \n",
    "The paddle is free to move immediately but the ball does not appear until after 18 steps into the episode.\n",
    "\"\"\"\n",
    "\n",
    "# the first argument is a function that takes the curent iteration and produces\n",
    "# an action for the agent to takethe currentiteration and produce an action\n",
    "# for the agent to take\n",
    "\n",
    "def run_episode(policy, n_max_steps=1000, frames_per_action=1):\n",
    "    obs = env.reset()\n",
    "    frames = []\n",
    "    for i in range(n_max_steps):\n",
    "        obs, reward, done, info = env.step(policy(obs,i))\n",
    "        frames.append(env.render(mode='rgb_array'))\n",
    "        if done:\n",
    "            break\n",
    "    return frames\n",
    "    "
   ]
  },
  {
   "cell_type": "code",
   "execution_count": 10,
   "metadata": {},
   "outputs": [
    {
     "data": {
      "image/png": "[encoded data removed]",
      "text/plain": [
       "<Figure size 432x288 with 1 Axes>"
      ]
     },
     "metadata": {
      "needs_background": "light"
     },
     "output_type": "display_data"
    }
   ],
   "source": [
    "frames = run_episode(lambda obs, i: np.random.randint(0,5))\n",
    "\n",
    "plot_animation(frames)\n",
    "# try:\n",
    "#     run_episode(lambda obs, i: np.random.randint(0,5))\n",
    "# except Exception as e:\n",
    "#     print(e)"
   ]
  },
  {
   "cell_type": "code",
   "execution_count": 11,
   "metadata": {},
   "outputs": [],
   "source": [
    "\"\"\"\n",
    "\n",
    " let's write a preprocessing function to scale down the input state.\n",
    " Since a single observation does not tell us about the ball's velocity, \n",
    " we will also need to combine multiple observations into a single state. \n",
    " Below is the preprocessing code for this environment. \n",
    " The preprocessing algorithm is two-fold:\n",
    "\n",
    "    Convert the image in the observation to an image to only black and white\n",
    "    and scale it down to 80x80 pixels.\n",
    "\n",
    "    Combine 3 observations into a single state which depicts the \n",
    "    velocity of the paddles and the ball.\n",
    "\n",
    "\"\"\"\n",
    "\n",
    "green_paddle_color = (92, 186, 92)\n",
    "red_paddle_color = (213, 130, 74)\n",
    "background_color = (144, 72, 17)\n",
    "ball_color = (236, 236, 236)\n",
    "\n",
    "def preprocess_observation(obs):\n",
    "    img = obs[34:194:2, ::2].reshape(-1,3)\n",
    "    tmp = np.full(shape=(80*80),fill_value=0.0,dtype=np.float32)\n",
    "    for i, c in enumerate(img):\n",
    "        c = tuple(c)\n",
    "        if c in {green_paddle_color, red_paddle_color,ball_color}:\n",
    "            tmp[i] = 1.0\n",
    "        else:\n",
    "            tmp[i] = 0.0\n",
    "    return tmp.reshape(80, 80)"
   ]
  },
  {
   "cell_type": "code",
   "execution_count": 12,
   "metadata": {
    "scrolled": false
   },
   "outputs": [
    {
     "data": {
      "image/png": "[encoded data removed]",
      "text/plain": [
       "<Figure size 792x504 with 2 Axes>"
      ]
     },
     "metadata": {
      "needs_background": "light"
     },
     "output_type": "display_data"
    }
   ],
   "source": [
    "obs = env.reset()\n",
    "for _ in range(25):\n",
    "    obs, _,_, _ = env.step(0)\n",
    "\n",
    "plt.figure(figsize=(11,7))\n",
    "plt.subplot(121)\n",
    "plt.title('Original observation (160 x 210 RGB)')\n",
    "plt.imshow(obs)\n",
    "plt.axis('off')\n",
    "plt.subplot(122)\n",
    "plt.title('Preprocessed observation (80x 80 grayscale)')\n",
    "plt.imshow(preprocess_observation(obs), interpolation='nearest',cmap='gray')\n",
    "plt.axis('off')\n",
    "plt.show()\n"
   ]
  },
  {
   "cell_type": "code",
   "execution_count": 13,
   "metadata": {},
   "outputs": [],
   "source": [
    "def combine_observations(preprocess_observations,dim_factor=0.75):\n",
    "    dimmed = [obs * (dim_factor ** idx)\n",
    "              for idx, obs in enumerate(reversed(preprocess_observations))]\n",
    "    return np.max(np.array(dimmed), axis=0)\n"
   ]
  },
  {
   "cell_type": "code",
   "execution_count": 14,
   "metadata": {
    "scrolled": false
   },
   "outputs": [
    {
     "data": {
      "image/png": "[encoded data removed]",
      "text/plain": [
       "<Figure size 432x432 with 1 Axes>"
      ]
     },
     "metadata": {
      "needs_background": "light"
     },
     "output_type": "display_data"
    }
   ],
   "source": [
    "n_observations_per_state = 3\n",
    "\n",
    "obs = env.reset()\n",
    "for _ in range(20):\n",
    "    obs, _, _, _ = env.step(0)\n",
    "\n",
    "preprocess_observations = []\n",
    "for _ in range(n_observations_per_state):\n",
    "    obs, _, _, _ = env.step(2)\n",
    "    preprocess_observations.append(preprocess_observation(obs))\n",
    "\n",
    "img = combine_observations(preprocess_observations)\n",
    "\n",
    "plt.figure(figsize=(6,6))\n",
    "plt.title('Combined observations as a single state')\n",
    "plt.imshow(img, interpolation='nearest',cmap='gray')\n",
    "plt.axis('off')\n",
    "plt.show()"
   ]
  },
  {
   "cell_type": "code",
   "execution_count": 15,
   "metadata": {},
   "outputs": [
    {
     "name": "stderr",
     "output_type": "stream",
     "text": [
      "WARNING: Logging before flag parsing goes to stderr.\n",
      "W0701 06:36:03.550806  9840 lazy_loader.py:50] \n",
      "The TensorFlow contrib module will not be included in TensorFlow 2.0.\n",
      "For more information, please see:\n",
      "  * https://github.com/tensorflow/community/blob/master/rfcs/20180907-contrib-sunset.md\n",
      "  * https://github.com/tensorflow/addons\n",
      "  * https://github.com/tensorflow/io (for I/O related ops)\n",
      "If you depend on functionality not listed there, please file an issue.\n",
      "\n"
     ]
    }
   ],
   "source": [
    "\"\"\"\n",
    "Now we are going to build the DQN. \n",
    "Like the DQN for Pac-Man, \n",
    "this model will train 3 convolutional layers,\n",
    "then a hidden fully connected layer,\n",
    "then finally a fully connected layer with 6 neurons, \n",
    "one representing each possible output\n",
    "\"\"\"\n",
    "\n",
    "tf.reset_default_graph()\n",
    "tf.set_random_seed(42)\n",
    "np.random.seed(42)\n",
    "\n",
    "input_width = 80\n",
    "input_height = 80\n",
    "input_channels = 1\n",
    "\n",
    "conv_n_maps = [32, 64, 64]\n",
    "conv_kernel_sizes = [9, 5, 3]\n",
    "conv_kernel_strides = [4, 2, 1]\n",
    "conv_paddings = ['VALID'] *3\n",
    "conv_activation = [tf.nn.relu] * 3\n",
    "\n",
    "n_hidden_in = 5 * 5 * 64\n",
    "n_hidden = 512\n",
    "hidden_activation = tf.nn.relu\n",
    "n_outputs = env.action_space.n\n",
    "\n",
    "he_init = tf.contrib.layers.variance_scaling_initializer()\n"
   ]
  },
  {
   "cell_type": "code",
   "execution_count": 16,
   "metadata": {},
   "outputs": [],
   "source": [
    "\"\"\"\n",
    "This model will use two DQNs,\n",
    "an online DQN and a target DQN. \n",
    "The online DQN learns new parameters at each training step.\n",
    "The target DQN is used to compute the target Q-Values \n",
    "for the online DQN's loss function during training. \n",
    "The online DQN's parameters are copied to the target\n",
    "DQN at regular intervals.\n",
    "\"\"\"\n",
    "\n",
    "def q_network(X_state, name):\n",
    "    prev_layer = X_state\n",
    "    with tf.variable_scope(name) as scope:\n",
    "        for n_maps, kernel_size, strides, padding, activation in zip(\n",
    "                conv_n_maps, conv_kernel_sizes, conv_kernel_strides, conv_paddings,\n",
    "                conv_activation):\n",
    "            prev_layer = tf.layers.conv2d(prev_layer,filters=n_maps,\n",
    "                                          kernel_size=kernel_size,\n",
    "                                          strides=strides,padding=padding,\n",
    "                                          kernel_initializer=he_init,activation=activation)\n",
    "        flattened = tf.reshape(prev_layer, [-1, n_hidden_in])\n",
    "        hidden = tf.layers.dense(flattened, n_hidden,\n",
    "                                 activation=hidden_activation,\n",
    "                                 kernel_initializer=he_init)\n",
    "        outputs = tf.layers.dense(hidden, n_outputs, kernel_initializer=he_init)\n",
    "    trainable_vars = tf.get_collection(tf.GraphKeys.TRAINABLE_VARIABLES,\n",
    "                                         scope=scope.name)\n",
    "    trainable_vars_by_name = {var.name[len(scope.name):]:var for var in trainable_vars}\n",
    "    return outputs, trainable_vars_by_name"
   ]
  },
  {
   "cell_type": "code",
   "execution_count": 17,
   "metadata": {
    "scrolled": false
   },
   "outputs": [
    {
     "name": "stderr",
     "output_type": "stream",
     "text": [
      "W0701 06:36:05.777945  9840 deprecation.py:323] From <ipython-input-16-a3fbd879d20f>:20: conv2d (from tensorflow.python.layers.convolutional) is deprecated and will be removed in a future version.\n",
      "Instructions for updating:\n",
      "Use `tf.keras.layers.Conv2D` instead.\n",
      "W0701 06:36:05.778944  9840 deprecation.py:323] From C:\\installs\\Anaconda\\envs\\tf_gpu\\lib\\site-packages\\tensorflow_core\\python\\layers\\convolutional.py:424: Layer.apply (from tensorflow.python.keras.engine.base_layer) is deprecated and will be removed in a future version.\n",
      "Instructions for updating:\n",
      "Please use `layer.__call__` method instead.\n",
      "W0701 06:36:05.829783  9840 deprecation.py:323] From <ipython-input-16-a3fbd879d20f>:24: dense (from tensorflow.python.layers.core) is deprecated and will be removed in a future version.\n",
      "Instructions for updating:\n",
      "Use keras.layers.Dense instead.\n"
     ]
    }
   ],
   "source": [
    "# starting DQN definition\n",
    "\n",
    "X_state = tf.placeholder(tf.float32, shape=(None, input_height, input_width, input_channels))\n",
    "online_q_values, online_vars = q_network(X_state, 'q_networks/online')\n",
    "target_q_values, target_vars = q_network(X_state, 'q_networks/target')\n",
    "copy_ops = [var.assign(online_vars[name]) for name,var in target_vars.items()]\n",
    "copy_online_to_target = tf.group(*copy_ops)"
   ]
  },
  {
   "cell_type": "code",
   "execution_count": 18,
   "metadata": {},
   "outputs": [],
   "source": [
    "#defining traning objective\n",
    "\n",
    "learning_rate = 1e-3\n",
    "momentum = 0.95\n",
    "\n",
    "with tf.variable_scope('training') as scope:\n",
    "    X_action = tf.placeholder(tf.int32, shape=(None,))\n",
    "    y = tf.placeholder(tf.float32, shape=(None, 1))\n",
    "    Q_target = tf.reduce_sum(online_q_values * tf.one_hot(X_action, n_outputs),\n",
    "                             axis=1, keepdims=True)\n",
    "    error = tf.abs(y- Q_target)\n",
    "    loss = tf.reduce_mean(tf.square(error))\n",
    "    \n",
    "    global_step = tf.Variable(0, trainable=False, name='global_step')\n",
    "    optimizer = tf.train.MomentumOptimizer(learning_rate, momentum, use_nesterov=True)\n",
    "    \n",
    "    training_op = optimizer.minimize(loss, global_step=global_step)"
   ]
  },
  {
   "cell_type": "code",
   "execution_count": 19,
   "metadata": {},
   "outputs": [],
   "source": [
    "init = tf.global_variables_initializer()\n",
    "saver = tf.train.Saver()"
   ]
  },
  {
   "cell_type": "code",
   "execution_count": 20,
   "metadata": {},
   "outputs": [],
   "source": [
    "\"\"\"\n",
    "This model will sample past experiences from a _Replay Memory_, this will hopefully help the model learn what higher level patterns to pay attention to to find the right action. It also reduces the chance that the model's behavior gets too correlated to it's most recent experiences.\n",
    "\n",
    "The replay memory will store its data in the kernel's memory.\n",
    "\n",
    "\"\"\"\n",
    "\n",
    "class ReplayMemory(object):\n",
    "    def __init__(self, maxlen):\n",
    "        self.maxlen = maxlen\n",
    "        self.buf = np.empty(shape=maxlen, dtype=np.object)\n",
    "        self.index = 0\n",
    "        self.length  = 0\n",
    "    \n",
    "    def append(self, data):\n",
    "        self.buf[self.index] = data\n",
    "        self.index += 1\n",
    "        self.index %= self.maxlen\n",
    "        self.length = min(self.length + 1, self.maxlen)\n",
    "    \n",
    "    def sample(self, batch_size):\n",
    "        return self.buf[np.random.randint(self.length, size=batch_size)]"
   ]
  },
  {
   "cell_type": "code",
   "execution_count": 21,
   "metadata": {},
   "outputs": [],
   "source": [
    "replay_size = 200000\n",
    "replay_memory = ReplayMemory(replay_size)"
   ]
  },
  {
   "cell_type": "code",
   "execution_count": 22,
   "metadata": {},
   "outputs": [],
   "source": [
    "def sample_memories(batch_size):\n",
    "    cols = [[], [], [], []]\n",
    "    for memory in replay_memory.sample(batch_size):\n",
    "        for col, value in zip(cols, memory):\n",
    "            col.append(value)\n",
    "    cols = [np.array(col) for col in cols]\n",
    "    return cols[0], cols[1], cols[2].reshape(-1,1), cols[3], cols[4].reshape(-1,1)"
   ]
  },
  {
   "cell_type": "code",
   "execution_count": 23,
   "metadata": {},
   "outputs": [],
   "source": [
    "\"\"\"\n",
    "Now let's define the model's policy during training. \n",
    "Just like in MsPacMan.ipynb, we will use an 𝜀-greedy policy.\n",
    "\"\"\"\n",
    "\n",
    "eps_min = 0.1\n",
    "eps_max = 1.0\n",
    "eps_decay_steps = 6000000\n",
    "\n",
    "def epsilon_greedy(q_values, step):\n",
    "    epsilon = min(eps_min,\n",
    "                  eps_max- ((eps_max - eps_min) * (step/eps_decay_steps)))\n",
    "    if np.random.random() < epsilon:\n",
    "        return np.random.randint(n_outputs)\n",
    "    return np.argmax(q_values)"
   ]
  },
  {
   "cell_type": "code",
   "execution_count": 24,
   "metadata": {},
   "outputs": [],
   "source": [
    "\"\"\"\n",
    "Now we will train the model to play some Pong.\n",
    "The model will input an action once every 3 frames.\n",
    "The preprocessing functions defined above will use the 3 frames \n",
    "to compute the state the model will use to \n",
    "\"\"\"\n",
    "\n",
    "n_steps = 10000000\n",
    "training_start = 100000\n",
    "training_interval = 4\n",
    "save_steps = 1000\n",
    "copy_steps = 10000\n",
    "dsicount_rate =0.95\n",
    "skip_start = 20\n",
    "batch_size =50\n",
    "iteration = 0\n",
    "done = True\n",
    "# to reset the environment at the start\n",
    "\n",
    "loss_val = np.infty\n",
    "game_length = 0\n",
    "total_max_q = 0.0\n",
    "mean_max_q = 0.0\n",
    "\n",
    "checkpoint_path = \"./pong_dqn.ckpt\""
   ]
  },
  {
   "cell_type": "code",
   "execution_count": 25,
   "metadata": {},
   "outputs": [],
   "source": [
    "# utility function to get the environment state for the model\n",
    "\n",
    "def perform_action(action):\n",
    "    preprocess_observations = []\n",
    "    total_reward = 0.0\n",
    "    for i in range(3):\n",
    "        obs, reward,done,info = env.step(action)\n",
    "        total_reward += reward\n",
    "        if done:\n",
    "            for _ in range(i,3):\n",
    "                preprocess_observations.append(preprocess_observation(obs))\n",
    "            break\n",
    "        else:\n",
    "            preprocess_observations.append(preprocess_observation(obs))\n",
    "    return combine_observations(preprocess_observations).reshape(80, 80,1), total_reward, done"
   ]
  },
  {
   "cell_type": "code",
   "execution_count": 28,
   "metadata": {},
   "outputs": [
    {
     "name": "stdout",
     "output_type": "stream",
     "text": [
      "Iteration 100000\tTrainind step 0/10000000 (0.0) %\tLoss   inf \tMean Max-Q 0.114701 "
     ]
    },
    {
     "ename": "IndexError",
     "evalue": "list index out of range",
     "output_type": "error",
     "traceback": [
      "\u001b[1;31m---------------------------------------------------------------------------\u001b[0m",
      "\u001b[1;31mIndexError\u001b[0m                                Traceback (most recent call last)",
      "\u001b[1;32m<ipython-input-28-f9a87881518f>\u001b[0m in \u001b[0;36m<module>\u001b[1;34m\u001b[0m\n\u001b[0;32m     47\u001b[0m \u001b[1;33m\u001b[0m\u001b[0m\n\u001b[0;32m     48\u001b[0m         \u001b[1;31m# sample memories from replay memeory\u001b[0m\u001b[1;33m\u001b[0m\u001b[1;33m\u001b[0m\u001b[1;33m\u001b[0m\u001b[0m\n\u001b[1;32m---> 49\u001b[1;33m         \u001b[0mX_state_val\u001b[0m\u001b[1;33m,\u001b[0m \u001b[0mX_action_val\u001b[0m\u001b[1;33m,\u001b[0m \u001b[0mrewards\u001b[0m\u001b[1;33m,\u001b[0m\u001b[0mX_next_state_val\u001b[0m\u001b[1;33m,\u001b[0m \u001b[0mcontinues\u001b[0m \u001b[1;33m=\u001b[0m \u001b[0msample_memories\u001b[0m\u001b[1;33m(\u001b[0m\u001b[0mbatch_size\u001b[0m\u001b[1;33m)\u001b[0m\u001b[1;33m\u001b[0m\u001b[1;33m\u001b[0m\u001b[0m\n\u001b[0m\u001b[0;32m     50\u001b[0m         next_q_values = target_q_values.eval(\n\u001b[0;32m     51\u001b[0m             \u001b[0mfeed_dict\u001b[0m\u001b[1;33m=\u001b[0m\u001b[1;33m{\u001b[0m\u001b[0mX_state\u001b[0m\u001b[1;33m:\u001b[0m\u001b[0mX_next_state_val\u001b[0m\u001b[1;33m}\u001b[0m\u001b[1;33m\u001b[0m\u001b[1;33m\u001b[0m\u001b[0m\n",
      "\u001b[1;32m<ipython-input-22-bff0ade6a6cc>\u001b[0m in \u001b[0;36msample_memories\u001b[1;34m(batch_size)\u001b[0m\n\u001b[0;32m      5\u001b[0m             \u001b[0mcol\u001b[0m\u001b[1;33m.\u001b[0m\u001b[0mappend\u001b[0m\u001b[1;33m(\u001b[0m\u001b[0mvalue\u001b[0m\u001b[1;33m)\u001b[0m\u001b[1;33m\u001b[0m\u001b[1;33m\u001b[0m\u001b[0m\n\u001b[0;32m      6\u001b[0m     \u001b[0mcols\u001b[0m \u001b[1;33m=\u001b[0m \u001b[1;33m[\u001b[0m\u001b[0mnp\u001b[0m\u001b[1;33m.\u001b[0m\u001b[0marray\u001b[0m\u001b[1;33m(\u001b[0m\u001b[0mcol\u001b[0m\u001b[1;33m)\u001b[0m \u001b[1;32mfor\u001b[0m \u001b[0mcol\u001b[0m \u001b[1;32min\u001b[0m \u001b[0mcols\u001b[0m\u001b[1;33m]\u001b[0m\u001b[1;33m\u001b[0m\u001b[1;33m\u001b[0m\u001b[0m\n\u001b[1;32m----> 7\u001b[1;33m     \u001b[1;32mreturn\u001b[0m \u001b[0mcols\u001b[0m\u001b[1;33m[\u001b[0m\u001b[1;36m0\u001b[0m\u001b[1;33m]\u001b[0m\u001b[1;33m,\u001b[0m \u001b[0mcols\u001b[0m\u001b[1;33m[\u001b[0m\u001b[1;36m1\u001b[0m\u001b[1;33m]\u001b[0m\u001b[1;33m,\u001b[0m \u001b[0mcols\u001b[0m\u001b[1;33m[\u001b[0m\u001b[1;36m2\u001b[0m\u001b[1;33m]\u001b[0m\u001b[1;33m.\u001b[0m\u001b[0mreshape\u001b[0m\u001b[1;33m(\u001b[0m\u001b[1;33m-\u001b[0m\u001b[1;36m1\u001b[0m\u001b[1;33m,\u001b[0m\u001b[1;36m1\u001b[0m\u001b[1;33m)\u001b[0m\u001b[1;33m,\u001b[0m \u001b[0mcols\u001b[0m\u001b[1;33m[\u001b[0m\u001b[1;36m3\u001b[0m\u001b[1;33m]\u001b[0m\u001b[1;33m,\u001b[0m \u001b[0mcols\u001b[0m\u001b[1;33m[\u001b[0m\u001b[1;36m4\u001b[0m\u001b[1;33m]\u001b[0m\u001b[1;33m.\u001b[0m\u001b[0mreshape\u001b[0m\u001b[1;33m(\u001b[0m\u001b[1;33m-\u001b[0m\u001b[1;36m1\u001b[0m\u001b[1;33m,\u001b[0m\u001b[1;36m1\u001b[0m\u001b[1;33m)\u001b[0m\u001b[1;33m\u001b[0m\u001b[1;33m\u001b[0m\u001b[0m\n\u001b[0m",
      "\u001b[1;31mIndexError\u001b[0m: list index out of range"
     ]
    }
   ],
   "source": [
    "import os \n",
    "\n",
    "# main training loop \n",
    "with tf.Session() as sess:\n",
    "    if os.path.isfile(checkpoint_path + '.index'):\n",
    "        saver.restore(sess, checkpoint_path)\n",
    "    else:\n",
    "        init.run()\n",
    "        copy_online_to_target.run()\n",
    "    while True:\n",
    "        step = global_step.eval()\n",
    "        if step >= n_steps:\n",
    "            break\n",
    "        iteration +=1 \n",
    "        print(\"\\rIteration {}\\tTrainind step {}/{} ({:.1f}) %\\tLoss {:5f} \\tMean Max-Q {:5f} \".format(\n",
    "            iteration, step, n_steps, 100 * step / n_steps, loss_val, mean_max_q),\n",
    "                 end='')\n",
    "        if done:\n",
    "            obs = env.reset()\n",
    "            for _ in range(skip_start):\n",
    "                obs, reward, done, info = env.step(0)\n",
    "            state, reward, done = perform_action(0)\n",
    "            \n",
    "        \n",
    "        # Evaluate the next action of the agent\n",
    "        q_values = online_q_values.eval(feed_dict={X_state:[state]})\n",
    "        action = epsilon_greedy(q_values, step)\n",
    "        \n",
    "        # online dqn plays the game\n",
    "        next_state, reward, done = perform_action(action)\n",
    "        \n",
    "        # save the result in ReplayMemory\n",
    "        replay_memory.append((state,action,reward,next_state, 1.0 -done))\n",
    "        state = next_state\n",
    "        \n",
    "        # compute statistics which help us monitor how training is going\n",
    "        total_max_q += q_values.max()\n",
    "        game_length += 1\n",
    "        if done :\n",
    "            mean_max_q = total_max_q / game_length\n",
    "            total_max_q = 0.0\n",
    "            game_length = 0\n",
    "        \n",
    "        # only train after the warmup rounds and only everyfew rounds\n",
    "        if iteration < training_start or iteration % training_interval != 0:\n",
    "            continue\n",
    "        \n",
    "        # sample memories from replay memeory\n",
    "        X_state_val, X_action_val, rewards,X_next_state_val, continues = sample_memories(batch_size)\n",
    "        next_q_values = target_q_values.eval(\n",
    "            feed_dict={X_state:X_next_state_val}\n",
    "        )\n",
    "        max_next_q_values = np.max(next_q_values,axis=1, keepdims=True)\n",
    "        y_val = rewards + continues * discount_rate * max_next_q_values\n",
    "        \n",
    "        # train the online DQN\n",
    "        _, loss_val = sesss.run([training_op, loss], feed_dict={\n",
    "            X_state: X_state_val,\n",
    "            X_action: X_action_val,\n",
    "            y: y_val\n",
    "        })\n",
    "        \n",
    "        # copy the online DQN to the taret DQN\n",
    "        if step % copy_steps == 0:\n",
    "            copy_online_to_target.run()\n",
    "        \n",
    "        # regularly save the model\n",
    "        if step and step % save_steps == 0:\n",
    "            saver.save(sess,checkpoint_psth)"
   ]
  },
  {
   "cell_type": "code",
   "execution_count": null,
   "metadata": {},
   "outputs": [],
   "source": [
    "preprocess_observations = []\n",
    "\n",
    "with tf.Session() as sess:\n",
    "    saver.restore(sess,checkpoint_path)\n",
    "    \n",
    "    def dqn_policy(obs, i):\n",
    "        if len(preprocess_observations) < 3:\n",
    "            preprocess_observations.append(preprocess_observation(obs))\n",
    "            if len(preprocess_observations) == 3:\n",
    "                state = combine_observations(preprocess_observations)\n",
    "                q_values = online_q_values.eval(\n",
    "                    feed_dict = {X_state: [state.reshape(80,80,1)]}\n",
    "                )\n",
    "                dqn_policy.cur_action = np.argmax(q_values)\n",
    "            return dqn_policy.cur_action\n",
    "        preprocess_observations[i%3] = preprocess_observation(obs)\n",
    "        if i %3 == 2:\n",
    "            state = combine_observations(preprocess_observations)\n",
    "            q_values = online_q_values.eval(\n",
    "                feed_dict={X_state: [state.reshape(80,80,1)]}\n",
    "            )\n",
    "            dqn_policy.cur_action = np.argmax(q_values)\n",
    "        return dqn_policy.cur_action\n",
    "    dqn_policy.cur_action = 0\n",
    "    \n",
    "\n",
    "    frames = run_episode(dqn_policy, n_max_steps=10000)\n",
    "\n",
    "plot_animation(frames)"
   ]
  }
 ],
 "metadata": {
  "kernelspec": {
   "display_name": "Python (tf_gpu)",
   "language": "python",
   "name": "tf_gpu"
  },
  "language_info": {
   "codemirror_mode": {
    "name": "ipython",
    "version": 3
   },
   "file_extension": ".py",
   "mimetype": "text/x-python",
   "name": "python",
   "nbconvert_exporter": "python",
   "pygments_lexer": "ipython3",
   "version": "3.7.4"
  }
 },
 "nbformat": 4,
 "nbformat_minor": 2
}
