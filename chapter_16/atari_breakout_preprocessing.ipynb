{
 "cells": [
  {
   "cell_type": "code",
   "execution_count": 1,
   "metadata": {},
   "outputs": [],
   "source": [
    "# preprcessing function\n",
    "\n",
    "def preprocess_observation(obs):\n",
    "    img = obs[34:194:2, ::2]\n",
    "    return np.mean(img,axis=2).reshape(80,80)/255.0"
   ]
  },
  {
   "cell_type": "code",
   "execution_count": 2,
   "metadata": {},
   "outputs": [],
   "source": [
    "import gym\n",
    "import tensorflow as tf\n",
    "import numpy as np\n",
    "import matplotlib.pyplot as plt\n",
    "\n",
    "env = gym.make(\"Breakout-v0\")\n",
    "obs = env.reset()\n",
    "for step in range(10):\n",
    "    obs, _, _, _ = env.step(1)\n",
    "img = preprocess_observation(obs)"
   ]
  },
  {
   "cell_type": "code",
   "execution_count": 25,
   "metadata": {
    "scrolled": false
   },
   "outputs": [
    {
     "name": "stdout",
     "output_type": "stream",
     "text": [
      "(array([[[0, 0, 0],\n",
      "        [0, 0, 0],\n",
      "        [0, 0, 0],\n",
      "        ...,\n",
      "        [0, 0, 0],\n",
      "        [0, 0, 0],\n",
      "        [0, 0, 0]],\n",
      "\n",
      "       [[0, 0, 0],\n",
      "        [0, 0, 0],\n",
      "        [0, 0, 0],\n",
      "        ...,\n",
      "        [0, 0, 0],\n",
      "        [0, 0, 0],\n",
      "        [0, 0, 0]],\n",
      "\n",
      "       [[0, 0, 0],\n",
      "        [0, 0, 0],\n",
      "        [0, 0, 0],\n",
      "        ...,\n",
      "        [0, 0, 0],\n",
      "        [0, 0, 0],\n",
      "        [0, 0, 0]],\n",
      "\n",
      "       ...,\n",
      "\n",
      "       [[0, 0, 0],\n",
      "        [0, 0, 0],\n",
      "        [0, 0, 0],\n",
      "        ...,\n",
      "        [0, 0, 0],\n",
      "        [0, 0, 0],\n",
      "        [0, 0, 0]],\n",
      "\n",
      "       [[0, 0, 0],\n",
      "        [0, 0, 0],\n",
      "        [0, 0, 0],\n",
      "        ...,\n",
      "        [0, 0, 0],\n",
      "        [0, 0, 0],\n",
      "        [0, 0, 0]],\n",
      "\n",
      "       [[0, 0, 0],\n",
      "        [0, 0, 0],\n",
      "        [0, 0, 0],\n",
      "        ...,\n",
      "        [0, 0, 0],\n",
      "        [0, 0, 0],\n",
      "        [0, 0, 0]]], dtype=uint8), 0.0, True, {'ale.lives': 0})\n"
     ]
    }
   ],
   "source": [
    "#trying the render\n",
    "\n",
    "\n",
    "for _ in range(1000):\n",
    "    env.render()\n",
    "    sample1= env.step(env.action_space.sample())\n",
    "\n",
    "print(sample1)\n"
   ]
  },
  {
   "cell_type": "code",
   "execution_count": 4,
   "metadata": {},
   "outputs": [
    {
     "data": {
      "image/png": "[encoded data removed]",
      "text/plain": [
       "<Figure size 792x504 with 2 Axes>"
      ]
     },
     "metadata": {
      "needs_background": "light"
     },
     "output_type": "display_data"
    }
   ],
   "source": [
    "plt.figure(figsize=(11,7))\n",
    "plt.subplot(121)\n",
    "plt.title(\"Original Observation (160x210 RGB)\")\n",
    "plt.imshow(obs)\n",
    "plt.axis(\"off\")\n",
    "plt.subplot(122)\n",
    "plt.title(\"Preprocessed observation (80x80 grayscale)\")\n",
    "plt.imshow(img, interpolation=\"nearest\", cmap=\"gray\")\n",
    "plt.axis(\"off\")\n",
    "plt.show()\n",
    "\n",
    "# here we can see that singleimage doesnot give us the direction and speed of the ball\n",
    "# which are crucial for playing this game\n"
   ]
  },
  {
   "cell_type": "code",
   "execution_count": 5,
   "metadata": {},
   "outputs": [],
   "source": [
    "# so here we need to combine several consecutive observations to create the\n",
    "# environment state representation\n",
    "# we can create a multi channel image with one channel per recent observation\n",
    "# another is to merge all recent observations into a singlechannel images \n",
    "# in the case we dim the older images so that Dqn can distinguidh the\n",
    "# past from the present\n",
    "\n",
    "from collections import deque\n",
    "\n",
    "def combine_observations_multichannel(preprocessed_observations):\n",
    "    return np.array(preprocessed_observations).transpose([1,2,0])\n",
    "\n",
    "def combine_observations_singlechannel(preprocessed_observations, dim_factor=0.5):\n",
    "    dimmed_observations = [obs * dim_factor ** index\n",
    "                           for index, obs in enumerate( reversed(preprocessed_observations))]\n",
    "    return np.max(np.array(dimmed_observations), axis=0)\n",
    "\n",
    "n_observations_per_state =  3\n",
    "preprocessed_observations = deque([], maxlen=n_observations_per_state)\n",
    "\n",
    "obs = env.reset()\n",
    "for step in range(10):\n",
    "    obs, _,_,_ = env.step(1)\n",
    "    preprocessed_observations.append(preprocess_observation(obs))\n",
    "    "
   ]
  },
  {
   "cell_type": "code",
   "execution_count": 6,
   "metadata": {
    "scrolled": true
   },
   "outputs": [
    {
     "data": {
      "image/png": "[encoded data removed]",
      "text/plain": [
       "<Figure size 792x504 with 2 Axes>"
      ]
     },
     "metadata": {
      "needs_background": "light"
     },
     "output_type": "display_data"
    }
   ],
   "source": [
    "img1 = combine_observations_multichannel(preprocessed_observations)\n",
    "img2 = combine_observations_singlechannel(preprocessed_observations)\n",
    "\n",
    "plt.figure(figsize=(11,7))\n",
    "plt.subplot(121)\n",
    "plt.title(\"Multichannel state\")\n",
    "plt.imshow(img1, interpolation=\"nearest\")\n",
    "plt.axis(\"off\")\n",
    "plt.subplot(122)\n",
    "plt.title(\"Singlechannel state\")\n",
    "plt.imshow(img2, interpolation=\"nearest\", cmap=\"gray\")\n",
    "plt.show()"
   ]
  },
  {
   "cell_type": "code",
   "execution_count": 7,
   "metadata": {},
   "outputs": [
    {
     "name": "stderr",
     "output_type": "stream",
     "text": [
      "WARNING: Logging before flag parsing goes to stderr.\n",
      "W0704 07:03:03.897272 13248 lazy_loader.py:50] \n",
      "The TensorFlow contrib module will not be included in TensorFlow 2.0.\n",
      "For more information, please see:\n",
      "  * https://github.com/tensorflow/community/blob/master/rfcs/20180907-contrib-sunset.md\n",
      "  * https://github.com/tensorflow/addons\n",
      "  * https://github.com/tensorflow/io (for I/O related ops)\n",
      "If you depend on functionality not listed there, please file an issue.\n",
      "\n"
     ]
    }
   ],
   "source": [
    "tf.reset_default_graph()\n",
    "tf.set_random_seed(42)\n",
    "np.random.seed(42)\n",
    "\n",
    "input_width = 80\n",
    "input_height = 80\n",
    "input_channels = 1\n",
    "\n",
    "conv_n_maps = [32, 64, 64 ]\n",
    "conv_kernel_sizes = [9, 5, 3]\n",
    "conv_kernel_strides = [4, 2, 1]\n",
    "conv_paddings = ['VALID'] * 3\n",
    "conv_activation = [tf.nn.relu] * 3\n",
    "\n",
    "n_hidden_in = 5 * 5 * 64\n",
    "n_hidden = 512\n",
    "hidden_activation = tf.nn.relu\n",
    "n_outputs = env.action_space.n\n",
    "\n",
    "he_init = tf.contrib.layers.variance_scaling_initializer()\n"
   ]
  },
  {
   "cell_type": "code",
   "execution_count": 8,
   "metadata": {},
   "outputs": [],
   "source": [
    "def q_network(X_state,name):\n",
    "    prev_layer = X_state\n",
    "    with tf.variable_scope(name) as scope:\n",
    "        for n_maps, kernel_size,strides, padding, activation in zip(\n",
    "                conv_n_maps,conv_kernel_sizes, conv_kernel_strides, conv_paddings,\n",
    "                conv_activation):\n",
    "            prev_layer = tf.layers.conv2d(prev_layer, filters=n_maps,\n",
    "                                          kernel_size=kernel_size, \n",
    "                                          strides=strides, padding=padding,\n",
    "                                          kernel_initializer=he_init, activation=activation)\n",
    "        flattened = tf.reshape(prev_layer, [-1, n_hidden_in])\n",
    "        hidden = tf.layers.dense(flattened,n_hidden,\n",
    "                                     activation=hidden_activation,\n",
    "                                     kernel_initializer=he_init)\n",
    "        outputs = tf.layers.dense(hidden, n_outputs, kernel_initializer=he_init)\n",
    "        \n",
    "    trainable_vars = tf.get_collection(tf.GraphKeys.TRAINABLE_VARIABLES,\n",
    "                                           scope=scope.name)\n",
    "    trainable_vars_by_name = {var.name[len(scope.name):]: var for var in trainable_vars}\n",
    "    return outputs, trainable_vars_by_name"
   ]
  },
  {
   "cell_type": "code",
   "execution_count": 9,
   "metadata": {
    "scrolled": false
   },
   "outputs": [
    {
     "name": "stderr",
     "output_type": "stream",
     "text": [
      "W0704 07:03:04.793523 13248 deprecation.py:323] From <ipython-input-8-2d9012532954>:10: conv2d (from tensorflow.python.layers.convolutional) is deprecated and will be removed in a future version.\n",
      "Instructions for updating:\n",
      "Use `tf.keras.layers.Conv2D` instead.\n",
      "W0704 07:03:04.794521 13248 deprecation.py:323] From C:\\installs\\Anaconda\\envs\\tf_gpu\\lib\\site-packages\\tensorflow_core\\python\\layers\\convolutional.py:424: Layer.apply (from tensorflow.python.keras.engine.base_layer) is deprecated and will be removed in a future version.\n",
      "Instructions for updating:\n",
      "Please use `layer.__call__` method instead.\n",
      "W0704 07:03:04.844419 13248 deprecation.py:323] From <ipython-input-8-2d9012532954>:14: dense (from tensorflow.python.layers.core) is deprecated and will be removed in a future version.\n",
      "Instructions for updating:\n",
      "Use keras.layers.Dense instead.\n"
     ]
    }
   ],
   "source": [
    "X_state  = tf.placeholder(tf.float32,shape=(None, input_height,input_width, input_channels))\n",
    "online_q_values, online_vars = q_network(X_state, 'q_networks/online')\n",
    "target_q_values, target_vars = q_network(X_state, 'q_networks/target')\n",
    "copy_ops = [var.assign(online_vars[name]) for name, var in target_vars.items()]\n",
    "copy_online_to_target = tf.group(*copy_ops)"
   ]
  },
  {
   "cell_type": "code",
   "execution_count": 10,
   "metadata": {},
   "outputs": [],
   "source": [
    "learning_rate = 1e-3\n",
    "momentum = 0.95\n",
    "\n",
    "with tf.variable_scope('training') as scope:\n",
    "    X_action  = tf.placeholder(tf.int32, shape=(None,))\n",
    "    y = tf.placeholder(tf.float32, shape=(None,1))\n",
    "    Q_target = tf.reduce_sum(online_q_values * tf.one_hot(X_action, n_outputs),\n",
    "                             axis=1, keepdims=True)\n",
    "    error = tf.abs(y- Q_target)\n",
    "    loss = tf.reduce_mean(tf.square(error))\n",
    "    \n",
    "    global_step = tf.Variable(0, trainable=False, name='global_step')\n",
    "    optimizer = tf.train.MomentumOptimizer(learning_rate, momentum, use_nesterov=True)\n",
    "    \n",
    "    training_op = optimizer.minimize(loss, global_step = global_step)\n",
    "    "
   ]
  },
  {
   "cell_type": "code",
   "execution_count": 11,
   "metadata": {},
   "outputs": [],
   "source": [
    "init = tf.global_variables_initializer()\n",
    "saver = tf.train.Saver()"
   ]
  },
  {
   "cell_type": "code",
   "execution_count": 12,
   "metadata": {},
   "outputs": [],
   "source": [
    "class ReplayMemory(object):\n",
    "    def __init__(self, maxlen):\n",
    "        self.maxlen = maxlen\n",
    "        self.buf = np.empty(shape=maxlen, dtype=np.object)\n",
    "        self.index = 0\n",
    "        self.length = 0\n",
    "    def append(self, data):\n",
    "        self.buf[self.index] = data\n",
    "        self.index += 1\n",
    "        self.index %= self.maxlen\n",
    "        self.length = min(self.length + 1, self.maxlen)\n",
    "    \n",
    "    def sample(self, batch_size):\n",
    "        return self.buf[np.random.randint(self.length, size=batch_size)]\n",
    "    "
   ]
  },
  {
   "cell_type": "code",
   "execution_count": 13,
   "metadata": {},
   "outputs": [],
   "source": [
    "replay_size = 200000\n",
    "replay_memory = ReplayMemory(replay_size)"
   ]
  },
  {
   "cell_type": "code",
   "execution_count": 14,
   "metadata": {},
   "outputs": [],
   "source": [
    "def sample_memories(batch_size):\n",
    "    cols = [[], [], [], []]\n",
    "    for memory in replay_memory.sample(batch_size):\n",
    "        for col, value in zip(cols, memory):\n",
    "            col.append(value)\n",
    "    cols = [np.array(col) for col in cols]\n",
    "    return cols[0], cols[1], cols[2].reshape(-1,1), cols[3], cols[4].reshape(-1,1)"
   ]
  },
  {
   "cell_type": "code",
   "execution_count": 15,
   "metadata": {},
   "outputs": [],
   "source": [
    "eps_min = 0.1\n",
    "eps_max = 1.0\n",
    "eps_decay_steps = 6000000\n",
    "\n",
    "def epsilon_greedy(q_values, step):\n",
    "    epsilon = min(eps_min,\n",
    "                  eps_max- ((eps_max - eps_min) * (step/eps_decay_steps)))\n",
    "    if np.random.random() < epsilon:\n",
    "        return np.random.randint(n_outputs)\n",
    "    return np.argmax(q_values)"
   ]
  },
  {
   "cell_type": "code",
   "execution_count": 16,
   "metadata": {},
   "outputs": [],
   "source": [
    "n_steps = 10000000\n",
    "training_start = 100000\n",
    "training_interval = 4\n",
    "save_steps = 1000\n",
    "copy_steps = 10000\n",
    "dsicount_rate =0.95\n",
    "skip_start = 0\n",
    "batch_size =50\n",
    "iteration = 0\n",
    "done = True\n",
    "# to reset the environment at the start\n",
    "\n",
    "loss_val = np.infty\n",
    "game_length = 0\n",
    "total_max_q = 0.0\n",
    "mean_max_q = 0.0\n",
    "\n",
    "checkpoint_path = \"./breakout_dqn.ckpt\""
   ]
  },
  {
   "cell_type": "code",
   "execution_count": 17,
   "metadata": {},
   "outputs": [],
   "source": [
    "# utility function to get the environment state for the model\n",
    "\n",
    "def perform_action(action):\n",
    "    preprocess_observations = []\n",
    "    total_reward = 0.0\n",
    "    for i in range(3):\n",
    "        obs, reward,done,info = env.step(action)\n",
    "        total_reward += reward\n",
    "        if done:\n",
    "            for _ in range(i,3):\n",
    "                preprocess_observations.append(preprocess_observation(obs))\n",
    "            break\n",
    "        else:\n",
    "            preprocess_observations.append(preprocess_observation(obs))\n",
    "    return combine_observations_singlechannel(preprocess_observations).reshape(80, 80,1), total_reward, done"
   ]
  },
  {
   "cell_type": "code",
   "execution_count": 18,
   "metadata": {},
   "outputs": [
    {
     "name": "stdout",
     "output_type": "stream",
     "text": [
      "Iteration 100000\tTraining step 0/10000000 (0.0) %\tLoss   inf \tMean Max-Q 0.395146 "
     ]
    },
    {
     "ename": "IndexError",
     "evalue": "list index out of range",
     "output_type": "error",
     "traceback": [
      "\u001b[1;31m---------------------------------------------------------------------------\u001b[0m",
      "\u001b[1;31mIndexError\u001b[0m                                Traceback (most recent call last)",
      "\u001b[1;32m<ipython-input-18-cb4287d109a6>\u001b[0m in \u001b[0;36m<module>\u001b[1;34m\u001b[0m\n\u001b[0;32m     47\u001b[0m \u001b[1;33m\u001b[0m\u001b[0m\n\u001b[0;32m     48\u001b[0m         \u001b[1;31m# sample memories from replay memeory\u001b[0m\u001b[1;33m\u001b[0m\u001b[1;33m\u001b[0m\u001b[1;33m\u001b[0m\u001b[0m\n\u001b[1;32m---> 49\u001b[1;33m         \u001b[0mX_state_val\u001b[0m\u001b[1;33m,\u001b[0m \u001b[0mX_action_val\u001b[0m\u001b[1;33m,\u001b[0m \u001b[0mrewards\u001b[0m\u001b[1;33m,\u001b[0m\u001b[0mX_next_state_val\u001b[0m\u001b[1;33m,\u001b[0m \u001b[0mcontinues\u001b[0m \u001b[1;33m=\u001b[0m \u001b[0msample_memories\u001b[0m\u001b[1;33m(\u001b[0m\u001b[0mbatch_size\u001b[0m\u001b[1;33m)\u001b[0m\u001b[1;33m\u001b[0m\u001b[1;33m\u001b[0m\u001b[0m\n\u001b[0m\u001b[0;32m     50\u001b[0m         next_q_values = target_q_values.eval(\n\u001b[0;32m     51\u001b[0m             \u001b[0mfeed_dict\u001b[0m\u001b[1;33m=\u001b[0m\u001b[1;33m{\u001b[0m\u001b[0mX_state\u001b[0m\u001b[1;33m:\u001b[0m\u001b[0mX_next_state_val\u001b[0m\u001b[1;33m}\u001b[0m\u001b[1;33m\u001b[0m\u001b[1;33m\u001b[0m\u001b[0m\n",
      "\u001b[1;32m<ipython-input-14-bff0ade6a6cc>\u001b[0m in \u001b[0;36msample_memories\u001b[1;34m(batch_size)\u001b[0m\n\u001b[0;32m      5\u001b[0m             \u001b[0mcol\u001b[0m\u001b[1;33m.\u001b[0m\u001b[0mappend\u001b[0m\u001b[1;33m(\u001b[0m\u001b[0mvalue\u001b[0m\u001b[1;33m)\u001b[0m\u001b[1;33m\u001b[0m\u001b[1;33m\u001b[0m\u001b[0m\n\u001b[0;32m      6\u001b[0m     \u001b[0mcols\u001b[0m \u001b[1;33m=\u001b[0m \u001b[1;33m[\u001b[0m\u001b[0mnp\u001b[0m\u001b[1;33m.\u001b[0m\u001b[0marray\u001b[0m\u001b[1;33m(\u001b[0m\u001b[0mcol\u001b[0m\u001b[1;33m)\u001b[0m \u001b[1;32mfor\u001b[0m \u001b[0mcol\u001b[0m \u001b[1;32min\u001b[0m \u001b[0mcols\u001b[0m\u001b[1;33m]\u001b[0m\u001b[1;33m\u001b[0m\u001b[1;33m\u001b[0m\u001b[0m\n\u001b[1;32m----> 7\u001b[1;33m     \u001b[1;32mreturn\u001b[0m \u001b[0mcols\u001b[0m\u001b[1;33m[\u001b[0m\u001b[1;36m0\u001b[0m\u001b[1;33m]\u001b[0m\u001b[1;33m,\u001b[0m \u001b[0mcols\u001b[0m\u001b[1;33m[\u001b[0m\u001b[1;36m1\u001b[0m\u001b[1;33m]\u001b[0m\u001b[1;33m,\u001b[0m \u001b[0mcols\u001b[0m\u001b[1;33m[\u001b[0m\u001b[1;36m2\u001b[0m\u001b[1;33m]\u001b[0m\u001b[1;33m.\u001b[0m\u001b[0mreshape\u001b[0m\u001b[1;33m(\u001b[0m\u001b[1;33m-\u001b[0m\u001b[1;36m1\u001b[0m\u001b[1;33m,\u001b[0m\u001b[1;36m1\u001b[0m\u001b[1;33m)\u001b[0m\u001b[1;33m,\u001b[0m \u001b[0mcols\u001b[0m\u001b[1;33m[\u001b[0m\u001b[1;36m3\u001b[0m\u001b[1;33m]\u001b[0m\u001b[1;33m,\u001b[0m \u001b[0mcols\u001b[0m\u001b[1;33m[\u001b[0m\u001b[1;36m4\u001b[0m\u001b[1;33m]\u001b[0m\u001b[1;33m.\u001b[0m\u001b[0mreshape\u001b[0m\u001b[1;33m(\u001b[0m\u001b[1;33m-\u001b[0m\u001b[1;36m1\u001b[0m\u001b[1;33m,\u001b[0m\u001b[1;36m1\u001b[0m\u001b[1;33m)\u001b[0m\u001b[1;33m\u001b[0m\u001b[1;33m\u001b[0m\u001b[0m\n\u001b[0m",
      "\u001b[1;31mIndexError\u001b[0m: list index out of range"
     ]
    }
   ],
   "source": [
    "import os \n",
    "\n",
    "# main training loop \n",
    "with tf.Session() as sess:\n",
    "    if os.path.isfile(checkpoint_path + '.index'):\n",
    "        saver.restore(sess, checkpoint_path)\n",
    "    else:\n",
    "        init.run()\n",
    "        copy_online_to_target.run()\n",
    "    while True:\n",
    "        step = global_step.eval()\n",
    "        if step >= n_steps:\n",
    "            break\n",
    "        iteration +=1 \n",
    "        print(\"\\rIteration {}\\tTraining step {}/{} ({:.1f}) %\\tLoss {:5f} \\tMean Max-Q {:5f} \".format(\n",
    "            iteration, step, n_steps, 100 * step / n_steps, loss_val, mean_max_q),\n",
    "                 end='')\n",
    "        if done:\n",
    "            obs = env.reset()\n",
    "            for _ in range(skip_start):\n",
    "                obs, reward, done, info = env.step(0)\n",
    "            state, reward, done = perform_action(0)\n",
    "            \n",
    "        \n",
    "        # Evaluate the next action of the agent\n",
    "        q_values = online_q_values.eval(feed_dict={X_state:[state]})\n",
    "        action = epsilon_greedy(q_values, step)\n",
    "        \n",
    "        # online dqn plays the game\n",
    "        next_state, reward, done = perform_action(action)\n",
    "        \n",
    "        # save the result in ReplayMemory\n",
    "        replay_memory.append((state,action,reward,next_state, 1.0 -done))\n",
    "        state = next_state\n",
    "        \n",
    "        # compute statistics which help us monitor how training is going\n",
    "        total_max_q += q_values.max()\n",
    "        game_length += 1\n",
    "        if done :\n",
    "            mean_max_q = total_max_q / game_length\n",
    "            total_max_q = 0.0\n",
    "            game_length = 0\n",
    "        \n",
    "        # only train after the warmup rounds and only everyfew rounds\n",
    "        if iteration < training_start or iteration % training_interval != 0:\n",
    "            continue\n",
    "        \n",
    "        # sample memories from replay memeory\n",
    "        X_state_val, X_action_val, rewards,X_next_state_val, continues = sample_memories(batch_size)\n",
    "        next_q_values = target_q_values.eval(\n",
    "            feed_dict={X_state:X_next_state_val}\n",
    "        )\n",
    "        max_next_q_values = np.max(next_q_values,axis=1, keepdims=True)\n",
    "        y_val = rewards + continues * discount_rate * max_next_q_values\n",
    "        \n",
    "        # train the online DQN\n",
    "        _, loss_val = sesss.run([training_op, loss], feed_dict={\n",
    "            X_state: X_state_val,\n",
    "            X_action: X_action_val,\n",
    "            y: y_val\n",
    "        })\n",
    "        \n",
    "        # copy the online DQN to the taret DQN\n",
    "        if step % copy_steps == 0:\n",
    "            copy_online_to_target.run()\n",
    "        \n",
    "        # regularly save the model\n",
    "        if step and step % save_steps == 0:\n",
    "            saver.save(sess,checkpoint_psth)"
   ]
  },
  {
   "cell_type": "code",
   "execution_count": null,
   "metadata": {},
   "outputs": [],
   "source": [
    "from IPython import display\n",
    "%matplotlib inline\n",
    "\n",
    "def plot_animation(frames, repeat=False, interval=40):\n",
    "    plt.close()\n",
    "    fig = plt.figure()\n",
    "    for f in frames:\n",
    "        plt.imshow(f)\n",
    "        plt.axis('off')\n",
    "        display.display(plt.gcf())\n",
    "        display.clear_output(wait=True)"
   ]
  },
  {
   "cell_type": "code",
   "execution_count": null,
   "metadata": {},
   "outputs": [],
   "source": [
    "def run_episode(policy, n_max_steps=1000, frames_per_action=1):\n",
    "    obs = env.reset()\n",
    "    frames = []\n",
    "    for i in range(n_max_steps):\n",
    "        obs, reward, done, info = env.step(policy(obs,i))\n",
    "        frames.append(env.render(mode='rgb_array'))\n",
    "        if done:\n",
    "            break\n",
    "    return frames"
   ]
  },
  {
   "cell_type": "code",
   "execution_count": null,
   "metadata": {},
   "outputs": [],
   "source": [
    "preprocess_observations = []\n",
    "\n",
    "with tf.Session() as sess:\n",
    "    saver.restore(sess,checkpoint_path)\n",
    "    \n",
    "    def dqn_policy(obs, i):\n",
    "        if len(preprocess_observations) < 3:\n",
    "            preprocess_observations.append(preprocess_observation(obs))\n",
    "            if len(preprocess_observations) == 3:\n",
    "                state = combine_observations(preprocess_observations)\n",
    "                q_values = online_q_values.eval(\n",
    "                    feed_dict = {X_state: [state.reshape(80,80,1)]}\n",
    "                )\n",
    "                dqn_policy.cur_action = np.argmax(q_values)\n",
    "            return dqn_policy.cur_action\n",
    "        preprocess_observations[i%3] = preprocess_observation(obs)\n",
    "        if i %3 == 2:\n",
    "            state = combine_observations(preprocess_observations)\n",
    "            q_values = online_q_values.eval(\n",
    "                feed_dict={X_state: [state.reshape(80,80,1)]}\n",
    "            )\n",
    "            dqn_policy.cur_action = np.argmax(q_values)\n",
    "        return dqn_policy.cur_action\n",
    "    dqn_policy.cur_action = 0\n",
    "    \n",
    "\n",
    "    frames = run_episode(dqn_policy, n_max_steps=10000)\n",
    "\n",
    "plot_animation(frames)"
   ]
  }
 ],
 "metadata": {
  "kernelspec": {
   "display_name": "Python (tf_gpu)",
   "language": "python",
   "name": "tf_gpu"
  },
  "language_info": {
   "codemirror_mode": {
    "name": "ipython",
    "version": 3
   },
   "file_extension": ".py",
   "mimetype": "text/x-python",
   "name": "python",
   "nbconvert_exporter": "python",
   "pygments_lexer": "ipython3",
   "version": "3.7.4"
  }
 },
 "nbformat": 4,
 "nbformat_minor": 2
}
