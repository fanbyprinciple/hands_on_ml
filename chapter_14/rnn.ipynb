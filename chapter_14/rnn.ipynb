{
 "cells": [
  {
   "cell_type": "code",
   "execution_count": 94,
   "metadata": {},
   "outputs": [],
   "source": [
    "import tensorflow as tf\n",
    "import numpy as np\n",
    "import matplotlib.pyplot as plt"
   ]
  },
  {
   "cell_type": "code",
   "execution_count": 95,
   "metadata": {},
   "outputs": [],
   "source": [
    "#basic RNN\n",
    "import tensorflow as tf\n",
    "\n",
    "n_inputs =3\n",
    "n_neurons = 5\n",
    "\n",
    "X0 =  tf.placeholder(tf.float32, [None, n_inputs])\n",
    "X1 = tf.placeholder(tf.float32, [None, n_inputs])\n",
    "\n",
    "Wx = tf.Variable(tf.random_normal(shape=[n_inputs, n_neurons], dtype=tf.float32))\n",
    "Wy = tf.Variable(tf.random_normal(shape=[n_neurons, n_neurons], dtype=tf.float32))\n",
    "b = tf.Variable(tf.zeros([1, n_neurons], dtype=tf.float32))\n",
    "\n",
    "Y0 = tf.tanh(tf.matmul(X0, Wx) +b)\n",
    "Y1 = tf.tanh(tf.matmul(Y0, Wy) + tf.matmul(X1, Wx) + b)\n",
    "\n",
    "init = tf.global_variables_initializer()"
   ]
  },
  {
   "cell_type": "code",
   "execution_count": 96,
   "metadata": {},
   "outputs": [],
   "source": [
    "import numpy as np\n",
    "\n",
    "X0_batch = np.array([[0,1,2], [3,4,5], [6,7,8], [9,0,1]])\n",
    "X1_batch = np.array([[9,8,7],[0,0,0],[6,5,4],[3,2,1]])\n",
    "\n",
    "with tf.Session() as sess:\n",
    "    init.run()\n",
    "    Y0_val, Y1_val = sess.run([Y0, Y1], feed_dict={X0:X0_batch, X1:X1_batch})\n",
    "    "
   ]
  },
  {
   "cell_type": "code",
   "execution_count": 97,
   "metadata": {},
   "outputs": [
    {
     "name": "stdout",
     "output_type": "stream",
     "text": [
      "[[-0.96887857  0.99492675 -0.87908506 -0.81674796  0.86884105]\n",
      " [-0.99999684  1.         -0.8769342  -0.85991526 -0.95082754]\n",
      " [-1.          1.         -0.8747476  -0.89351    -0.99991083]\n",
      " [-0.999959    1.          1.          0.9999977  -1.        ]]\n"
     ]
    }
   ],
   "source": [
    "print(Y0_val)"
   ]
  },
  {
   "cell_type": "code",
   "execution_count": 98,
   "metadata": {
    "scrolled": true
   },
   "outputs": [
    {
     "name": "stdout",
     "output_type": "stream",
     "text": [
      "[[-0.9999995   1.         -0.06750162  0.23787697 -1.        ]\n",
      " [ 0.9702238  -0.9997855  -0.9323646  -0.95568305 -0.23692536]\n",
      " [-0.9999222   1.         -0.33531412 -0.7951014  -0.99999976]\n",
      " [-0.9999263   0.9109921   0.97845733 -0.9934738  -0.99875754]]\n"
     ]
    }
   ],
   "source": [
    "print(Y1_val)"
   ]
  },
  {
   "cell_type": "markdown",
   "metadata": {},
   "source": [
    "## BasicRNNCell"
   ]
  },
  {
   "cell_type": "code",
   "execution_count": 99,
   "metadata": {},
   "outputs": [],
   "source": [
    "tf.reset_default_graph()\n",
    "# static unrolling through time\n",
    "\n",
    "X0 = tf.placeholder(tf.float32, [None, n_inputs])\n",
    "X1 = tf.placeholder(tf.float32, [None, n_inputs])\n",
    "# we create input palceholders\n",
    "\n",
    "basic_cell = tf.contrib.rnn.BasicRNNCell(num_units=n_neurons)\n",
    "#  we create BasicRNNCell which you can think of as a factory that creates copies of the cell to build the unrolled RNN\n",
    "\n",
    "output_seqs,states = tf.contrib.rnn.static_rnn(\n",
    "                     basic_cell, [X0, X1], dtype=tf.float32)\n",
    "# we call static rnn which calls the BasicRNNCell creating two copies of cell\n",
    "\n",
    "\n",
    "Y0, Y1 = output_seqs"
   ]
  },
  {
   "cell_type": "code",
   "execution_count": 100,
   "metadata": {},
   "outputs": [
    {
     "name": "stdout",
     "output_type": "stream",
     "text": [
      "Tensor(\"rnn/basic_rnn_cell/Tanh:0\", shape=(?, 5), dtype=float32)\n",
      "Tensor(\"rnn/basic_rnn_cell/Tanh_1:0\", shape=(?, 5), dtype=float32)\n"
     ]
    }
   ],
   "source": [
    "# if there wer 50 time steps, it wouldnot be ery convenient to have ot \n",
    "# define 50 input placeholders and 50 output tensors\n",
    "\n",
    "print(Y0)\n",
    "print(Y1)\n",
    "\n"
   ]
  },
  {
   "cell_type": "code",
   "execution_count": 101,
   "metadata": {},
   "outputs": [],
   "source": [
    "# using the packing sequences\n",
    "init = tf.global_variables_initializer()\n",
    "\n",
    "with tf.Session() as sess:\n",
    "    init.run()\n",
    "    Y0_val, Y1_val = sess.run([Y0, Y1], feed_dict={X0:X0_batch, X1:X1_batch})"
   ]
  },
  {
   "cell_type": "code",
   "execution_count": 102,
   "metadata": {},
   "outputs": [
    {
     "data": {
      "text/plain": [
       "array([[-0.33344507, -0.8871938 ,  0.76357126, -0.8091733 , -0.3623671 ],\n",
       "       [-0.87720096, -0.9963409 ,  0.63229465, -0.999676  , -0.94258803],\n",
       "       [-0.983024  , -0.9998876 ,  0.45082512, -0.9999995 , -0.9962745 ],\n",
       "       [ 0.2274    ,  0.9784933 , -0.9999456 , -0.9999882 , -0.9086115 ]],\n",
       "      dtype=float32)"
      ]
     },
     "execution_count": 102,
     "metadata": {},
     "output_type": "execute_result"
    }
   ],
   "source": [
    "Y0_val"
   ]
  },
  {
   "cell_type": "code",
   "execution_count": 103,
   "metadata": {
    "scrolled": true
   },
   "outputs": [
    {
     "data": {
      "text/plain": [
       "array([[-0.9984469 , -0.999849  , -0.78598344, -0.99999994, -0.9993153 ],\n",
       "       [-0.81159896, -0.781047  ,  0.74046755,  0.14274643, -0.01107246],\n",
       "       [-0.9916415 , -0.9953612 , -0.48467255, -0.9999374 , -0.9809108 ],\n",
       "       [-0.4498878 , -0.07954597, -0.9649038 , -0.77888614, -0.3589673 ]],\n",
       "      dtype=float32)"
      ]
     },
     "execution_count": 103,
     "metadata": {},
     "output_type": "execute_result"
    }
   ],
   "source": [
    "Y1_val"
   ]
  },
  {
   "cell_type": "code",
   "execution_count": 104,
   "metadata": {},
   "outputs": [],
   "source": [
    "# from tensorflow_graph_in_jupyter import show_graph\n",
    "\n",
    "# show_graph(tf.get_default_graph())"
   ]
  },
  {
   "cell_type": "markdown",
   "metadata": {},
   "source": [
    "## Packing Sequences"
   ]
  },
  {
   "cell_type": "code",
   "execution_count": 105,
   "metadata": {},
   "outputs": [],
   "source": [
    "# the following cide builds the same RNN again but thistime it takes asingle input \n",
    "# placeholder of hsape [None, n_steps, n_inputs ] where the first  fimensions is the mini batch size\\\n",
    "# Then it extract thelist of input sequences for each time step\n",
    "# X_seqs is a Python list of n_steps tensors of shape [None,n_inputs]\n",
    "# where once again the first dimension is the mini batch size\n",
    "# To do this, we first swap using transpose function so that the time steps are now the first dimension \n",
    "# then we use the unstack function. The next twolines are the sam\n",
    "# finally we merge the the output tensors into a single tensor using stack() function\n",
    "# and we sqap the first two fimension to get a final outputs tensor\n",
    "# of shape [None, n_steps, n_neurons]\n",
    "\n",
    "n_steps =2\n",
    "tf.reset_default_graph()\n",
    "\n",
    "X = tf.placeholder(tf.float32, [None, n_steps,n_inputs])\n",
    "X_seqs = tf.unstack(tf.transpose(X,perm=[1,0,2]))\n",
    "basic_cell = tf.contrib.rnn.BasicRNNCell(num_units=n_neurons)\n",
    "output_seqs, states = tf.contrib.rnn.static_rnn(basic_cell, X_seqs, dtype=tf.float32)\n",
    "outputs = tf.transpose(tf.stack(output_seqs), perm=[1,0,2])"
   ]
  },
  {
   "cell_type": "code",
   "execution_count": 106,
   "metadata": {},
   "outputs": [],
   "source": [
    "init = tf.global_variables_initializer()"
   ]
  },
  {
   "cell_type": "code",
   "execution_count": 107,
   "metadata": {
    "scrolled": true
   },
   "outputs": [
    {
     "name": "stdout",
     "output_type": "stream",
     "text": [
      "[[[ 0.04119638 -0.3549417  -0.1397426   0.8115597  -0.92629695]\n",
      "  [-0.9997577  -0.95864826 -0.90297073  0.99999887 -0.9999999 ]]\n",
      "\n",
      " [[-0.8654581  -0.8533698  -0.5744203   0.99943614 -0.9998663 ]\n",
      "  [-0.8124397  -0.26177883  0.47357374 -0.7571716  -0.81069404]]\n",
      "\n",
      " [[-0.9904655  -0.9740462  -0.82347786  0.99999845 -0.99999976]\n",
      "  [-0.99934167 -0.9477981  -0.16875382  0.9984857  -0.99998355]]\n",
      "\n",
      " [[-0.99996185  0.8240275   0.87919     0.7555452  -0.29852155]\n",
      "  [-0.95295006 -0.46174273 -0.6823906   0.9925794  -0.9897191 ]]]\n"
     ]
    }
   ],
   "source": [
    "X_batch= np.array([\n",
    "    [[0,1,2], [9,8,7]],\n",
    "    [[3,4,5], [0,0,0]],\n",
    "    [[6,7,8], [6,5,4]],\n",
    "    [[9,0,1], [3,2,1]]\n",
    "])\n",
    "g = tf.Graph()\n",
    "with tf.Session() as sess:\n",
    "    init.run()\n",
    "    outputs_val = outputs.eval(feed_dict={X:X_batch})\n",
    "\n",
    "# this stillgets one graph containing unit cell per time step\n",
    "# If there were 50 time steps the graph would look pretty ugly\n",
    "print(outputs_val)\n",
    "\n",
    "# with large graph we will also get out of memory errors so that it can\n",
    "# use them to compute gradients during the reverse pass\n",
    "# thats why we using dynamic rnn"
   ]
  },
  {
   "cell_type": "code",
   "execution_count": 108,
   "metadata": {},
   "outputs": [
    {
     "name": "stdout",
     "output_type": "stream",
     "text": [
      "[[-0.9997577  -0.95864826 -0.90297073  0.99999887 -0.9999999 ]\n",
      " [-0.8124397  -0.26177883  0.47357374 -0.7571716  -0.81069404]\n",
      " [-0.99934167 -0.9477981  -0.16875382  0.9984857  -0.99998355]\n",
      " [-0.95295006 -0.46174273 -0.6823906   0.9925794  -0.9897191 ]]\n"
     ]
    }
   ],
   "source": [
    "print(np.transpose(outputs_val, axes=[1,0,2])[1])"
   ]
  },
  {
   "cell_type": "code",
   "execution_count": 109,
   "metadata": {},
   "outputs": [],
   "source": [
    "import tensorflow as tf\n",
    "tf.reset_default_graph()\n",
    "\n",
    "n_steps =2\n",
    "n_inputs = 3\n",
    "n_neurons = 5\n",
    "\n",
    "X = tf.placeholder(tf.float32, [None, n_steps, n_inputs])\n",
    "\n",
    "basic_cell = tf.nn.rnn_cell.BasicRNNCell(num_units=n_neurons)\n",
    "outputs, states = tf.nn.dynamic_rnn(basic_cell, X, dtype=tf.float32)"
   ]
  },
  {
   "cell_type": "code",
   "execution_count": 110,
   "metadata": {},
   "outputs": [],
   "source": [
    "init = tf.global_variables_initializer()"
   ]
  },
  {
   "cell_type": "code",
   "execution_count": 111,
   "metadata": {},
   "outputs": [],
   "source": [
    "import numpy as np\n",
    "X_batch =  np.array([\n",
    "    [[0,1,2], [9,8,7]],\n",
    "    [[3,4,5], [0,0,0]],\n",
    "    [[6,7,8], [6,5,4]],\n",
    "    [[9,0,1], [3,2,1]]\n",
    "])\n",
    "\n",
    "with tf.Session() as sess:\n",
    "    init.run()\n",
    "    outputs_val = outputs.eval(feed_dict={X:X_batch})"
   ]
  },
  {
   "cell_type": "code",
   "execution_count": 112,
   "metadata": {},
   "outputs": [
    {
     "name": "stdout",
     "output_type": "stream",
     "text": [
      "[[[ 0.0623136   0.60720366  0.29671496 -0.46884027 -0.4579005 ]\n",
      "  [-0.99146926  0.9999989  -0.9926949  -0.99282956  0.5767534 ]]\n",
      "\n",
      " [[-0.70163757  0.9979865  -0.4373266  -0.9239755  -0.37308863]\n",
      "  [ 0.7175719  -0.8878805  -0.06190734 -0.08258605 -0.8685115 ]]\n",
      "\n",
      " [[-0.94716024  0.9999917  -0.846523   -0.9914016  -0.281547  ]\n",
      "  [-0.64263844  0.99545556 -0.9443589  -0.9506459  -0.77511656]]\n",
      "\n",
      " [[-0.9999411   0.99858433 -0.99968034 -0.77025354 -0.05470882]\n",
      "  [ 0.07814594  0.23871504 -0.71934676 -0.6922187  -0.84680873]]]\n"
     ]
    }
   ],
   "source": [
    "print(outputs_val)\n",
    "\n",
    "# show_graph(tf.get_default_graph())"
   ]
  },
  {
   "cell_type": "markdown",
   "metadata": {},
   "source": [
    "## Setting the sequence lengths"
   ]
  },
  {
   "cell_type": "code",
   "execution_count": 113,
   "metadata": {},
   "outputs": [],
   "source": [
    "n_steps = 2\n",
    "n_inputs = 3\n",
    "n_neurons = 5\n",
    "\n",
    "tf.reset_default_graph()\n",
    "\n",
    "X = tf.placeholder(tf.float32, [None, n_steps, n_inputs])\n",
    "basic_cell = tf.nn.rnn_cell.BasicRNNCell(num_units=n_neurons)\n"
   ]
  },
  {
   "cell_type": "code",
   "execution_count": 114,
   "metadata": {},
   "outputs": [],
   "source": [
    "seq_length = tf.placeholder(tf.int32, [None])\n",
    "outputs, states = tf.nn.dynamic_rnn(basic_cell, X, dtype=tf.float32,\n",
    "                                    sequence_length=seq_length)"
   ]
  },
  {
   "cell_type": "code",
   "execution_count": 115,
   "metadata": {},
   "outputs": [],
   "source": [
    "init = tf.global_variables_initializer()"
   ]
  },
  {
   "cell_type": "code",
   "execution_count": 116,
   "metadata": {},
   "outputs": [],
   "source": [
    "X_batch = np.array([\n",
    "    #step 0   step 1\n",
    "    [[0,1,2], [9,8,7]], # instance 1\n",
    "    [[3,4,5], [0,0,0]], # Padded Instance 2\n",
    "    [[6,7,8], [6,5,4]], # instance 3\n",
    "    [[9,0,1], [3,2,1]],  # instance 4\n",
    "])\n",
    "\n",
    "seq_length_batch = np.array([2,1,2,2])"
   ]
  },
  {
   "cell_type": "code",
   "execution_count": 117,
   "metadata": {},
   "outputs": [],
   "source": [
    "with tf.Session() as sess:\n",
    "    init.run()\n",
    "    outputs_val, states_val = sess.run(\n",
    "        [outputs, states],feed_dict={X:X_batch, seq_length: seq_length_batch })\n",
    "    "
   ]
  },
  {
   "cell_type": "code",
   "execution_count": 118,
   "metadata": {},
   "outputs": [
    {
     "name": "stdout",
     "output_type": "stream",
     "text": [
      "[[[-0.8523153   0.41135153  0.5730545   0.47842172  0.70378107]\n",
      "  [-0.72656137 -0.9987664   0.9999504   0.9999982   0.613883  ]]\n",
      "\n",
      " [[-0.95907134 -0.5810762   0.9930807   0.9919761   0.8945122 ]\n",
      "  [ 0.          0.          0.          0.          0.        ]]\n",
      "\n",
      " [[-0.9891109  -0.943104    0.9999112   0.99990803  0.96496   ]\n",
      "  [ 0.30286774 -0.996347    0.9982821   0.9999812  -0.46946025]]\n",
      "\n",
      " [[ 0.9886445  -0.9999267   0.9998004   0.9999764  -0.95163345]\n",
      "  [ 0.98093736 -0.9868048   0.9981864   0.8564184   0.3266292 ]]]\n"
     ]
    }
   ],
   "source": [
    "print(outputs_val)"
   ]
  },
  {
   "cell_type": "code",
   "execution_count": 119,
   "metadata": {},
   "outputs": [
    {
     "name": "stdout",
     "output_type": "stream",
     "text": [
      "[[-0.72656137 -0.9987664   0.9999504   0.9999982   0.613883  ]\n",
      " [-0.95907134 -0.5810762   0.9930807   0.9919761   0.8945122 ]\n",
      " [ 0.30286774 -0.996347    0.9982821   0.9999812  -0.46946025]\n",
      " [ 0.98093736 -0.9868048   0.9981864   0.8564184   0.3266292 ]]\n"
     ]
    }
   ],
   "source": [
    "print(states_val)"
   ]
  },
  {
   "cell_type": "markdown",
   "metadata": {},
   "source": [
    "## Training a sequence classifier"
   ]
  },
  {
   "cell_type": "code",
   "execution_count": 120,
   "metadata": {},
   "outputs": [],
   "source": [
    "tf.reset_default_graph()\n",
    "\n",
    "n_steps =28\n",
    "n_inputs = 28\n",
    "n_neurons = 150\n",
    "n_outputs = 10\n",
    "\n",
    "learning_rate = 0.001\n",
    "\n",
    "X = tf.placeholder(tf.float32, [None, n_steps, n_inputs])\n",
    "y = tf.placeholder(tf.int32, [None])\n",
    "\n",
    "# these are the two lines that are defining a RNN\n",
    "basic_cell = tf.nn.rnn_cell.BasicRNNCell(num_units=n_neurons)\n",
    "outputs, states = tf.nn.dynamic_rnn(basic_cell, X # from feed_dict\n",
    "                                    ,dtype=tf.float32)\n",
    "\n",
    "# dynamic and static rnn bothe functions calls the BasicRNNCell call function per input\n",
    "# createing two copise with n_neurons no. of connection between the layers\n",
    "# it returns twoobjects  python list containing the output tensors foreach step and final states of the network\n",
    "#in basic cell the final state is equal to the last output\n",
    "\n",
    "logits = tf.layers.dense(states, n_outputs)\n",
    "xentropy = tf.nn.sparse_softmax_cross_entropy_with_logits(labels=y  # from feed_dict\n",
    "                                                          , logits=logits)\n",
    "\n",
    "loss= tf.reduce_mean(xentropy)\n",
    "optimizer = tf.train.AdamOptimizer(learning_rate=learning_rate)\n",
    "\n",
    "training_op = optimizer.minimize(loss)\n",
    "correct = tf.nn.in_top_k(logits, y, 1)\n",
    "accuracy = tf.reduce_mean(tf.cast(correct, tf.float32))\n",
    "\n",
    "init = tf.global_variables_initializer()"
   ]
  },
  {
   "cell_type": "code",
   "execution_count": 121,
   "metadata": {},
   "outputs": [],
   "source": [
    "(X_train,y_train), (X_test,y_test) = tf.keras.datasets.mnist.load_data()\n",
    "X_train = X_train.astype(np.float32).reshape(-1, 28 * 28)/ 255.0\n",
    "X_test = X_test.astype(np.float32).reshape(-1, 28 * 28)/255.0\n",
    "y_train = y_train.astype(np.int32)\n",
    "y_test = y_test.astype(np.int32)\n",
    "\n",
    "X_valid, X_train = X_train[:5000], X_train[5000:]\n",
    "y_valid, y_train = y_train[:5000], y_train[5000:]\n"
   ]
  },
  {
   "cell_type": "code",
   "execution_count": 122,
   "metadata": {},
   "outputs": [],
   "source": [
    "def shuffle_batch(X, y, batch_size):\n",
    "    rnd_idx = np.random.permutation(len(X))\n",
    "    n_batches = len(X) // batch_size\n",
    "    for batch_idx in np.array_split(rnd_idx, n_batches):\n",
    "        X_batch, y_batch = X[batch_idx], y[batch_idx]\n",
    "        yield X_batch, y_batch\n",
    "        # this is a generator\n",
    "        # multiple returns to single call"
   ]
  },
  {
   "cell_type": "code",
   "execution_count": 123,
   "metadata": {},
   "outputs": [],
   "source": [
    "X_test = X_test.reshape((-1, n_steps,n_inputs))"
   ]
  },
  {
   "cell_type": "code",
   "execution_count": 124,
   "metadata": {},
   "outputs": [
    {
     "name": "stdout",
     "output_type": "stream",
     "text": [
      "0 Last batch accuracy:  0.92 Test accuracy: 0.922\n",
      "1 Last batch accuracy:  0.96 Test accuracy: 0.9493\n",
      "2 Last batch accuracy:  0.9533333 Test accuracy: 0.9553\n",
      "3 Last batch accuracy:  0.9533333 Test accuracy: 0.9621\n",
      "4 Last batch accuracy:  0.9866667 Test accuracy: 0.9651\n",
      "5 Last batch accuracy:  0.9533333 Test accuracy: 0.9499\n",
      "6 Last batch accuracy:  0.97333336 Test accuracy: 0.9643\n",
      "7 Last batch accuracy:  0.9866667 Test accuracy: 0.9712\n",
      "8 Last batch accuracy:  0.96666664 Test accuracy: 0.9718\n",
      "9 Last batch accuracy:  0.9866667 Test accuracy: 0.9706\n",
      "10 Last batch accuracy:  0.9866667 Test accuracy: 0.9733\n",
      "11 Last batch accuracy:  0.98 Test accuracy: 0.9756\n",
      "12 Last batch accuracy:  0.9866667 Test accuracy: 0.9699\n",
      "13 Last batch accuracy:  0.9866667 Test accuracy: 0.977\n",
      "14 Last batch accuracy:  0.96666664 Test accuracy: 0.9725\n",
      "15 Last batch accuracy:  0.9866667 Test accuracy: 0.9732\n",
      "16 Last batch accuracy:  0.99333334 Test accuracy: 0.976\n",
      "17 Last batch accuracy:  0.98 Test accuracy: 0.9637\n",
      "18 Last batch accuracy:  0.99333334 Test accuracy: 0.9748\n",
      "19 Last batch accuracy:  0.9866667 Test accuracy: 0.975\n",
      "20 Last batch accuracy:  0.9866667 Test accuracy: 0.9743\n",
      "21 Last batch accuracy:  1.0 Test accuracy: 0.9745\n",
      "22 Last batch accuracy:  0.9866667 Test accuracy: 0.9782\n",
      "23 Last batch accuracy:  0.99333334 Test accuracy: 0.9767\n",
      "24 Last batch accuracy:  0.99333334 Test accuracy: 0.9738\n",
      "25 Last batch accuracy:  0.9866667 Test accuracy: 0.9757\n",
      "26 Last batch accuracy:  1.0 Test accuracy: 0.976\n",
      "27 Last batch accuracy:  1.0 Test accuracy: 0.9791\n",
      "28 Last batch accuracy:  0.99333334 Test accuracy: 0.9778\n",
      "29 Last batch accuracy:  0.99333334 Test accuracy: 0.9787\n",
      "30 Last batch accuracy:  0.97333336 Test accuracy: 0.9754\n",
      "31 Last batch accuracy:  0.9866667 Test accuracy: 0.9773\n",
      "32 Last batch accuracy:  0.99333334 Test accuracy: 0.9801\n",
      "33 Last batch accuracy:  1.0 Test accuracy: 0.975\n",
      "34 Last batch accuracy:  0.99333334 Test accuracy: 0.9786\n",
      "35 Last batch accuracy:  0.98 Test accuracy: 0.9722\n",
      "36 Last batch accuracy:  0.99333334 Test accuracy: 0.9724\n",
      "37 Last batch accuracy:  0.97333336 Test accuracy: 0.9749\n",
      "38 Last batch accuracy:  0.98 Test accuracy: 0.9766\n",
      "39 Last batch accuracy:  1.0 Test accuracy: 0.9777\n",
      "40 Last batch accuracy:  0.96666664 Test accuracy: 0.9767\n",
      "41 Last batch accuracy:  0.9866667 Test accuracy: 0.9691\n",
      "42 Last batch accuracy:  1.0 Test accuracy: 0.9779\n",
      "43 Last batch accuracy:  1.0 Test accuracy: 0.9779\n",
      "44 Last batch accuracy:  0.99333334 Test accuracy: 0.9731\n",
      "45 Last batch accuracy:  1.0 Test accuracy: 0.9783\n",
      "46 Last batch accuracy:  1.0 Test accuracy: 0.9736\n",
      "47 Last batch accuracy:  0.99333334 Test accuracy: 0.976\n",
      "48 Last batch accuracy:  0.9866667 Test accuracy: 0.9748\n",
      "49 Last batch accuracy:  0.9866667 Test accuracy: 0.9754\n",
      "50 Last batch accuracy:  0.98 Test accuracy: 0.9781\n",
      "51 Last batch accuracy:  1.0 Test accuracy: 0.9774\n",
      "52 Last batch accuracy:  0.9866667 Test accuracy: 0.9786\n",
      "53 Last batch accuracy:  0.99333334 Test accuracy: 0.9762\n",
      "54 Last batch accuracy:  0.9866667 Test accuracy: 0.9721\n",
      "55 Last batch accuracy:  0.98 Test accuracy: 0.975\n",
      "56 Last batch accuracy:  1.0 Test accuracy: 0.9778\n",
      "57 Last batch accuracy:  0.99333334 Test accuracy: 0.9716\n",
      "58 Last batch accuracy:  0.98 Test accuracy: 0.9796\n",
      "59 Last batch accuracy:  0.9866667 Test accuracy: 0.976\n",
      "60 Last batch accuracy:  0.99333334 Test accuracy: 0.9813\n",
      "61 Last batch accuracy:  0.99333334 Test accuracy: 0.9784\n",
      "62 Last batch accuracy:  1.0 Test accuracy: 0.9806\n",
      "63 Last batch accuracy:  1.0 Test accuracy: 0.9776\n",
      "64 Last batch accuracy:  0.99333334 Test accuracy: 0.9772\n",
      "65 Last batch accuracy:  0.9866667 Test accuracy: 0.9784\n",
      "66 Last batch accuracy:  1.0 Test accuracy: 0.9787\n",
      "67 Last batch accuracy:  0.98 Test accuracy: 0.976\n",
      "68 Last batch accuracy:  0.9866667 Test accuracy: 0.9734\n",
      "69 Last batch accuracy:  0.99333334 Test accuracy: 0.9791\n",
      "70 Last batch accuracy:  0.9866667 Test accuracy: 0.9777\n",
      "71 Last batch accuracy:  1.0 Test accuracy: 0.9773\n",
      "72 Last batch accuracy:  0.99333334 Test accuracy: 0.9775\n",
      "73 Last batch accuracy:  0.99333334 Test accuracy: 0.9768\n",
      "74 Last batch accuracy:  1.0 Test accuracy: 0.9768\n",
      "75 Last batch accuracy:  0.99333334 Test accuracy: 0.9809\n",
      "76 Last batch accuracy:  0.99333334 Test accuracy: 0.9782\n",
      "77 Last batch accuracy:  1.0 Test accuracy: 0.9794\n",
      "78 Last batch accuracy:  1.0 Test accuracy: 0.9736\n",
      "79 Last batch accuracy:  0.9866667 Test accuracy: 0.9732\n",
      "80 Last batch accuracy:  0.97333336 Test accuracy: 0.9778\n",
      "81 Last batch accuracy:  1.0 Test accuracy: 0.9785\n",
      "82 Last batch accuracy:  0.99333334 Test accuracy: 0.9743\n",
      "83 Last batch accuracy:  1.0 Test accuracy: 0.9791\n",
      "84 Last batch accuracy:  0.99333334 Test accuracy: 0.9763\n",
      "85 Last batch accuracy:  0.99333334 Test accuracy: 0.9776\n",
      "86 Last batch accuracy:  1.0 Test accuracy: 0.9788\n",
      "87 Last batch accuracy:  0.99333334 Test accuracy: 0.9777\n",
      "88 Last batch accuracy:  0.9866667 Test accuracy: 0.9785\n",
      "89 Last batch accuracy:  0.99333334 Test accuracy: 0.9724\n",
      "90 Last batch accuracy:  1.0 Test accuracy: 0.9776\n",
      "91 Last batch accuracy:  0.99333334 Test accuracy: 0.9766\n",
      "92 Last batch accuracy:  1.0 Test accuracy: 0.9777\n",
      "93 Last batch accuracy:  0.99333334 Test accuracy: 0.979\n",
      "94 Last batch accuracy:  0.99333334 Test accuracy: 0.9761\n",
      "95 Last batch accuracy:  0.99333334 Test accuracy: 0.9761\n",
      "96 Last batch accuracy:  1.0 Test accuracy: 0.9759\n",
      "97 Last batch accuracy:  0.97333336 Test accuracy: 0.9761\n",
      "98 Last batch accuracy:  0.97333336 Test accuracy: 0.9782\n",
      "99 Last batch accuracy:  0.99333334 Test accuracy: 0.9785\n"
     ]
    }
   ],
   "source": [
    "n_epochs = 100\n",
    "batch_size = 150\n",
    "\n",
    "with tf.Session() as sess:\n",
    "    init.run()\n",
    "    for epoch in range(n_epochs):\n",
    "        for X_batch, y_batch in shuffle_batch(X_train, y_train, batch_size):\n",
    "            X_batch = X_batch.reshape((-1, n_steps,n_inputs ))\n",
    "            sess.run(training_op,feed_dict={X:X_batch,y: y_batch})\n",
    "        acc_batch = accuracy.eval(feed_dict={X:X_batch, y:y_batch})\n",
    "        acc_test = accuracy.eval(feed_dict={X:X_test, y:y_test})\n",
    "        print(epoch,\"Last batch accuracy: \", acc_batch, \"Test accuracy:\", acc_test)"
   ]
  },
  {
   "cell_type": "markdown",
   "metadata": {},
   "source": [
    "### Multi Layer RNN"
   ]
  },
  {
   "cell_type": "code",
   "execution_count": 125,
   "metadata": {},
   "outputs": [],
   "source": [
    "# multi layer RNN\n",
    "\n",
    "tf.reset_default_graph()\n",
    "\n",
    "n_steps = 28\n",
    "n_inputs = 28\n",
    "n_outputs = 10\n",
    "\n",
    "learning_rate = 0.001\n",
    "\n",
    "X = tf.placeholder(tf.float32, [None,n_steps, n_inputs])\n",
    "y = tf.placeholder(tf.int32, [None])"
   ]
  },
  {
   "cell_type": "code",
   "execution_count": 126,
   "metadata": {},
   "outputs": [],
   "source": [
    "n_neurons = 100\n",
    "n_layers = 2\n",
    "\n",
    "layers = [tf.nn.rnn_cell.BasicRNNCell(num_units=n_neurons, activation=tf.nn.relu)for layer in range(n_layers)]\n",
    "# layers is not required here\n",
    "\n",
    "multi_layer_cell = tf.nn.rnn_cell.MultiRNNCell(layers)\n",
    "outputs, states = tf.nn.dynamic_rnn(multi_layer_cell, X, dtype=tf.float32)"
   ]
  },
  {
   "cell_type": "code",
   "execution_count": 127,
   "metadata": {},
   "outputs": [],
   "source": [
    "states_concat = tf.concat(axis=1, values=states)\n",
    "\n",
    "logits = tf.layers.dense(states_concat,n_outputs)\n",
    "xentropy = tf.nn.sparse_softmax_cross_entropy_with_logits(labels=y, logits=logits)\n",
    "loss = tf.reduce_mean(xentropy)\n",
    "optimizer = tf.train.AdamOptimizer(learning_rate=learning_rate)\n",
    "training_op = optimizer.minimize(loss)\n",
    "\n",
    "correct = tf.nn.in_top_k(logits, y, 1)\n",
    "accuracy = tf.reduce_mean(tf.cast(correct, tf.float32))\n",
    "\n",
    "init = tf.global_variables_initializer()"
   ]
  },
  {
   "cell_type": "code",
   "execution_count": 128,
   "metadata": {},
   "outputs": [
    {
     "name": "stdout",
     "output_type": "stream",
     "text": [
      "0 last batch accuracy:  0.9533333 test_accuracy:  0.9096\n",
      "1 last batch accuracy:  0.96666664 test_accuracy:  0.957\n",
      "2 last batch accuracy:  0.98 test_accuracy:  0.9701\n",
      "3 last batch accuracy:  0.99333334 test_accuracy:  0.9699\n",
      "4 last batch accuracy:  0.9866667 test_accuracy:  0.9735\n",
      "5 last batch accuracy:  0.9866667 test_accuracy:  0.9774\n",
      "6 last batch accuracy:  0.96666664 test_accuracy:  0.9807\n",
      "7 last batch accuracy:  0.99333334 test_accuracy:  0.9779\n",
      "8 last batch accuracy:  0.9866667 test_accuracy:  0.9812\n",
      "9 last batch accuracy:  0.9866667 test_accuracy:  0.9791\n"
     ]
    }
   ],
   "source": [
    "n_epochs = 10\n",
    "batch_size = 150\n",
    "\n",
    "with tf.Session() as sess:\n",
    "    init.run()\n",
    "    for epoch in range(n_epochs):\n",
    "        for X_batch, y_batch in shuffle_batch(X_train, y_train, batch_size):\n",
    "            X_batch = X_batch.reshape((-1,n_steps,n_inputs ))\n",
    "            sess.run(training_op, feed_dict={X:X_batch, y:y_batch})\n",
    "        acc_batch = accuracy.eval(feed_dict={X:X_batch, y: y_batch})\n",
    "        acc_test = accuracy.eval(feed_dict={X:X_test, y: y_test})\n",
    "        print(epoch, \"last batch accuracy: \", acc_batch, \"test_accuracy: \", acc_test)"
   ]
  },
  {
   "cell_type": "markdown",
   "metadata": {},
   "source": [
    "### Predicting time series"
   ]
  },
  {
   "cell_type": "code",
   "execution_count": 129,
   "metadata": {
    "scrolled": true
   },
   "outputs": [],
   "source": [
    "# creating a RNN ,of 100recurrent neurons \n",
    "# we willunrollover 20 time steps since\n",
    "# the traininginstance will be 20 inputs long\n",
    "# each input will contain only one feature (the value at that time)\n",
    "# the targets are also seuquences of 20 inputs each containing a single value\n",
    "\n",
    "t_min, t_max = 0,30\n",
    "resolution = 0.1\n",
    "\n",
    "def time_series(t):\n",
    "    return t * np.sin(t) / 3 * 2 * np.sin(t*5)\n",
    "\n",
    "def next_batch(batch_size, n_steps):\n",
    "    t0 = np.random.rand(batch_size,1) * (t_max - t_min - n_steps * resolution)\n",
    "    # print(\"to: \",t0)\n",
    "    Ts = t0 + np.arange(0., n_steps + 1) * resolution\n",
    "    # print(\"ts: \",Ts)\n",
    "    ys = time_series(Ts)\n",
    "    # print(\"ys: \",ys)\n",
    "    return ys[:,:-1].reshape(-1, n_steps, 1), ys[:, 1:].reshape(-1, n_steps, 1)"
   ]
  },
  {
   "cell_type": "code",
   "execution_count": 130,
   "metadata": {},
   "outputs": [
    {
     "name": "stdout",
     "output_type": "stream",
     "text": [
      "-0.537937969171326\n"
     ]
    }
   ],
   "source": [
    "print(time_series(1))"
   ]
  },
  {
   "cell_type": "code",
   "execution_count": 131,
   "metadata": {},
   "outputs": [
    {
     "name": "stdout",
     "output_type": "stream",
     "text": [
      "(array([[[-2.27045862],\n",
      "        [ 1.88106638],\n",
      "        [ 4.47743074],\n",
      "        [ 5.05600633],\n",
      "        [ 3.93721214]]]), array([[[1.88106638],\n",
      "        [4.47743074],\n",
      "        [5.05600633],\n",
      "        [3.93721214],\n",
      "        [2.03397945]]]))\n"
     ]
    }
   ],
   "source": [
    "print(next_batch(1, 5))"
   ]
  },
  {
   "cell_type": "code",
   "execution_count": 132,
   "metadata": {
    "scrolled": true
   },
   "outputs": [
    {
     "name": "stdout",
     "output_type": "stream",
     "text": [
      "\n",
      " [12.2   12.305 12.41  12.515 12.62  12.725 12.83  12.935 13.04  13.145\n",
      " 13.25  13.355 13.46  13.565 13.67  13.775 13.88  13.985 14.09  14.195\n",
      " 14.3  ]\n"
     ]
    },
    {
     "data": {
      "image/png": "[encoded data removed]",
      "text/plain": [
       "<Figure size 792x288 with 2 Axes>"
      ]
     },
     "metadata": {
      "needs_background": "light"
     },
     "output_type": "display_data"
    }
   ],
   "source": [
    "import matplotlib.pyplot as plt\n",
    "import numpy as np\n",
    "\n",
    "t = np.linspace(t_min, t_max,int((t_max - t_min)/resolution))\n",
    "#print(t)\n",
    "\n",
    "n_steps = 20\n",
    "t_instance = np.linspace(12.2, 12.2 + resolution * (n_steps + 1), n_steps + 1 )\n",
    "print(\"\\n\", t_instance)\n",
    "\n",
    "plt.figure(figsize=(11, 4))\n",
    "plt.subplot(121)\n",
    "plt.title(\"A time series (generated)\", fontsize=14)\n",
    "plt.plot(t,time_series(t), label=r\"$t . \\sin(t) / 3 . \\ sin(5t)$\")\n",
    "plt.plot(t_instance[:-1],time_series(t_instance[:-1]), \"b-\", linewidth=3,label=\"training instance\")\n",
    "plt.legend(loc=\"lower left\", fontsize=14)\n",
    "plt.axis([0, 30, -17, 13])\n",
    "plt.xlabel(\"Time\")\n",
    "plt.ylabel(\"Value\")\n",
    "\n",
    "plt.subplot(122)\n",
    "plt.title(\"A training instance\", fontsize=14)\n",
    "plt.plot(t_instance[:-1], time_series(t_instance[:-1]), \"bo\", markersize=10, label=\"instance\")\n",
    "plt.plot(t_instance[1:], time_series(t_instance[1:]), \"w*\", markersize=10,label=\"target\")\n",
    "plt.legend(loc=\"upper left\")\n",
    "plt.xlabel(\"Time\")\n",
    "\n",
    "plt.show()"
   ]
  },
  {
   "cell_type": "code",
   "execution_count": 133,
   "metadata": {},
   "outputs": [],
   "source": [
    "X_batch, y_batch =next_batch(1, n_steps)"
   ]
  },
  {
   "cell_type": "code",
   "execution_count": 134,
   "metadata": {
    "scrolled": true
   },
   "outputs": [
    {
     "data": {
      "text/plain": [
       "array([[ 0.34962656,  0.02691639],\n",
       "       [ 0.02691639,  0.08498895],\n",
       "       [ 0.08498895,  0.51277104],\n",
       "       [ 0.51277104,  1.10302784],\n",
       "       [ 1.10302784,  1.52880554],\n",
       "       [ 1.52880554,  1.47421005],\n",
       "       [ 1.47421005,  0.77184764],\n",
       "       [ 0.77184764, -0.50572284],\n",
       "       [-0.50572284, -2.03888299],\n",
       "       [-2.03888299, -3.3474306 ],\n",
       "       [-3.3474306 , -3.94592018],\n",
       "       [-3.94592018, -3.51648009],\n",
       "       [-3.51648009, -2.03828124],\n",
       "       [-2.03828124,  0.17524455],\n",
       "       [ 0.17524455,  2.55043351],\n",
       "       [ 2.55043351,  4.4196953 ],\n",
       "       [ 4.4196953 ,  5.22822985],\n",
       "       [ 5.22822985,  4.71324309],\n",
       "       [ 4.71324309,  2.99473614],\n",
       "       [ 2.99473614,  0.54521412]])"
      ]
     },
     "execution_count": 134,
     "metadata": {},
     "output_type": "execute_result"
    }
   ],
   "source": [
    "np.c_[X_batch[0], y_batch[0]]"
   ]
  },
  {
   "cell_type": "code",
   "execution_count": 135,
   "metadata": {},
   "outputs": [],
   "source": [
    "# using an OutputProjectionWrapper\n",
    "import tensorflow as tf\n",
    "tf.reset_default_graph()\n",
    "\n",
    "n_steps= 20\n",
    "# what are steps \n",
    "\n",
    "n_inputs = 1\n",
    "n_neurons = 100\n",
    "# what are neurons\n",
    "\n",
    "n_outputs = 1\n",
    "\n",
    "X = tf.placeholder(tf.float32, [None, n_steps, n_inputs])\n",
    "y = tf.placeholder(tf.float32,[None,n_steps,n_outputs])\n",
    "\n",
    "cell = tf.nn.rnn_cell.BasicRNNCell(num_units=n_neurons, activation=tf.nn.relu)\n",
    "outputs, states = tf.nn.dynamic_rnn(cell, X, dtype=tf.float32)\n"
   ]
  },
  {
   "cell_type": "code",
   "execution_count": 136,
   "metadata": {},
   "outputs": [],
   "source": [
    "# howeverwhat we want is a signle output value at each step\n",
    "# right now we have 100 output vectors\n",
    "# in the code above\n",
    "\n",
    "tf.reset_default_graph()\n",
    "\n",
    "n_steps = 20\n",
    "n_inputs = 1\n",
    "n_neurons = 100\n",
    "n_outputs = 1\n",
    "\n",
    "X = tf.placeholder(tf.float32, [None, n_steps, n_inputs ])\n",
    "y = tf.placeholder(tf.float32, [None, n_steps, n_outputs])\n"
   ]
  },
  {
   "cell_type": "code",
   "execution_count": 137,
   "metadata": {},
   "outputs": [],
   "source": [
    "cell = tf.contrib.rnn.OutputProjectionWrapper(\n",
    "tf.nn.rnn_cell.BasicRNNCell(num_units=n_neurons, activation=tf.nn.relu),output_size=n_outputs)"
   ]
  },
  {
   "cell_type": "code",
   "execution_count": 138,
   "metadata": {},
   "outputs": [],
   "source": [
    "outputs, states = tf.nn.dynamic_rnn(cell, X, dtype=tf.float32)"
   ]
  },
  {
   "cell_type": "code",
   "execution_count": 139,
   "metadata": {},
   "outputs": [],
   "source": [
    "learning_rate = 0.001\n",
    "\n",
    "loss = tf.reduce_mean(tf.square(outputs - y))\n",
    "optimizer = tf.train.AdamOptimizer(learning_rate= learning_rate)\n",
    "training_op = optimizer.minimize(loss)\n",
    "\n",
    "init = tf.global_variables_initializer()"
   ]
  },
  {
   "cell_type": "code",
   "execution_count": 140,
   "metadata": {},
   "outputs": [],
   "source": [
    "saver = tf.train.Saver()"
   ]
  },
  {
   "cell_type": "code",
   "execution_count": 142,
   "metadata": {},
   "outputs": [
    {
     "name": "stdout",
     "output_type": "stream",
     "text": [
      "0 \tMSE: 21.761175\n",
      "100 \tMSE: 1.3441672\n",
      "200 \tMSE: 0.42804807\n",
      "300 \tMSE: 0.78710335\n",
      "400 \tMSE: 0.49974084\n",
      "500 \tMSE: 0.45366803\n",
      "600 \tMSE: 0.28945673\n",
      "700 \tMSE: 0.40049306\n",
      "800 \tMSE: 0.31824774\n",
      "900 \tMSE: 0.35676542\n",
      "1000 \tMSE: 0.39028546\n",
      "1100 \tMSE: 0.2513819\n",
      "1200 \tMSE: 0.44661164\n",
      "1300 \tMSE: 0.5128407\n",
      "1400 \tMSE: 0.23056522\n"
     ]
    }
   ],
   "source": [
    "n_iterations = 1500\n",
    "batch_size = 50\n",
    "\n",
    "with tf.Session() as sess:\n",
    "    init.run()\n",
    "    for iteration in range(n_iterations):\n",
    "        X_batch, y_batch = next_batch(batch_size,n_steps )\n",
    "        sess.run(training_op, feed_dict={X:X_batch,y:y_batch})\n",
    "        if iteration % 100 == 0:\n",
    "            mse = loss.eval(feed_dict={X: X_batch, y:y_batch})\n",
    "            print(iteration, \"\\tMSE:\", mse)\n",
    "        saver.save(sess, \"./my_time_series_model_new\")"
   ]
  },
  {
   "cell_type": "code",
   "execution_count": 143,
   "metadata": {},
   "outputs": [],
   "source": [
    "with tf.Session() as sess:\n",
    "    saver.restore(sess, \"./my_time_series_model_new\")\n",
    "    \n",
    "    X_new = time_series(np.array(t_instance[:-1].reshape(-1, n_steps, n_inputs)))\n",
    "    y_pred = sess.run(outputs, feed_dict={X: X_new})"
   ]
  },
  {
   "cell_type": "code",
   "execution_count": 144,
   "metadata": {},
   "outputs": [
    {
     "data": {
      "text/plain": [
       "array([[[ 2.59446   ],\n",
       "        [ 0.6136053 ],\n",
       "        [-0.42247868],\n",
       "        [-0.31221056],\n",
       "        [ 0.8716989 ],\n",
       "        [ 2.2447693 ],\n",
       "        [ 3.0500097 ],\n",
       "        [ 2.908892  ],\n",
       "        [ 1.3505651 ],\n",
       "        [-1.4555708 ],\n",
       "        [-4.6396046 ],\n",
       "        [-6.9470587 ],\n",
       "        [-7.465141  ],\n",
       "        [-5.789268  ],\n",
       "        [-2.118606  ],\n",
       "        [ 2.6241388 ],\n",
       "        [ 6.842867  ],\n",
       "        [ 9.222857  ],\n",
       "        [ 9.165384  ],\n",
       "        [ 6.552421  ]]], dtype=float32)"
      ]
     },
     "execution_count": 144,
     "metadata": {},
     "output_type": "execute_result"
    }
   ],
   "source": [
    "y_pred"
   ]
  },
  {
   "cell_type": "code",
   "execution_count": 145,
   "metadata": {},
   "outputs": [
    {
     "data": {
      "image/png": "[encoded data removed]",
      "text/plain": [
       "<Figure size 432x288 with 1 Axes>"
      ]
     },
     "metadata": {
      "needs_background": "light"
     },
     "output_type": "display_data"
    }
   ],
   "source": [
    "plt.title(\"Testing the model\", fontsize =14)\n",
    "plt.plot(t_instance[:-1], time_series(t_instance[:-1]), \"bo\", markersize=10, label=\"instance\")\n",
    "plt.plot(t_instance[1:], time_series(t_instance[1:]), \"w*\", markersize=10, label=\"target\")\n",
    "plt.plot(t_instance[1:], y_pred[0, :, 0], \"r.\", markersize=10, label=\"prediction\")\n",
    "plt.legend(loc=\"upper left\")\n",
    "plt.xlabel(\"Time\")\n",
    "\n",
    "plt.show()"
   ]
  },
  {
   "cell_type": "markdown",
   "metadata": {},
   "source": [
    "### without using outputprojectionwrapper"
   ]
  },
  {
   "cell_type": "code",
   "execution_count": 146,
   "metadata": {},
   "outputs": [],
   "source": [
    "tf.reset_default_graph()\n",
    "tf.set_random_seed(42)\n",
    "np.random.seed(42)\n",
    "\n",
    "n_steps = 20\n",
    "n_inputs = 1\n",
    "n_neurons = 100\n",
    "n_outputs = 1\n",
    "\n",
    "X = tf.placeholder(tf.float32, [None, n_steps,n_inputs])\n",
    "y = tf.placeholder(tf.float32, [None,n_steps,n_outputs])\n"
   ]
  },
  {
   "cell_type": "code",
   "execution_count": 147,
   "metadata": {},
   "outputs": [],
   "source": [
    "cell = tf.nn.rnn_cell.BasicRNNCell(num_units=n_neurons,activation=tf.nn.relu)\n",
    "rnn_outputs, states = tf.nn.dynamic_rnn(cell,X,dtype=tf.float32)"
   ]
  },
  {
   "cell_type": "code",
   "execution_count": 148,
   "metadata": {},
   "outputs": [],
   "source": [
    "n_outputs = 1\n",
    "learning_rate = 0.001"
   ]
  },
  {
   "cell_type": "code",
   "execution_count": 149,
   "metadata": {
    "scrolled": true
   },
   "outputs": [],
   "source": [
    "# here we are using a dense laer to give us a single output\n",
    "\n",
    "stacked_rnn_outputs = tf.reshape(rnn_outputs, [-1,n_neurons ])\n",
    "stacked_outputs = tf.layers.dense(stacked_rnn_outputs, n_outputs)\n",
    "outputs = tf.reshape(stacked_outputs, [-1, n_steps,n_outputs])"
   ]
  },
  {
   "cell_type": "code",
   "execution_count": 150,
   "metadata": {},
   "outputs": [],
   "source": [
    "loss = tf.reduce_mean(tf.square(outputs-y))\n",
    "optimizer = tf.train.AdamOptimizer(learning_rate=learning_rate)\n",
    "training_op = optimizer.minimize(loss)\n",
    "\n",
    "init = tf.global_variables_initializer()\n",
    "saver = tf.train.Saver()"
   ]
  },
  {
   "cell_type": "code",
   "execution_count": 151,
   "metadata": {
    "scrolled": true
   },
   "outputs": [
    {
     "name": "stdout",
     "output_type": "stream",
     "text": [
      "0 \tMSE: 25.066492\n",
      "100 \tMSE: 1.6778558\n",
      "200 \tMSE: 0.6082689\n",
      "300 \tMSE: 0.62341124\n",
      "400 \tMSE: 0.35037437\n",
      "500 \tMSE: 0.5121326\n",
      "600 \tMSE: 0.44027463\n",
      "700 \tMSE: 0.5210428\n",
      "800 \tMSE: 0.5277624\n",
      "900 \tMSE: 0.43130496\n",
      "1000 \tMSE: 0.37248772\n",
      "1100 \tMSE: 0.3643724\n",
      "1200 \tMSE: 0.38959044\n",
      "1300 \tMSE: 0.45110476\n",
      "1400 \tMSE: 0.3658804\n"
     ]
    }
   ],
   "source": [
    "n_iteration = 1500\n",
    "batch_size = 50\n",
    "\n",
    "with tf.Session() as sess:\n",
    "    init.run()\n",
    "    for iteration in range(n_iterations):\n",
    "        X_batch, y_batch = next_batch(batch_size,n_steps )\n",
    "        sess.run(training_op, feed_dict={X:X_batch, y:y_batch})\n",
    "        if (iteration % 100 == 0):\n",
    "            mse = loss.eval(feed_dict={X:X_batch, y: y_batch})\n",
    "            print(iteration, \"\\tMSE:\", mse)\n",
    "        \n",
    "    X_new = time_series(np.array(t_instance[:-1].reshape(-1, n_steps, n_inputs)))\n",
    "    y_pred = sess.run(outputs, feed_dict={X:X_new})\n",
    "    \n",
    "    saver.save(sess, \"./my_time_series_model_new\")\n",
    "    "
   ]
  },
  {
   "cell_type": "code",
   "execution_count": 152,
   "metadata": {},
   "outputs": [
    {
     "data": {
      "text/plain": [
       "array([[[ 2.6722147 ],\n",
       "        [ 0.6758617 ],\n",
       "        [-0.32243362],\n",
       "        [-0.27014327],\n",
       "        [ 0.84300965],\n",
       "        [ 2.121756  ],\n",
       "        [ 3.0417194 ],\n",
       "        [ 2.9342813 ],\n",
       "        [ 1.2636949 ],\n",
       "        [-1.529304  ],\n",
       "        [-4.7223625 ],\n",
       "        [-7.030398  ],\n",
       "        [-7.429443  ],\n",
       "        [-5.667864  ],\n",
       "        [-2.0271788 ],\n",
       "        [ 2.5309901 ],\n",
       "        [ 6.7677    ],\n",
       "        [ 9.3568    ],\n",
       "        [ 9.136802  ],\n",
       "        [ 6.4486566 ]]], dtype=float32)"
      ]
     },
     "execution_count": 152,
     "metadata": {},
     "output_type": "execute_result"
    }
   ],
   "source": [
    "y_pred"
   ]
  },
  {
   "cell_type": "code",
   "execution_count": 153,
   "metadata": {
    "scrolled": false
   },
   "outputs": [
    {
     "data": {
      "image/png": "[encoded data removed]",
      "text/plain": [
       "<Figure size 432x288 with 1 Axes>"
      ]
     },
     "metadata": {
      "needs_background": "light"
     },
     "output_type": "display_data"
    }
   ],
   "source": [
    "plt.title(\"Testing the model\", fontsize =14)\n",
    "plt.plot(t_instance[:-1], time_series(t_instance[:-1]), \"bo\", markersize=10, label=\"instance\")\n",
    "plt.plot(t_instance[1:], time_series(t_instance[1:]), \"w*\", markersize=10, label=\"target\")\n",
    "plt.plot(t_instance[1:],y_pred[0,:,0], \"r.\", markersize=10, label=\"prediction\")\n",
    "plt.legend(loc=\"upper left\")\n",
    "plt.xlabel(\"Time\")\n",
    "\n",
    "plt.show()"
   ]
  },
  {
   "cell_type": "markdown",
   "metadata": {},
   "source": [
    "### generating a creative sequence"
   ]
  },
  {
   "cell_type": "code",
   "execution_count": 154,
   "metadata": {},
   "outputs": [],
   "source": [
    "with tf.Session() as sess:\n",
    "    saver.restore(sess, \"./my_time_series_model_new\")\n",
    "    \n",
    "    sequence = [0.] * n_steps\n",
    "    for iteration in range (300):\n",
    "        X_batch = np.array(sequence[-n_steps:]).reshape(1, n_steps, 1)\n",
    "        y_pred =sess.run(outputs, feed_dict={X:X_batch})\n",
    "        sequence.append(y_pred[0,-1,0])"
   ]
  },
  {
   "cell_type": "code",
   "execution_count": 155,
   "metadata": {
    "scrolled": true
   },
   "outputs": [
    {
     "data": {
      "image/png": "[encoded data removed]",
      "text/plain": [
       "<Figure size 576x288 with 1 Axes>"
      ]
     },
     "metadata": {
      "needs_background": "light"
     },
     "output_type": "display_data"
    }
   ],
   "source": [
    "plt.figure(figsize=(8,4))\n",
    "plt.plot(np.arange(len(sequence)), sequence, \"b-\")\n",
    "plt.plot(t[:n_steps], sequence[:n_steps], \"b-\", linewidth=3)\n",
    "plt.xlabel(\"Time\")\n",
    "plt.ylabel(\"Value\")\n",
    "plt.show()"
   ]
  },
  {
   "cell_type": "code",
   "execution_count": 156,
   "metadata": {},
   "outputs": [
    {
     "data": {
      "image/png": "[encoded data removed]",
      "text/plain": [
       "<Figure size 792x288 with 2 Axes>"
      ]
     },
     "metadata": {
      "needs_background": "light"
     },
     "output_type": "display_data"
    }
   ],
   "source": [
    "with tf.Session() as sess:\n",
    "    saver.restore(sess, \"./my_time_series_model_new\")\n",
    "    \n",
    "    sequence1 = [0. for i in range(n_steps)]\n",
    "    for iteration in range(len(t) - n_steps):\n",
    "        X_batch = np.array(sequence1[-n_steps:]).reshape(1,n_steps, 1)\n",
    "        y_pred = sess.run(outputs, feed_dict={X: X_batch })\n",
    "        sequence1.append(y_pred[0,-1,0])\n",
    "    sequence2 = [time_series(i * resolution + t_min + (t_max-t_min/3)) for i in range(n_steps)]\n",
    "    for iteration in range(len(t) - n_steps):\n",
    "        X_batch =np.array(sequence2[-n_steps:]).reshape(1,n_steps, 1)\n",
    "        y_pred = sess.run(outputs, feed_dict={X:X_batch})\n",
    "        sequence2.append(y_pred[0,-1,0])\n",
    "\n",
    "plt.figure(figsize=(11,4))\n",
    "plt.subplot(121)\n",
    "plt.plot(t, sequence1, \"b-\")\n",
    "plt.plot(t[:n_steps], sequence1[:n_steps], \"b-\",linewidth=3 )\n",
    "plt.xlabel(\"Time\")\n",
    "plt.ylabel(\"Value\")\n",
    "\n",
    "plt.subplot(122)\n",
    "plt.plot(t, sequence2, \"b-\")\n",
    "plt.plot(t[:n_steps], sequence2[:n_steps], \"b-\", linewidth=3)\n",
    "plt.xlabel(\"Time\")\n",
    "plt.show()"
   ]
  },
  {
   "cell_type": "code",
   "execution_count": 157,
   "metadata": {},
   "outputs": [],
   "source": [
    "\n",
    "# with tf.Session() as sess:\n",
    "#     saver.restore(sess, \"./my_time_series_model_new\")\n",
    "    \n",
    "#     sequence = [0.] * n_steps\n",
    "#     for iteration in range(300):\n",
    "#         X_batch = np.array(sequence[-n_steps:]).reshape(1,n_steps,1)\n",
    "#         y_pred = sess.run(outputs, feed_dict={X:X_batch})\n",
    "\n",
    "#         sequence.append(y_pred[0,-1, 0])"
   ]
  },
  {
   "cell_type": "code",
   "execution_count": 158,
   "metadata": {
    "scrolled": true
   },
   "outputs": [
    {
     "data": {
      "image/png": "[encoded data removed]",
      "text/plain": [
       "<Figure size 576x288 with 1 Axes>"
      ]
     },
     "metadata": {
      "needs_background": "light"
     },
     "output_type": "display_data"
    }
   ],
   "source": [
    "# t_min, t_max = 0, 30\n",
    "# resolution = 0.1\n",
    "\n",
    "# t = np.linspace(t_min, t_max, int((t_max - t_min) / resolution))\n",
    "\n",
    "# plt.figure(figsize=(8,4))\n",
    "# plt.plot(np.arange(len(sequence)), sequence, \"b-\")\n",
    "# plt.plot(t[:n_steps], sequence[:n_steps], \"b-\", linewidth=3)\n",
    "# plt.xlabel(\"Time\")\n",
    "# plt.ylabel(\"Value\")\n",
    "# plt.show()"
   ]
  },
  {
   "cell_type": "code",
   "execution_count": 159,
   "metadata": {},
   "outputs": [
    {
     "data": {
      "image/png": "[encoded data removed]",
      "text/plain": [
       "<Figure size 792x288 with 2 Axes>"
      ]
     },
     "metadata": {
      "needs_background": "light"
     },
     "output_type": "display_data"
    }
   ],
   "source": [
    "# with tf.Session() as sess:\n",
    "#     saver.restore(sess, \"./my_time_series_model_new\")\n",
    "\n",
    "#     sequence1 = [0. for i in range(n_steps)]\n",
    "#     for iteration in range(len(t) - n_steps):\n",
    "#         X_batch = np.array(sequence1[-n_steps:]).reshape(1, n_steps, 1)\n",
    "#         y_pred = sess.run(outputs, feed_dict={X: X_batch})\n",
    "#         sequence1.append(y_pred[0, -1, 0])\n",
    "\n",
    "#     sequence2 = [time_series(i * resolution + t_min + (t_max-t_min/3)) for i in range(n_steps)]\n",
    "#     for iteration in range(len(t) - n_steps):\n",
    "#         X_batch = np.array(sequence2[-n_steps:]).reshape(1, n_steps, 1)\n",
    "#         y_pred = sess.run(outputs, feed_dict={X: X_batch})\n",
    "#         sequence2.append(y_pred[0, -1, 0])\n",
    "\n",
    "# plt.figure(figsize=(11,4))\n",
    "# plt.subplot(121)\n",
    "# plt.plot(t, sequence1, \"b-\")\n",
    "# plt.plot(t[:n_steps], sequence1[:n_steps], \"b-\", linewidth=3)\n",
    "# plt.xlabel(\"Time\")\n",
    "# plt.ylabel(\"Value\")\n",
    "\n",
    "# plt.subplot(122)\n",
    "# plt.plot(t, sequence2, \"b-\")\n",
    "# plt.plot(t[:n_steps], sequence2[:n_steps], \"b-\", linewidth=3)\n",
    "# plt.xlabel(\"Time\")\n",
    "\n",
    "# plt.show()"
   ]
  },
  {
   "cell_type": "markdown",
   "metadata": {},
   "source": [
    "### MultiRNNCell"
   ]
  },
  {
   "cell_type": "code",
   "execution_count": 160,
   "metadata": {},
   "outputs": [],
   "source": [
    "tf.reset_default_graph()\n",
    "\n",
    "n_inputs = 2\n",
    "n_steps = 5\n",
    "\n",
    "X = tf.placeholder(tf.float32, [None,n_steps, n_inputs])\n"
   ]
  },
  {
   "cell_type": "code",
   "execution_count": 161,
   "metadata": {},
   "outputs": [],
   "source": [
    "n_neurons = 100\n",
    "n_layers = 3\n",
    "\n",
    "layers = [tf.nn.rnn_cell.BasicRNNCell(num_units=n_neurons) for layer in range(n_layers)]\n",
    "\n",
    "multi_layer_cell = tf.nn.rnn_cell.MultiRNNCell(layers)\n",
    "outputs, state = tf.nn.dynamic_rnn(multi_layer_cell,X, dtype=tf.float32)\n"
   ]
  },
  {
   "cell_type": "code",
   "execution_count": 162,
   "metadata": {},
   "outputs": [],
   "source": [
    "init = tf.global_variables_initializer()"
   ]
  },
  {
   "cell_type": "code",
   "execution_count": 163,
   "metadata": {},
   "outputs": [],
   "source": [
    "X_batch = np.random.rand(2, n_steps,n_inputs)"
   ]
  },
  {
   "cell_type": "code",
   "execution_count": 165,
   "metadata": {
    "scrolled": false
   },
   "outputs": [],
   "source": [
    "# with tf.Session() as sess:\n",
    "#     init.run()\n",
    "#     outputs_val, states_val = sess.run([outputs, states], feed_dict={X: X_batch})"
   ]
  },
  {
   "cell_type": "code",
   "execution_count": 167,
   "metadata": {},
   "outputs": [],
   "source": [
    "#outputs_val.shape\n",
    "\n",
    "# multi layer rnn has been defined above"
   ]
  },
  {
   "cell_type": "markdown",
   "metadata": {},
   "source": [
    "### Dropout"
   ]
  },
  {
   "cell_type": "code",
   "execution_count": 166,
   "metadata": {},
   "outputs": [],
   "source": [
    "tf.reset_default_graph()\n",
    "\n",
    "n_inputs = 1\n",
    "n_neurons = 100\n",
    "n_layers = 3\n",
    "n_steps = 20\n",
    "n_outputs = 1"
   ]
  },
  {
   "cell_type": "code",
   "execution_count": 168,
   "metadata": {},
   "outputs": [],
   "source": [
    "X = tf.placeholder(tf.float32, [None,n_steps, n_inputs])\n",
    "y = tf.placeholder(tf.float32, [None,n_steps, n_outputs])"
   ]
  },
  {
   "cell_type": "code",
   "execution_count": 172,
   "metadata": {},
   "outputs": [],
   "source": [
    "keep_prob = tf.placeholder_with_default(1.0, shape=())\n",
    "# if we togglekeep prob to 0 then there would be no dropout\n",
    "\n",
    "cells = [tf.nn.rnn_cell.BasicRNNCell(num_units=n_neurons) for layer in range(n_layers)]\n",
    "cells_drop = [tf.nn.rnn_cell.DropoutWrapper(cell,input_keep_prob=keep_prob ) for cell in cells]\n",
    "\n",
    "multi_layer_cell = tf.nn.rnn_cell.MultiRNNCell(cells_drop)\n",
    "rnn_outputs, states = tf.nn.dynamic_rnn(multi_layer_cell, X, dtype=tf.float32)"
   ]
  },
  {
   "cell_type": "code",
   "execution_count": 173,
   "metadata": {},
   "outputs": [],
   "source": [
    "learning_rate = 0.01\n",
    "\n",
    "stacked_rnn_outputs = tf.reshape(rnn_outputs, [-1,n_neurons ])\n",
    "stacked_outputs = tf.layers.dense(stacked_rnn_outputs, n_outputs)\n",
    "outputs = tf.reshape(stacked_outputs, [-1, n_steps,n_outputs])\n",
    "\n",
    "loss = tf.reduce_mean(tf.square(outputs - y))\n",
    "optimizer = tf.train.AdamOptimizer(learning_rate=learning_rate)\n",
    "training_op = optimizer.minimize(loss)\n",
    "\n",
    "init = tf.global_variables_initializer()\n",
    "saver = tf.train.Saver()"
   ]
  },
  {
   "cell_type": "code",
   "execution_count": 174,
   "metadata": {
    "scrolled": false
   },
   "outputs": [
    {
     "name": "stdout",
     "output_type": "stream",
     "text": [
      "0 Training MSE: 35.582966\n",
      "100 Training MSE: 8.741092\n",
      "200 Training MSE: 12.690717\n",
      "300 Training MSE: 8.558952\n",
      "400 Training MSE: 8.438201\n",
      "500 Training MSE: 6.093813\n",
      "600 Training MSE: 8.873587\n",
      "700 Training MSE: 9.073093\n",
      "800 Training MSE: 7.9407773\n",
      "900 Training MSE: 8.60442\n",
      "1000 Training MSE: 10.856989\n",
      "1100 Training MSE: 7.905676\n",
      "1200 Training MSE: 7.909205\n",
      "1300 Training MSE: 11.046001\n",
      "1400 Training MSE: 11.338633\n"
     ]
    }
   ],
   "source": [
    "n_iterations = 1500\n",
    "batch_size =50\n",
    "train_keep_prob = 0.5\n",
    "\n",
    "with tf.Session() as sess:\n",
    "    init.run()\n",
    "    for iteration in range(n_iterations):\n",
    "        X_batch, y_batch = next_batch(batch_size, n_steps)\n",
    "        _, mse = sess.run([training_op,loss],\n",
    "                          feed_dict={X:X_batch, y:y_batch,\n",
    "                                     keep_prob: train_keep_prob})\n",
    "        if iteration % 100 == 0:\n",
    "            print(iteration, \"Training MSE:\", mse)\n",
    "    \n",
    "    saver.save(sess, \"./my_dropout_time_series_model\")"
   ]
  },
  {
   "cell_type": "code",
   "execution_count": 176,
   "metadata": {},
   "outputs": [],
   "source": [
    "with tf.Session() as sess:\n",
    "    saver.restore(sess, \"my_dropout_time_series_model\")\n",
    "    \n",
    "    X_new = time_series(np.array(t_instance[:-1]).reshape(-1, n_steps,n_inputs))\n",
    "    y_pred = sess.run(outputs, feed_dict={X:X_new})"
   ]
  },
  {
   "cell_type": "code",
   "execution_count": 178,
   "metadata": {
    "scrolled": true
   },
   "outputs": [
    {
     "data": {
      "image/png": "[encoded data removed]",
      "text/plain": [
       "<Figure size 432x288 with 1 Axes>"
      ]
     },
     "metadata": {
      "needs_background": "light"
     },
     "output_type": "display_data"
    }
   ],
   "source": [
    "plt.title(\"Testing the model\", fontsize=14)\n",
    "plt.plot(t_instance[:-1], time_series(t_instance[:-1]), \"bo\", markersize=10, label=\"instance\")\n",
    "plt.plot(t_instance[1:],time_series(t_instance[1:]), \"w*\", markersize=10, label=\"target\")\n",
    "plt.plot(t_instance[1:], y_pred[0,:,0],\"r.\", markersize=11,label=\"prediction\")\n",
    "plt.legend(loc=\"upper left\")\n",
    "plt.xlabel(\"Time\")\n",
    "\n",
    "plt.show()"
   ]
  },
  {
   "cell_type": "markdown",
   "metadata": {},
   "source": [
    "### LSTM"
   ]
  },
  {
   "cell_type": "code",
   "execution_count": 179,
   "metadata": {},
   "outputs": [
    {
     "name": "stderr",
     "output_type": "stream",
     "text": [
      "W0619 07:33:16.745778 14668 deprecation.py:323] From <ipython-input-179-bf2b5e780551>:5: BasicLSTMCell.__init__ (from tensorflow.python.ops.rnn_cell_impl) is deprecated and will be removed in a future version.\n",
      "Instructions for updating:\n",
      "This class is equivalent as tf.keras.layers.LSTMCell, and will be replaced by that in Tensorflow 2.0.\n"
     ]
    }
   ],
   "source": [
    "# using an LSTM\n",
    "\n",
    "tf.reset_default_graph()\n",
    "\n",
    "lstm_cell = tf.nn.rnn_cell.BasicLSTMCell(num_units=n_neurons)"
   ]
  },
  {
   "cell_type": "code",
   "execution_count": 181,
   "metadata": {},
   "outputs": [],
   "source": [
    "n_steps = 28\n",
    "n_inputs = 28\n",
    "n_neurons = 150\n",
    "n_outputs = 10\n",
    "n_layers = 3\n",
    "\n",
    "learning_rate = 0.001\n",
    "\n",
    "X = tf.placeholder(tf.float32, [None, n_steps, n_inputs])\n",
    "y = tf.placeholder(tf.int32, [None])\n",
    "\n",
    "lstm_cells = [tf.nn.rnn_cell.BasicLSTMCell(num_units=n_neurons)\n",
    "              for layer in range(n_layers)]\n",
    "multi_cell = tf.nn.rnn_cell.MultiRNNCell(lstm_cells)\n",
    "outputs, states = tf.nn.dynamic_rnn(multi_cell, X, dtype=tf.float32)\n",
    "top_layer_h_state = states[-1][1]\n",
    "logits = tf.layers.dense(top_layer_h_state, n_outputs, name=\"softmax\")\n",
    "xentropy = tf.nn.sparse_softmax_cross_entropy_with_logits(labels=y, logits=logits)\n",
    "loss = tf.reduce_mean(xentropy, name=\"loss\")\n",
    "optimizer = tf.train.AdamOptimizer(learning_rate=learning_rate)\n",
    "training_op = optimizer.minimize(loss)\n",
    "correct = tf.nn.in_top_k(logits, y, 1)\n",
    "accuracy = tf.reduce_mean(tf.cast(correct, tf.float32))\n",
    "    \n",
    "init = tf.global_variables_initializer()"
   ]
  },
  {
   "cell_type": "code",
   "execution_count": 182,
   "metadata": {},
   "outputs": [
    {
     "data": {
      "text/plain": [
       "(LSTMStateTuple(c=<tf.Tensor 'rnn/while/Exit_3:0' shape=(?, 150) dtype=float32>, h=<tf.Tensor 'rnn/while/Exit_4:0' shape=(?, 150) dtype=float32>),\n",
       " LSTMStateTuple(c=<tf.Tensor 'rnn/while/Exit_5:0' shape=(?, 150) dtype=float32>, h=<tf.Tensor 'rnn/while/Exit_6:0' shape=(?, 150) dtype=float32>),\n",
       " LSTMStateTuple(c=<tf.Tensor 'rnn/while/Exit_7:0' shape=(?, 150) dtype=float32>, h=<tf.Tensor 'rnn/while/Exit_8:0' shape=(?, 150) dtype=float32>))"
      ]
     },
     "execution_count": 182,
     "metadata": {},
     "output_type": "execute_result"
    }
   ],
   "source": [
    "states"
   ]
  },
  {
   "cell_type": "code",
   "execution_count": 183,
   "metadata": {},
   "outputs": [
    {
     "data": {
      "text/plain": [
       "<tf.Tensor 'rnn/while/Exit_8:0' shape=(?, 150) dtype=float32>"
      ]
     },
     "execution_count": 183,
     "metadata": {},
     "output_type": "execute_result"
    }
   ],
   "source": [
    "top_layer_h_state"
   ]
  },
  {
   "cell_type": "code",
   "execution_count": 185,
   "metadata": {},
   "outputs": [
    {
     "name": "stdout",
     "output_type": "stream",
     "text": [
      "0 last batch acc:  0.94 test:  0.9528\n",
      "1 last batch acc:  0.94666666 test:  0.9686\n",
      "2 last batch acc:  0.99333334 test:  0.9778\n",
      "3 last batch acc:  0.99333334 test:  0.982\n",
      "4 last batch acc:  0.99333334 test:  0.9834\n",
      "5 last batch acc:  0.9866667 test:  0.9806\n",
      "6 last batch acc:  1.0 test:  0.9843\n",
      "7 last batch acc:  1.0 test:  0.984\n",
      "8 last batch acc:  0.9866667 test:  0.9882\n",
      "9 last batch acc:  0.99333334 test:  0.9843\n"
     ]
    }
   ],
   "source": [
    "n_epochs = 10\n",
    "batch_size =150\n",
    "\n",
    "with tf.Session() as sess:\n",
    "    init.run()\n",
    "    for epoch in range(n_epochs):\n",
    "        for X_batch, y_batch in shuffle_batch(X_train, y_train, batch_size):\n",
    "            X_batch = X_batch.reshape((-1, n_steps, n_inputs ))\n",
    "            sess.run(training_op, feed_dict={X:X_batch, y:y_batch})\n",
    "        acc_batch = accuracy.eval(feed_dict={X:X_batch, y:y_batch})\n",
    "        acc_test = accuracy.eval(feed_dict={X:X_test, y:y_test})\n",
    "        print(epoch, \"last batch acc: \", acc_batch, \"test: \", acc_test)"
   ]
  },
  {
   "cell_type": "code",
   "execution_count": 186,
   "metadata": {},
   "outputs": [
    {
     "name": "stderr",
     "output_type": "stream",
     "text": [
      "W0619 07:48:55.169469 14668 deprecation.py:323] From <ipython-input-186-24b025f4b732>:1: LSTMCell.__init__ (from tensorflow.python.ops.rnn_cell_impl) is deprecated and will be removed in a future version.\n",
      "Instructions for updating:\n",
      "This class is equivalent as tf.keras.layers.LSTMCell, and will be replaced by that in Tensorflow 2.0.\n"
     ]
    }
   ],
   "source": [
    "lstm_cell = tf.nn.rnn_cell.LSTMCell(num_units=n_neurons, use_peepholes=True)"
   ]
  },
  {
   "cell_type": "code",
   "execution_count": 187,
   "metadata": {
    "scrolled": true
   },
   "outputs": [
    {
     "name": "stderr",
     "output_type": "stream",
     "text": [
      "W0619 07:48:55.176451 14668 deprecation.py:323] From <ipython-input-187-4196517ff9aa>:1: GRUCell.__init__ (from tensorflow.python.ops.rnn_cell_impl) is deprecated and will be removed in a future version.\n",
      "Instructions for updating:\n",
      "This class is equivalent as tf.keras.layers.GRUCell, and will be replaced by that in Tensorflow 2.0.\n"
     ]
    }
   ],
   "source": [
    "gru_cell = tf.nn.rnn_cell.GRUCell(num_units=n_neurons)"
   ]
  },
  {
   "cell_type": "markdown",
   "metadata": {},
   "source": [
    "## Embeddings"
   ]
  },
  {
   "cell_type": "code",
   "execution_count": 1,
   "metadata": {},
   "outputs": [],
   "source": [
    "from six.moves import urllib\n",
    "\n",
    "import errno\n",
    "import os\n",
    "import zipfile\n",
    "\n",
    "WORDS_PATH = \"datasets/words\"\n",
    "WORDS_URL = 'http://mattmahoney.net/dc/text8.zip'\n",
    "\n",
    "def fetch_word_data(words_url = WORDS_URL, words_path=WORDS_PATH):\n",
    "    os.makedirs(words_path, exist_ok=True)\n",
    "    zip_path = os.path.join(words_path, \"words.zip\")\n",
    "    if not os.path.exists(zip_path):\n",
    "        urllib.request.urlretrieve(words_url, zip_path)\n",
    "    with zipfile.ZipFile(zip_path) as f:\n",
    "        data = f.read(f.namelist()[0])\n",
    "    return data.decode(\"ascii\").split()\n"
   ]
  },
  {
   "cell_type": "code",
   "execution_count": 3,
   "metadata": {},
   "outputs": [],
   "source": [
    "words = fetch_word_data()"
   ]
  },
  {
   "cell_type": "code",
   "execution_count": 5,
   "metadata": {},
   "outputs": [
    {
     "data": {
      "text/plain": [
       "['anarchism', 'originated', 'as', 'a', 'term']"
      ]
     },
     "execution_count": 5,
     "metadata": {},
     "output_type": "execute_result"
    }
   ],
   "source": [
    "words[:5]"
   ]
  },
  {
   "cell_type": "markdown",
   "metadata": {},
   "source": [
    "### Build the dictionary"
   ]
  },
  {
   "cell_type": "code",
   "execution_count": 8,
   "metadata": {},
   "outputs": [],
   "source": [
    "from collections import Counter\n",
    "import numpy as np\n",
    "vocabulary_size =50000\n",
    "\n",
    "vocabulary = [(\"UNK\", None)] + Counter(words).most_common(vocabulary_size -1)\n",
    "vocabulary = np.array([word for word, _ in vocabulary])\n",
    "dictionary = { word: code for code, word in enumerate(vocabulary)}\n",
    "data =np.array([dictionary.get(word, 0) for word in words])\n"
   ]
  },
  {
   "cell_type": "code",
   "execution_count": 9,
   "metadata": {},
   "outputs": [
    {
     "data": {
      "text/plain": [
       "('anarchism originated as a term of abuse first used',\n",
       " array([5234, 3081,   12,    6,  195,    2, 3134,   46,   59]))"
      ]
     },
     "execution_count": 9,
     "metadata": {},
     "output_type": "execute_result"
    }
   ],
   "source": [
    "\" \".join(words[:9]), data[:9]"
   ]
  },
  {
   "cell_type": "code",
   "execution_count": 10,
   "metadata": {},
   "outputs": [
    {
     "data": {
      "text/plain": [
       "'cycles originated as a term of abuse first used'"
      ]
     },
     "execution_count": 10,
     "metadata": {},
     "output_type": "execute_result"
    }
   ],
   "source": [
    "\" \".join([vocabulary[word_index] for word_index in [5241, 3081, 12, 6, 195, 2, 3134, 46, 59] ])"
   ]
  },
  {
   "cell_type": "code",
   "execution_count": 11,
   "metadata": {},
   "outputs": [
    {
     "data": {
      "text/plain": [
       "('culottes', 0)"
      ]
     },
     "execution_count": 11,
     "metadata": {},
     "output_type": "execute_result"
    }
   ],
   "source": [
    "words[24], data[24]"
   ]
  }
 ],
 "metadata": {
  "kernelspec": {
   "display_name": "Python (tf_gpu)",
   "language": "python",
   "name": "tf_gpu"
  },
  "language_info": {
   "codemirror_mode": {
    "name": "ipython",
    "version": 3
   },
   "file_extension": ".py",
   "mimetype": "text/x-python",
   "name": "python",
   "nbconvert_exporter": "python",
   "pygments_lexer": "ipython3",
   "version": "3.7.4"
  }
 },
 "nbformat": 4,
 "nbformat_minor": 2
}
