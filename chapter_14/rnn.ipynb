{
 "cells": [
  {
   "cell_type": "code",
   "execution_count": 20,
   "metadata": {},
   "outputs": [],
   "source": [
    "#basic RNN\n",
    "import tensorflow as tf\n",
    "\n",
    "n_inputs =3\n",
    "n_neurons = 5\n",
    "\n",
    "X0 =  tf.placeholder(tf.float32, [None, n_inputs])\n",
    "X1 = tf.placeholder(tf.float32, [None, n_inputs])\n",
    "\n",
    "Wx = tf.Variable(tf.random_normal(shape=[n_inputs, n_neurons], dtype=tf.float32))\n",
    "Wy = tf.Variable(tf.random_normal(shape=[n_neurons, n_neurons], dtype=tf.float32))\n",
    "b = tf.Variable(tf.zeros([1, n_neurons], dtype=tf.float32))\n",
    "\n",
    "Y0 = tf.tanh(tf.matmul(X0, Wx) +b)\n",
    "Y1 = tf.tanh(tf.matmul(Y0, Wy) + tf.matmul(X1, Wx) + b)\n",
    "\n",
    "init = tf.global_variables_initializer()"
   ]
  },
  {
   "cell_type": "code",
   "execution_count": 21,
   "metadata": {},
   "outputs": [],
   "source": [
    "import numpy as np\n",
    "\n",
    "X0_batch = np.array([[0,1,2], [3,4,5], [6,7,8], [9,0,1]])\n",
    "X1_batch = np.array([[9,8,7],[0,0,0],[6,5,4],[3,2,1]])\n",
    "\n",
    "with tf.Session() as sess:\n",
    "    init.run()\n",
    "    Y0_val, Y1_val = sess.run([Y0, Y1], feed_dict={X0:X0_batch, X1:X1_batch})\n",
    "    "
   ]
  },
  {
   "cell_type": "code",
   "execution_count": 22,
   "metadata": {},
   "outputs": [
    {
     "name": "stdout",
     "output_type": "stream",
     "text": [
      "[[ 0.736362    0.56424904 -0.9928428   0.99697137  0.9957681 ]\n",
      " [ 0.9999985   0.98514026 -1.          1.          1.        ]\n",
      " [ 1.          0.9995978  -1.          1.          1.        ]\n",
      " [ 0.99999887  0.9990503  -0.99999994  0.99999994  0.99580586]]\n"
     ]
    }
   ],
   "source": [
    "print(Y0_val)"
   ]
  },
  {
   "cell_type": "code",
   "execution_count": 23,
   "metadata": {
    "scrolled": true
   },
   "outputs": [
    {
     "name": "stdout",
     "output_type": "stream",
     "text": [
      "[[ 1.          0.9999874  -1.          1.          1.        ]\n",
      " [ 0.69753206  0.6118082  -0.90616906  0.9795825  -0.8114883 ]\n",
      " [ 1.          0.9986853  -1.          1.          1.        ]\n",
      " [ 0.9999879   0.9524181  -0.99999994  0.99996644  0.9973081 ]]\n"
     ]
    }
   ],
   "source": [
    "print(Y1_val)"
   ]
  },
  {
   "cell_type": "markdown",
   "metadata": {},
   "source": [
    "## BasicRNNCell"
   ]
  },
  {
   "cell_type": "code",
   "execution_count": 24,
   "metadata": {},
   "outputs": [],
   "source": [
    "tf.reset_default_graph()\n",
    "# static unrolling through time\n",
    "\n",
    "X0 = tf.placeholder(tf.float32, [None, n_inputs])\n",
    "X1 = tf.placeholder(tf.float32, [None, n_inputs])\n",
    "# we create input palceholders\n",
    "\n",
    "basic_cell = tf.contrib.rnn.BasicRNNCell(num_units=n_neurons)\n",
    "#  we create BasicRNNCell which you can think of as a factory that creates copies of the cell to build the unrolled RNN\n",
    "\n",
    "output_seqs,states = tf.contrib.rnn.static_rnn(\n",
    "                     basic_cell, [X0, X1], dtype=tf.float32)\n",
    "# we call static rnn which calls the BasicRNNCell creating two copies of cell\n",
    "\n",
    "\n",
    "Y0, Y1 = output_seqs"
   ]
  },
  {
   "cell_type": "code",
   "execution_count": 25,
   "metadata": {},
   "outputs": [
    {
     "name": "stdout",
     "output_type": "stream",
     "text": [
      "Tensor(\"rnn/basic_rnn_cell/Tanh:0\", shape=(?, 5), dtype=float32)\n",
      "Tensor(\"rnn/basic_rnn_cell/Tanh_1:0\", shape=(?, 5), dtype=float32)\n"
     ]
    }
   ],
   "source": [
    "# if there wer 50 time steps, it wouldnot be ery convenient to have ot \n",
    "# define 50 input placeholders and 50 output tensors\n",
    "\n",
    "print(Y0)\n",
    "print(Y1)\n",
    "\n"
   ]
  },
  {
   "cell_type": "code",
   "execution_count": 26,
   "metadata": {},
   "outputs": [],
   "source": [
    "# using the packing sequences\n",
    "init = tf.global_variables_initializer()\n",
    "\n",
    "with tf.Session() as sess:\n",
    "    init.run()\n",
    "    Y0_val, Y1_val = sess.run([Y0, Y1], feed_dict={X0:X0_batch, X1:X1_batch})"
   ]
  },
  {
   "cell_type": "code",
   "execution_count": 27,
   "metadata": {},
   "outputs": [
    {
     "data": {
      "text/plain": [
       "array([[-0.6220045 ,  0.3434742 ,  0.5967921 ,  0.5467581 , -0.11334981],\n",
       "       [-0.8740386 ,  0.9972768 ,  0.987609  ,  0.9661833 , -0.81035984],\n",
       "       [-0.96196574,  0.9999924 ,  0.9996922 ,  0.99798304, -0.972817  ],\n",
       "       [-0.27229077,  0.9997892 ,  0.99158883,  0.99976593, -0.99935156]],\n",
       "      dtype=float32)"
      ]
     },
     "execution_count": 27,
     "metadata": {},
     "output_type": "execute_result"
    }
   ],
   "source": [
    "Y0_val"
   ]
  },
  {
   "cell_type": "code",
   "execution_count": 28,
   "metadata": {
    "scrolled": true
   },
   "outputs": [
    {
     "data": {
      "text/plain": [
       "array([[-0.62965757,  0.99999994,  0.9999669 ,  0.9991317 , -0.9964192 ],\n",
       "       [ 0.6258266 ,  0.7319028 ,  0.891579  , -0.2367793 , -0.00984494],\n",
       "       [ 0.22992855,  0.99999607,  0.9997939 ,  0.9622914 , -0.95374256],\n",
       "       [ 0.55169165,  0.9969307 ,  0.97981477,  0.08551132, -0.7642403 ]],\n",
       "      dtype=float32)"
      ]
     },
     "execution_count": 28,
     "metadata": {},
     "output_type": "execute_result"
    }
   ],
   "source": [
    "Y1_val"
   ]
  },
  {
   "cell_type": "code",
   "execution_count": 30,
   "metadata": {},
   "outputs": [],
   "source": [
    "# from tensorflow_graph_in_jupyter import show_graph\n",
    "\n",
    "# show_graph(tf.get_default_graph())"
   ]
  },
  {
   "cell_type": "markdown",
   "metadata": {},
   "source": [
    "## Packing Sequences"
   ]
  },
  {
   "cell_type": "code",
   "execution_count": 31,
   "metadata": {},
   "outputs": [],
   "source": [
    "# the following cide builds the same RNN again but thistime it takes asingle input \n",
    "# placeholder of hsape [None, n_steps, n_inputs ] where the first  fimensions is the mini batch size\\\n",
    "# Then it extract thelist of input sequences for each time step\n",
    "# X_seqs is a Python list of n_steps tensors of shape [None,n_inputs]\n",
    "# where once again the first dimension is the mini batch size\n",
    "# To do this, we first swap using transpose function so that the time steps are now the first dimension \n",
    "# then we use the unstack function. The next twolines are the sam\n",
    "# finally we merge the the output tensors into a single tensor using stack() function\n",
    "# and we sqap the first two fimension to get a final outputs tensor\n",
    "# of shape [None, n_steps, n_neurons]\n",
    "\n",
    "n_steps =2\n",
    "tf.reset_default_graph()\n",
    "\n",
    "X = tf.placeholder(tf.float32, [None, n_steps,n_inputs])\n",
    "X_seqs = tf.unstack(tf.transpose(X,perm=[1,0,2]))\n",
    "basic_cell = tf.contrib.rnn.BasicRNNCell(num_units=n_neurons)\n",
    "output_seqs, states = tf.contrib.rnn.static_rnn(basic_cell, X_seqs, dtype=tf.float32)\n",
    "outputs = tf.transpose(tf.stack(output_seqs), perm=[1,0,2])"
   ]
  },
  {
   "cell_type": "code",
   "execution_count": 32,
   "metadata": {},
   "outputs": [],
   "source": [
    "init = tf.global_variables_initializer()"
   ]
  },
  {
   "cell_type": "code",
   "execution_count": 34,
   "metadata": {
    "scrolled": true
   },
   "outputs": [
    {
     "name": "stdout",
     "output_type": "stream",
     "text": [
      "[[[ 0.80800104 -0.25818652  0.88132834  0.79292494 -0.08273872]\n",
      "  [-0.5822327  -0.9999026   0.999995   -0.657447   -0.96924794]]\n",
      "\n",
      " [[ 0.8161503  -0.9309901   0.99883807  0.84217244 -0.7897056 ]\n",
      "  [ 0.5496408  -0.85100687  0.21461645 -0.20366207  0.8525351 ]]\n",
      "\n",
      " [[ 0.82398736 -0.9956768   0.9999893   0.88048846 -0.9679276 ]\n",
      "  [-0.33215857 -0.999035    0.9979041  -0.7774459  -0.4956271 ]]\n",
      "\n",
      " [[-0.9999593  -0.999779    0.14563009 -0.9997508  -0.93437034]\n",
      "  [-0.87933636 -0.6990654  -0.65328014 -0.6297835  -0.6142405 ]]]\n"
     ]
    }
   ],
   "source": [
    "X_batch= np.array([\n",
    "    [[0,1,2], [9,8,7]],\n",
    "    [[3,4,5], [0,0,0]],\n",
    "    [[6,7,8], [6,5,4]],\n",
    "    [[9,0,1], [3,2,1]]\n",
    "])\n",
    "g = tf.Graph()\n",
    "with tf.Session() as sess:\n",
    "    init.run()\n",
    "    outputs_val = outputs.eval(feed_dict={X:X_batch})\n",
    "\n",
    "# this stillgets one graph containing unit cell per time step\n",
    "# If there were 50 time steps the graph would look pretty ugly\n",
    "print(outputs_val)\n",
    "\n",
    "# with large graph we will also get out of memory errors so that it can\n",
    "# use them to compute gradients during the reverse pass\n",
    "# thats why we using dynamic rnn"
   ]
  },
  {
   "cell_type": "code",
   "execution_count": 35,
   "metadata": {},
   "outputs": [
    {
     "name": "stdout",
     "output_type": "stream",
     "text": [
      "[[-0.5822327  -0.9999026   0.999995   -0.657447   -0.96924794]\n",
      " [ 0.5496408  -0.85100687  0.21461645 -0.20366207  0.8525351 ]\n",
      " [-0.33215857 -0.999035    0.9979041  -0.7774459  -0.4956271 ]\n",
      " [-0.87933636 -0.6990654  -0.65328014 -0.6297835  -0.6142405 ]]\n"
     ]
    }
   ],
   "source": [
    "print(np.transpose(outputs_val, axes=[1,0,2])[1])"
   ]
  },
  {
   "cell_type": "code",
   "execution_count": 2,
   "metadata": {},
   "outputs": [
    {
     "name": "stderr",
     "output_type": "stream",
     "text": [
      "WARNING: Logging before flag parsing goes to stderr.\n",
      "W0616 10:20:31.411031 12108 deprecation.py:323] From <ipython-input-2-6755c56d7f85>:10: BasicRNNCell.__init__ (from tensorflow.python.ops.rnn_cell_impl) is deprecated and will be removed in a future version.\n",
      "Instructions for updating:\n",
      "This class is equivalent as tf.keras.layers.SimpleRNNCell, and will be replaced by that in Tensorflow 2.0.\n",
      "W0616 10:20:31.414023 12108 deprecation.py:323] From <ipython-input-2-6755c56d7f85>:11: dynamic_rnn (from tensorflow.python.ops.rnn) is deprecated and will be removed in a future version.\n",
      "Instructions for updating:\n",
      "Please use `keras.layers.RNN(cell)`, which is equivalent to this API\n",
      "W0616 10:20:31.476860 12108 deprecation.py:323] From C:\\installs\\Anaconda\\envs\\tf_gpu\\lib\\site-packages\\tensorflow_core\\python\\ops\\rnn_cell_impl.py:456: Layer.add_variable (from tensorflow.python.keras.engine.base_layer) is deprecated and will be removed in a future version.\n",
      "Instructions for updating:\n",
      "Please use `layer.add_weight` method instead.\n",
      "W0616 10:20:31.487831 12108 deprecation.py:506] From C:\\installs\\Anaconda\\envs\\tf_gpu\\lib\\site-packages\\tensorflow_core\\python\\ops\\rnn_cell_impl.py:460: calling Zeros.__init__ (from tensorflow.python.ops.init_ops) with dtype is deprecated and will be removed in a future version.\n",
      "Instructions for updating:\n",
      "Call initializer instance with the dtype argument instead of passing it to the constructor\n"
     ]
    }
   ],
   "source": [
    "import tensorflow as tf\n",
    "tf.reset_default_graph()\n",
    "\n",
    "n_steps =2\n",
    "n_inputs = 3\n",
    "n_neurons = 5\n",
    "\n",
    "X = tf.placeholder(tf.float32, [None, n_steps, n_inputs])\n",
    "\n",
    "basic_cell = tf.nn.rnn_cell.BasicRNNCell(num_units=n_neurons)\n",
    "outputs, states = tf.nn.dynamic_rnn(basic_cell, X, dtype=tf.float32)"
   ]
  },
  {
   "cell_type": "code",
   "execution_count": 3,
   "metadata": {},
   "outputs": [],
   "source": [
    "init = tf.global_variables_initializer()"
   ]
  },
  {
   "cell_type": "code",
   "execution_count": 6,
   "metadata": {},
   "outputs": [],
   "source": [
    "import numpy as np\n",
    "X_batch =  np.array([\n",
    "    [[0,1,2], [9,8,7]],\n",
    "    [[3,4,5], [0,0,0]],\n",
    "    [[6,7,8], [6,5,4]],\n",
    "    [[9,0,1], [3,2,1]]\n",
    "])\n",
    "\n",
    "with tf.Session() as sess:\n",
    "    init.run()\n",
    "    outputs_val = outputs.eval(feed_dict={X:X_batch})"
   ]
  },
  {
   "cell_type": "code",
   "execution_count": 8,
   "metadata": {},
   "outputs": [
    {
     "name": "stdout",
     "output_type": "stream",
     "text": [
      "[[[-0.3075267   0.5299915   0.16965647  0.87184805  0.58252114]\n",
      "  [-0.9981262   0.9964085  -0.09262892 -0.39578518  0.97315013]]\n",
      "\n",
      " [[-0.9239652   0.97164756  0.09598505  0.93754584  0.9429492 ]\n",
      "  [ 0.47932312 -0.8938842   0.2604586  -0.45113435 -0.44469807]]\n",
      "\n",
      " [[-0.9941193   0.9986546   0.02124681  0.97010124  0.9934848 ]\n",
      "  [-0.93894494  0.74343777 -0.0715929  -0.8035607   0.7878499 ]]\n",
      "\n",
      " [[-0.99964064  0.9620414  -0.99611646 -0.9999498  -0.9915379 ]\n",
      "  [-0.41506955  0.73790824 -0.7738236  -0.97888213  0.9177495 ]]]\n"
     ]
    }
   ],
   "source": [
    "print(outputs_val)\n",
    "\n",
    "# show_graph(tf.get_default_graph())"
   ]
  },
  {
   "cell_type": "markdown",
   "metadata": {},
   "source": [
    "## Setting the sequence lengths"
   ]
  },
  {
   "cell_type": "code",
   "execution_count": 9,
   "metadata": {},
   "outputs": [],
   "source": [
    "n_steps = 2\n",
    "n_inputs = 3\n",
    "n_neurons = 5\n",
    "\n",
    "tf.reset_default_graph()\n",
    "\n",
    "X = tf.placeholder(tf.float32, [None, n_steps, n_inputs])\n",
    "basic_cell = tf.nn.rnn_cell.BasicRNNCell(num_units=n_neurons)\n"
   ]
  },
  {
   "cell_type": "code",
   "execution_count": 10,
   "metadata": {},
   "outputs": [
    {
     "name": "stderr",
     "output_type": "stream",
     "text": [
      "W0616 10:26:55.937911 12108 deprecation.py:323] From C:\\installs\\Anaconda\\envs\\tf_gpu\\lib\\site-packages\\tensorflow_core\\python\\ops\\rnn.py:244: where (from tensorflow.python.ops.array_ops) is deprecated and will be removed in a future version.\n",
      "Instructions for updating:\n",
      "Use tf.where in 2.0, which has the same broadcast rule as np.where\n"
     ]
    }
   ],
   "source": [
    "seq_length = tf.placeholder(tf.int32, [None])\n",
    "outputs, states = tf.nn.dynamic_rnn(basic_cell, X, dtype=tf.float32,\n",
    "                                    sequence_length=seq_length)"
   ]
  },
  {
   "cell_type": "code",
   "execution_count": 12,
   "metadata": {},
   "outputs": [],
   "source": [
    "init = tf.global_variables_initializer()"
   ]
  },
  {
   "cell_type": "code",
   "execution_count": 13,
   "metadata": {},
   "outputs": [],
   "source": [
    "X_batch = np.array([\n",
    "    #step 0   step 1\n",
    "    [[0,1,2], [9,8,7]], # instance 1\n",
    "    [[3,4,5], [0,0,0]], # Padded Instance 2\n",
    "    [[6,7,8], [6,5,4]], # instance 3\n",
    "    [[9,0,1], [3,2,1]],  # instance 4\n",
    "])\n",
    "\n",
    "seq_length_batch = np.array([2,1,2,2])"
   ]
  },
  {
   "cell_type": "code",
   "execution_count": 15,
   "metadata": {},
   "outputs": [],
   "source": [
    "with tf.Session() as sess:\n",
    "    init.run()\n",
    "    outputs_val, states_val = sess.run(\n",
    "        [outputs, states],feed_dict={X:X_batch, seq_length: seq_length_batch })\n",
    "    "
   ]
  },
  {
   "cell_type": "code",
   "execution_count": 16,
   "metadata": {},
   "outputs": [
    {
     "name": "stdout",
     "output_type": "stream",
     "text": [
      "[[[-0.11812522 -0.20228527  0.11452613  0.11399005  0.3338867 ]\n",
      "  [-0.99728656 -0.9996351   0.75922894 -0.99910766  0.24618293]]\n",
      "\n",
      " [[-0.87457997 -0.94072527  0.44783533 -0.8127231   0.474531  ]\n",
      "  [ 0.          0.          0.          0.          0.        ]]\n",
      "\n",
      " [[-0.9887129  -0.997192    0.69051933 -0.98316467  0.5945068 ]\n",
      "  [-0.96373564 -0.9832916   0.7888061  -0.96899116 -0.5954966 ]]\n",
      "\n",
      " [[-0.9998727  -0.9999861  -0.9860169  -0.9999886  -0.65876055]\n",
      "  [-0.8518146  -0.9395353   0.88231933 -0.6496556  -0.8854977 ]]]\n"
     ]
    }
   ],
   "source": [
    "print(outputs_val)"
   ]
  },
  {
   "cell_type": "code",
   "execution_count": 17,
   "metadata": {},
   "outputs": [
    {
     "name": "stdout",
     "output_type": "stream",
     "text": [
      "[[-0.99728656 -0.9996351   0.75922894 -0.99910766  0.24618293]\n",
      " [-0.87457997 -0.94072527  0.44783533 -0.8127231   0.474531  ]\n",
      " [-0.96373564 -0.9832916   0.7888061  -0.96899116 -0.5954966 ]\n",
      " [-0.8518146  -0.9395353   0.88231933 -0.6496556  -0.8854977 ]]\n"
     ]
    }
   ],
   "source": [
    "print(states_val)"
   ]
  },
  {
   "cell_type": "markdown",
   "metadata": {},
   "source": [
    "## Training a sequence classifier"
   ]
  },
  {
   "cell_type": "code",
   "execution_count": 20,
   "metadata": {},
   "outputs": [],
   "source": [
    "tf.reset_default_graph()\n",
    "\n",
    "n_steps =28\n",
    "n_inputs = 28\n",
    "n_neurons = 150\n",
    "n_outputs = 10\n",
    "\n",
    "learning_rate = 0.001\n",
    "\n",
    "X = tf.placeholder(tf.float32, [None, n_steps, n_inputs])\n",
    "y = tf.placeholder(tf.int32, [None])\n",
    "\n",
    "# these are the two lines that are defining a RNN\n",
    "basic_cell = tf.nn.rnn_cell.BasicRNNCell(num_units=n_neurons)\n",
    "outputs, states = tf.nn.dynamic_rnn(basic_cell, X # from feed_dict\n",
    "                                    ,dtype=tf.float32)\n",
    "\n",
    "# dynamic and static rnn bothe functions calls the BasicRNNCell call function per input\n",
    "# createing two copise with n_neurons no. of connection between the layers\n",
    "# it returns twoobjects  python list containing the output tensors foreach step and final states of the network\n",
    "#in basic cell the final state is equal to the last output\n",
    "\n",
    "logits = tf.layers.dense(states, n_outputs)\n",
    "xentropy = tf.nn.sparse_softmax_cross_entropy_with_logits(labels=y  # from feed_dict\n",
    "                                                          , logits=logits)\n",
    "\n",
    "loss= tf.reduce_mean(xentropy)\n",
    "optimizer = tf.train.AdamOptimizer(learning_rate=learning_rate)\n",
    "\n",
    "training_op = optimizer.minimize(loss)\n",
    "correct = tf.nn.in_top_k(logits, y, 1)\n",
    "accuracy = tf.reduce_mean(tf.cast(correct, tf.float32))\n",
    "\n",
    "init = tf.global_variables_initializer()"
   ]
  },
  {
   "cell_type": "code",
   "execution_count": 22,
   "metadata": {},
   "outputs": [],
   "source": [
    "(X_train,y_train), (X_test,y_test) = tf.keras.datasets.mnist.load_data()\n",
    "X_train = X_train.astype(np.float32).reshape(-1, 28 * 28)/ 255.0\n",
    "X_test = X_test.astype(np.float32).reshape(-1, 28 * 28)/255.0\n",
    "y_train = y_train.astype(np.int32)\n",
    "y_test = y_test.astype(np.int32)\n",
    "\n",
    "X_valid, X_train = X_train[:5000], X_train[5000:]\n",
    "y_valid, y_train = y_train[:5000], y_train[5000:]\n"
   ]
  },
  {
   "cell_type": "code",
   "execution_count": 27,
   "metadata": {},
   "outputs": [],
   "source": [
    "def shuffle_batch(X, y, batch_size):\n",
    "    rnd_idx = np.random.permutation(len(X))\n",
    "    n_batches = len(X) // batch_size\n",
    "    for batch_idx in np.array_split(rnd_idx, n_batches):\n",
    "        X_batch, y_batch = X[batch_idx], y[batch_idx]\n",
    "        yield X_batch, y_batch\n",
    "        # this is a generator\n",
    "        # multiple returns to single call"
   ]
  },
  {
   "cell_type": "code",
   "execution_count": 24,
   "metadata": {},
   "outputs": [],
   "source": [
    "X_test = X_test.reshape((-1, n_steps,n_inputs))"
   ]
  },
  {
   "cell_type": "code",
   "execution_count": 28,
   "metadata": {},
   "outputs": [
    {
     "name": "stdout",
     "output_type": "stream",
     "text": [
      "0 Last batch accuracy:  0.9266667 Test accuracy: 0.9357\n",
      "1 Last batch accuracy:  0.98 Test accuracy: 0.9441\n",
      "2 Last batch accuracy:  0.97333336 Test accuracy: 0.9637\n",
      "3 Last batch accuracy:  0.9533333 Test accuracy: 0.9549\n",
      "4 Last batch accuracy:  0.97333336 Test accuracy: 0.9657\n",
      "5 Last batch accuracy:  0.98 Test accuracy: 0.9636\n",
      "6 Last batch accuracy:  0.94666666 Test accuracy: 0.9664\n",
      "7 Last batch accuracy:  0.98 Test accuracy: 0.9691\n",
      "8 Last batch accuracy:  0.97333336 Test accuracy: 0.9743\n",
      "9 Last batch accuracy:  0.98 Test accuracy: 0.9733\n",
      "10 Last batch accuracy:  0.96666664 Test accuracy: 0.965\n",
      "11 Last batch accuracy:  0.97333336 Test accuracy: 0.9682\n",
      "12 Last batch accuracy:  0.96666664 Test accuracy: 0.9716\n",
      "13 Last batch accuracy:  0.98 Test accuracy: 0.9656\n",
      "14 Last batch accuracy:  0.9866667 Test accuracy: 0.9715\n",
      "15 Last batch accuracy:  0.9866667 Test accuracy: 0.9696\n",
      "16 Last batch accuracy:  0.9866667 Test accuracy: 0.9743\n",
      "17 Last batch accuracy:  0.98 Test accuracy: 0.9742\n",
      "18 Last batch accuracy:  0.99333334 Test accuracy: 0.9749\n",
      "19 Last batch accuracy:  0.99333334 Test accuracy: 0.974\n",
      "20 Last batch accuracy:  0.99333334 Test accuracy: 0.9785\n",
      "21 Last batch accuracy:  0.97333336 Test accuracy: 0.9683\n",
      "22 Last batch accuracy:  0.98 Test accuracy: 0.975\n",
      "23 Last batch accuracy:  1.0 Test accuracy: 0.9711\n",
      "24 Last batch accuracy:  1.0 Test accuracy: 0.9748\n",
      "25 Last batch accuracy:  0.97333336 Test accuracy: 0.9775\n",
      "26 Last batch accuracy:  0.97333336 Test accuracy: 0.9767\n",
      "27 Last batch accuracy:  1.0 Test accuracy: 0.9794\n",
      "28 Last batch accuracy:  1.0 Test accuracy: 0.9777\n",
      "29 Last batch accuracy:  1.0 Test accuracy: 0.974\n",
      "30 Last batch accuracy:  0.99333334 Test accuracy: 0.9732\n",
      "31 Last batch accuracy:  0.9866667 Test accuracy: 0.9769\n",
      "32 Last batch accuracy:  0.99333334 Test accuracy: 0.9786\n",
      "33 Last batch accuracy:  1.0 Test accuracy: 0.9765\n",
      "34 Last batch accuracy:  0.99333334 Test accuracy: 0.976\n",
      "35 Last batch accuracy:  0.98 Test accuracy: 0.978\n",
      "36 Last batch accuracy:  1.0 Test accuracy: 0.9775\n",
      "37 Last batch accuracy:  0.9866667 Test accuracy: 0.9761\n",
      "38 Last batch accuracy:  0.9866667 Test accuracy: 0.9745\n",
      "39 Last batch accuracy:  0.9866667 Test accuracy: 0.9808\n",
      "40 Last batch accuracy:  1.0 Test accuracy: 0.9792\n",
      "41 Last batch accuracy:  0.9866667 Test accuracy: 0.9777\n",
      "42 Last batch accuracy:  0.99333334 Test accuracy: 0.9755\n",
      "43 Last batch accuracy:  0.99333334 Test accuracy: 0.9713\n",
      "44 Last batch accuracy:  0.9866667 Test accuracy: 0.9762\n",
      "45 Last batch accuracy:  0.9866667 Test accuracy: 0.9786\n",
      "46 Last batch accuracy:  0.99333334 Test accuracy: 0.9783\n",
      "47 Last batch accuracy:  0.99333334 Test accuracy: 0.9785\n",
      "48 Last batch accuracy:  0.99333334 Test accuracy: 0.9785\n",
      "49 Last batch accuracy:  0.99333334 Test accuracy: 0.9794\n",
      "50 Last batch accuracy:  1.0 Test accuracy: 0.9781\n",
      "51 Last batch accuracy:  1.0 Test accuracy: 0.9781\n",
      "52 Last batch accuracy:  0.98 Test accuracy: 0.9739\n",
      "53 Last batch accuracy:  1.0 Test accuracy: 0.9732\n",
      "54 Last batch accuracy:  0.99333334 Test accuracy: 0.9757\n",
      "55 Last batch accuracy:  0.9866667 Test accuracy: 0.9774\n",
      "56 Last batch accuracy:  0.99333334 Test accuracy: 0.9793\n",
      "57 Last batch accuracy:  0.99333334 Test accuracy: 0.9794\n",
      "58 Last batch accuracy:  1.0 Test accuracy: 0.9769\n",
      "59 Last batch accuracy:  1.0 Test accuracy: 0.9754\n",
      "60 Last batch accuracy:  0.99333334 Test accuracy: 0.9804\n",
      "61 Last batch accuracy:  0.99333334 Test accuracy: 0.978\n",
      "62 Last batch accuracy:  1.0 Test accuracy: 0.9791\n",
      "63 Last batch accuracy:  1.0 Test accuracy: 0.9747\n",
      "64 Last batch accuracy:  0.96666664 Test accuracy: 0.9677\n",
      "65 Last batch accuracy:  0.99333334 Test accuracy: 0.9787\n",
      "66 Last batch accuracy:  1.0 Test accuracy: 0.9768\n",
      "67 Last batch accuracy:  1.0 Test accuracy: 0.9804\n",
      "68 Last batch accuracy:  0.9866667 Test accuracy: 0.9749\n",
      "69 Last batch accuracy:  0.99333334 Test accuracy: 0.9809\n",
      "70 Last batch accuracy:  1.0 Test accuracy: 0.9755\n",
      "71 Last batch accuracy:  1.0 Test accuracy: 0.9742\n",
      "72 Last batch accuracy:  0.99333334 Test accuracy: 0.9762\n",
      "73 Last batch accuracy:  1.0 Test accuracy: 0.9799\n",
      "74 Last batch accuracy:  1.0 Test accuracy: 0.9794\n",
      "75 Last batch accuracy:  1.0 Test accuracy: 0.9777\n",
      "76 Last batch accuracy:  1.0 Test accuracy: 0.9774\n",
      "77 Last batch accuracy:  0.98 Test accuracy: 0.9768\n",
      "78 Last batch accuracy:  0.9866667 Test accuracy: 0.9781\n",
      "79 Last batch accuracy:  1.0 Test accuracy: 0.9789\n",
      "80 Last batch accuracy:  1.0 Test accuracy: 0.9774\n",
      "81 Last batch accuracy:  0.98 Test accuracy: 0.9763\n",
      "82 Last batch accuracy:  0.9866667 Test accuracy: 0.9804\n",
      "83 Last batch accuracy:  1.0 Test accuracy: 0.9788\n",
      "84 Last batch accuracy:  1.0 Test accuracy: 0.9779\n",
      "85 Last batch accuracy:  0.99333334 Test accuracy: 0.9741\n",
      "86 Last batch accuracy:  1.0 Test accuracy: 0.9787\n",
      "87 Last batch accuracy:  0.98 Test accuracy: 0.9809\n",
      "88 Last batch accuracy:  1.0 Test accuracy: 0.9795\n",
      "89 Last batch accuracy:  1.0 Test accuracy: 0.9791\n",
      "90 Last batch accuracy:  0.9866667 Test accuracy: 0.9772\n",
      "91 Last batch accuracy:  0.99333334 Test accuracy: 0.9778\n",
      "92 Last batch accuracy:  1.0 Test accuracy: 0.9754\n",
      "93 Last batch accuracy:  0.9866667 Test accuracy: 0.9757\n",
      "94 Last batch accuracy:  1.0 Test accuracy: 0.9792\n",
      "95 Last batch accuracy:  0.99333334 Test accuracy: 0.9788\n",
      "96 Last batch accuracy:  0.98 Test accuracy: 0.968\n",
      "97 Last batch accuracy:  1.0 Test accuracy: 0.9772\n",
      "98 Last batch accuracy:  1.0 Test accuracy: 0.9778\n",
      "99 Last batch accuracy:  0.99333334 Test accuracy: 0.9727\n"
     ]
    }
   ],
   "source": [
    "n_epochs = 100\n",
    "batch_size = 150\n",
    "\n",
    "with tf.Session() as sess:\n",
    "    init.run()\n",
    "    for epoch in range(n_epochs):\n",
    "        for X_batch, y_batch in shuffle_batch(X_train, y_train, batch_size):\n",
    "            X_batch = X_batch.reshape((-1, n_steps,n_inputs ))\n",
    "            sess.run(training_op,feed_dict={X:X_batch,y: y_batch})\n",
    "        acc_batch = accuracy.eval(feed_dict={X:X_batch, y:y_batch})\n",
    "        acc_test = accuracy.eval(feed_dict={X:X_test, y:y_test})\n",
    "        print(epoch,\"Last batch accuracy: \", acc_batch, \"Test accuracy:\", acc_test)"
   ]
  },
  {
   "cell_type": "markdown",
   "metadata": {},
   "source": [
    "### Multi Layer RNN"
   ]
  },
  {
   "cell_type": "code",
   "execution_count": 30,
   "metadata": {},
   "outputs": [],
   "source": [
    "# multi layer RNN\n",
    "\n",
    "tf.reset_default_graph()\n",
    "\n",
    "n_steps = 28\n",
    "n_inputs = 28\n",
    "n_outputs = 10\n",
    "\n",
    "learning_rate = 0.001\n",
    "\n",
    "X = tf.placeholder(tf.float32, [None,n_steps, n_inputs])\n",
    "y = tf.placeholder(tf.int32, [None])"
   ]
  },
  {
   "cell_type": "code",
   "execution_count": 31,
   "metadata": {},
   "outputs": [
    {
     "name": "stderr",
     "output_type": "stream",
     "text": [
      "W0616 11:33:53.245198 12108 deprecation.py:323] From <ipython-input-31-766197b0afd1>:7: MultiRNNCell.__init__ (from tensorflow.python.ops.rnn_cell_impl) is deprecated and will be removed in a future version.\n",
      "Instructions for updating:\n",
      "This class is equivalent as tf.keras.layers.StackedRNNCells, and will be replaced by that in Tensorflow 2.0.\n"
     ]
    }
   ],
   "source": [
    "n_neurons = 100\n",
    "n_layers = 2\n",
    "\n",
    "layers = [tf.nn.rnn_cell.BasicRNNCell(num_units=n_neurons, activation=tf.nn.relu)for layer in range(n_layers)]\n",
    "# layers is not required here\n",
    "\n",
    "multi_layer_cell = tf.nn.rnn_cell.MultiRNNCell(layers)\n",
    "outputs, states = tf.nn.dynamic_rnn(multi_layer_cell, X, dtype=tf.float32)"
   ]
  },
  {
   "cell_type": "code",
   "execution_count": 32,
   "metadata": {},
   "outputs": [],
   "source": [
    "states_concat = tf.concat(axis=1, values=states)\n",
    "\n",
    "logits = tf.layers.dense(states_concat,n_outputs)\n",
    "xentropy = tf.nn.sparse_softmax_cross_entropy_with_logits(labels=y, logits=logits)\n",
    "loss = tf.reduce_mean(xentropy)\n",
    "optimizer = tf.train.AdamOptimizer(learning_rate=learning_rate)\n",
    "training_op = optimizer.minimize(loss)\n",
    "\n",
    "correct = tf.nn.in_top_k(logits, y, 1)\n",
    "accuracy = tf.reduce_mean(tf.cast(correct, tf.float32))\n",
    "\n",
    "init = tf.global_variables_initializer()"
   ]
  },
  {
   "cell_type": "code",
   "execution_count": 33,
   "metadata": {},
   "outputs": [
    {
     "name": "stdout",
     "output_type": "stream",
     "text": [
      "0 last batch accuracy:  0.93333334 test_accuracy:  0.9233\n",
      "1 last batch accuracy:  0.97333336 test_accuracy:  0.9529\n",
      "2 last batch accuracy:  0.94 test_accuracy:  0.9631\n",
      "3 last batch accuracy:  0.98 test_accuracy:  0.9662\n",
      "4 last batch accuracy:  0.97333336 test_accuracy:  0.9651\n",
      "5 last batch accuracy:  0.9866667 test_accuracy:  0.9756\n",
      "6 last batch accuracy:  0.96666664 test_accuracy:  0.9717\n",
      "7 last batch accuracy:  0.97333336 test_accuracy:  0.9719\n",
      "8 last batch accuracy:  0.9866667 test_accuracy:  0.9744\n",
      "9 last batch accuracy:  0.98 test_accuracy:  0.9779\n"
     ]
    }
   ],
   "source": [
    "n_epochs = 10\n",
    "batch_size = 150\n",
    "\n",
    "with tf.Session() as sess:\n",
    "    init.run()\n",
    "    for epoch in range(n_epochs):\n",
    "        for X_batch, y_batch in shuffle_batch(X_train, y_train, batch_size):\n",
    "            X_batch = X_batch.reshape((-1,n_steps,n_inputs ))\n",
    "            sess.run(training_op, feed_dict={X:X_batch, y:y_batch})\n",
    "        acc_batch = accuracy.eval(feed_dict={X:X_batch, y: y_batch})\n",
    "        acc_test = accuracy.eval(feed_dict={X:X_test, y: y_test})\n",
    "        print(epoch, \"last batch accuracy: \", acc_batch, \"test_accuracy: \", acc_test)"
   ]
  },
  {
   "cell_type": "markdown",
   "metadata": {},
   "source": [
    "### Predicting time series"
   ]
  },
  {
   "cell_type": "code",
   "execution_count": 37,
   "metadata": {
    "scrolled": true
   },
   "outputs": [],
   "source": [
    "# creating a RNN ,of 100recurrent neurons \n",
    "# we willunrollover 20 time steps since\n",
    "# the traininginstance will be 20 inputs long\n",
    "# each input will contain only one feature (the value at that time)\n",
    "# the targets are also seuquences of 20 inputs each containing a single value\n",
    "\n",
    "t_min, t_max = 0,30\n",
    "resolution = 0.1\n",
    "\n",
    "def time_series(t):\n",
    "    return t * np.sin(t) / 3 * 2 * np.sin(t*5)\n",
    "\n",
    "def next_batch(batch_size, n_steps):\n",
    "    t0 = np.random.rand(batch_size,1) * (t_max - t_min - n_steps * resolution)\n",
    "    # print(\"to: \",t0)\n",
    "    Ts = t0 + np.arange(0., n_steps + 1) * resolution\n",
    "    # print(\"ts: \",Ts)\n",
    "    ys = time_series(Ts)\n",
    "    # print(\"ys: \",ys)\n",
    "    return ys[:,:-1].reshape(-1, n_steps, 1), ys[:, 1:].reshape(-1, n_steps, 1)"
   ]
  },
  {
   "cell_type": "code",
   "execution_count": 31,
   "metadata": {},
   "outputs": [
    {
     "name": "stdout",
     "output_type": "stream",
     "text": [
      "-0.537937969171326\n"
     ]
    }
   ],
   "source": [
    "print(time_series(1))"
   ]
  },
  {
   "cell_type": "code",
   "execution_count": 36,
   "metadata": {},
   "outputs": [
    {
     "name": "stdout",
     "output_type": "stream",
     "text": [
      "to:  [[10.15263574]]\n",
      "ts:  [[10.15263574 10.25263574 10.35263574 10.45263574 10.55263574 10.65263574]]\n",
      "ys:  [[-2.14966789 -4.22963268 -5.50898266 -5.43086842 -3.81571591 -0.95909383]]\n",
      "(array([[[-2.14966789],\n",
      "        [-4.22963268],\n",
      "        [-5.50898266],\n",
      "        [-5.43086842],\n",
      "        [-3.81571591]]]), array([[[-4.22963268],\n",
      "        [-5.50898266],\n",
      "        [-5.43086842],\n",
      "        [-3.81571591],\n",
      "        [-0.95909383]]]))\n"
     ]
    }
   ],
   "source": [
    "print(next_batch(1, 5))"
   ]
  },
  {
   "cell_type": "code",
   "execution_count": 39,
   "metadata": {
    "scrolled": true
   },
   "outputs": [
    {
     "name": "stdout",
     "output_type": "stream",
     "text": [
      "\n",
      " [12.2   12.305 12.41  12.515 12.62  12.725 12.83  12.935 13.04  13.145\n",
      " 13.25  13.355 13.46  13.565 13.67  13.775 13.88  13.985 14.09  14.195\n",
      " 14.3  ]\n"
     ]
    },
    {
     "data": {
      "image/png": "[encoded data removed]",
      "text/plain": [
       "<Figure size 792x288 with 2 Axes>"
      ]
     },
     "metadata": {
      "needs_background": "light"
     },
     "output_type": "display_data"
    }
   ],
   "source": [
    "import matplotlib.pyplot as plt\n",
    "import numpy as np\n",
    "\n",
    "t = np.linspace(t_min, t_max,int((t_max - t_min)/resolution))\n",
    "#print(t)\n",
    "\n",
    "n_steps = 20\n",
    "t_instance = np.linspace(12.2, 12.2 + resolution * (n_steps + 1), n_steps + 1 )\n",
    "print(\"\\n\", t_instance)\n",
    "\n",
    "plt.figure(figsize=(11, 4))\n",
    "plt.subplot(121)\n",
    "plt.title(\"A time series (generated)\", fontsize=14)\n",
    "plt.plot(t,time_series(t), label=r\"$t . \\sin(t) / 3 . \\ sin(5t)$\")\n",
    "plt.plot(t_instance[:-1],time_series(t_instance[:-1]), \"b-\", linewidth=3,label=\"training instance\")\n",
    "plt.legend(loc=\"lower left\", fontsize=14)\n",
    "plt.axis([0, 30, -17, 13])\n",
    "plt.xlabel(\"Time\")\n",
    "plt.ylabel(\"Value\")\n",
    "\n",
    "plt.subplot(122)\n",
    "plt.title(\"A training instance\", fontsize=14)\n",
    "plt.plot(t_instance[:-1], time_series(t_instance[:-1]), \"bo\", markersize=10, label=\"instance\")\n",
    "plt.plot(t_instance[1:], time_series(t_instance[1:]), \"w*\", markersize=10,label=\"target\")\n",
    "plt.legend(loc=\"upper left\")\n",
    "plt.xlabel(\"Time\")\n",
    "\n",
    "plt.show()"
   ]
  },
  {
   "cell_type": "code",
   "execution_count": 5,
   "metadata": {},
   "outputs": [],
   "source": [
    "X_batch, y_batch =next_batch(1, n_steps)"
   ]
  },
  {
   "cell_type": "code",
   "execution_count": 6,
   "metadata": {
    "scrolled": true
   },
   "outputs": [
    {
     "data": {
      "text/plain": [
       "array([[ -9.39223279, -10.79614856],\n",
       "       [-10.79614856,  -9.36385209],\n",
       "       [ -9.36385209,  -5.16508802],\n",
       "       [ -5.16508802,   0.84719113],\n",
       "       [  0.84719113,   7.08519637],\n",
       "       [  7.08519637,  11.79755521],\n",
       "       [ 11.79755521,  13.61280226],\n",
       "       [ 13.61280226,  11.97610629],\n",
       "       [ 11.97610629,   7.33269926],\n",
       "       [  7.33269926,   0.99445678],\n",
       "       [  0.99445678,  -5.26837189],\n",
       "       [ -5.26837189,  -9.77623209],\n",
       "       [ -9.77623209, -11.44921479],\n",
       "       [-11.44921479, -10.10957841],\n",
       "       [-10.10957841,  -6.48268681],\n",
       "       [ -6.48268681,  -1.90440234],\n",
       "       [ -1.90440234,   2.15747788],\n",
       "       [  2.15747788,   4.59869942],\n",
       "       [  4.59869942,   5.01972671],\n",
       "       [  5.01972671,   3.79898732]])"
      ]
     },
     "execution_count": 6,
     "metadata": {},
     "output_type": "execute_result"
    }
   ],
   "source": [
    "np.c_[X_batch[0], y_batch[0]]"
   ]
  },
  {
   "cell_type": "code",
   "execution_count": 8,
   "metadata": {},
   "outputs": [
    {
     "name": "stderr",
     "output_type": "stream",
     "text": [
      "WARNING: Logging before flag parsing goes to stderr.\n",
      "W0618 09:57:12.701964 12748 deprecation.py:323] From <ipython-input-8-db3a5237284c>:13: BasicRNNCell.__init__ (from tensorflow.python.ops.rnn_cell_impl) is deprecated and will be removed in a future version.\n",
      "Instructions for updating:\n",
      "This class is equivalent as tf.keras.layers.SimpleRNNCell, and will be replaced by that in Tensorflow 2.0.\n",
      "W0618 09:57:12.703960 12748 deprecation.py:323] From <ipython-input-8-db3a5237284c>:14: dynamic_rnn (from tensorflow.python.ops.rnn) is deprecated and will be removed in a future version.\n",
      "Instructions for updating:\n",
      "Please use `keras.layers.RNN(cell)`, which is equivalent to this API\n",
      "W0618 09:57:12.846168 12748 deprecation.py:323] From C:\\installs\\Anaconda\\envs\\tf_gpu\\lib\\site-packages\\tensorflow_core\\python\\ops\\rnn_cell_impl.py:456: Layer.add_variable (from tensorflow.python.keras.engine.base_layer) is deprecated and will be removed in a future version.\n",
      "Instructions for updating:\n",
      "Please use `layer.add_weight` method instead.\n",
      "W0618 09:57:12.857134 12748 deprecation.py:506] From C:\\installs\\Anaconda\\envs\\tf_gpu\\lib\\site-packages\\tensorflow_core\\python\\ops\\rnn_cell_impl.py:460: calling Zeros.__init__ (from tensorflow.python.ops.init_ops) with dtype is deprecated and will be removed in a future version.\n",
      "Instructions for updating:\n",
      "Call initializer instance with the dtype argument instead of passing it to the constructor\n"
     ]
    }
   ],
   "source": [
    "# using an OutputProjectionWrapper\n",
    "import tensorflow as tf\n",
    "tf.reset_default_graph()\n",
    "\n",
    "n_steps= 20\n",
    "# what are steps \n",
    "\n",
    "n_inputs = 1\n",
    "n_neurons = 100\n",
    "# what are neurons\n",
    "\n",
    "n_outputs = 1\n",
    "\n",
    "X = tf.placeholder(tf.float32, [None, n_steps, n_inputs])\n",
    "y = tf.placeholder(tf.float32,[None,n_steps,n_outputs])\n",
    "\n",
    "cell = tf.nn.rnn_cell.BasicRNNCell(num_units=n_neurons, activation=tf.nn.relu)\n",
    "outputs, states = tf.nn.dynamic_rnn(cell, X, dtype=tf.float32)\n"
   ]
  },
  {
   "cell_type": "code",
   "execution_count": 9,
   "metadata": {},
   "outputs": [],
   "source": [
    "# howeverwhat we want is a signle output value at each step\n",
    "# right now we have 100 output vectors\n",
    "# in the code above\n",
    "\n",
    "tf.reset_default_graph()\n",
    "\n",
    "n_steps = 20\n",
    "n_inputs = 1\n",
    "n_neurons = 100\n",
    "n_outputs = 1\n",
    "\n",
    "X = tf.placeholder(tf.float32, [None, n_steps, n_inputs ])\n",
    "y = tf.placeholder(tf.float32, [None, n_steps, n_outputs])\n"
   ]
  },
  {
   "cell_type": "code",
   "execution_count": 11,
   "metadata": {},
   "outputs": [],
   "source": [
    "cell = tf.contrib.rnn.OutputProjectionWrapper(\n",
    "tf.nn.rnn_cell.BasicRNNCell(num_units=n_neurons, activation=tf.nn.relu),output_size=n_outputs)"
   ]
  },
  {
   "cell_type": "code",
   "execution_count": 12,
   "metadata": {},
   "outputs": [
    {
     "name": "stderr",
     "output_type": "stream",
     "text": [
      "W0618 10:03:10.921170 12748 deprecation.py:506] From C:\\installs\\Anaconda\\envs\\tf_gpu\\lib\\site-packages\\tensorflow_core\\contrib\\rnn\\python\\ops\\core_rnn_cell.py:104: calling Constant.__init__ (from tensorflow.python.ops.init_ops) with dtype is deprecated and will be removed in a future version.\n",
      "Instructions for updating:\n",
      "Call initializer instance with the dtype argument instead of passing it to the constructor\n"
     ]
    }
   ],
   "source": [
    "outputs, states = tf.nn.dynamic_rnn(cell, X, dtype=tf.float32)"
   ]
  },
  {
   "cell_type": "code",
   "execution_count": 13,
   "metadata": {},
   "outputs": [],
   "source": [
    "learning_rate = 0.001\n",
    "\n",
    "loss = tf.reduce_mean(tf.square(outputs - y))\n",
    "optimizer = tf.train.AdamOptimizer(learning_rate= learning_rate)\n",
    "training_op = optimizer.minimize(loss)\n",
    "\n",
    "init = tf.global_variables_initializer()"
   ]
  },
  {
   "cell_type": "code",
   "execution_count": 14,
   "metadata": {},
   "outputs": [],
   "source": [
    "saver = tf.train.Saver()"
   ]
  },
  {
   "cell_type": "code",
   "execution_count": 15,
   "metadata": {},
   "outputs": [
    {
     "name": "stdout",
     "output_type": "stream",
     "text": [
      "0 \tMSE: 24.476606\n",
      "100 \tMSE: 1.4968365\n",
      "200 \tMSE: 0.691253\n",
      "300 \tMSE: 0.6037233\n",
      "400 \tMSE: 0.5793171\n",
      "500 \tMSE: 0.5706452\n",
      "600 \tMSE: 0.42727375\n",
      "700 \tMSE: 0.48870742\n",
      "800 \tMSE: 0.48185402\n",
      "900 \tMSE: 0.3630353\n",
      "1000 \tMSE: 0.3921422\n",
      "1100 \tMSE: 0.39920416\n",
      "1200 \tMSE: 0.3337824\n",
      "1300 \tMSE: 0.4242592\n",
      "1400 \tMSE: 0.3992935\n"
     ]
    }
   ],
   "source": [
    "n_iterations = 1500\n",
    "batch_size = 50\n",
    "\n",
    "with tf.Session() as sess:\n",
    "    init.run()\n",
    "    for iteration in range(n_iterations):\n",
    "        X_batch, y_batch = next_batch(batch_size,n_steps )\n",
    "        sess.run(training_op, feed_dict={X:X_batch,y:y_batch})\n",
    "        if iteration % 100 == 0:\n",
    "            mse = loss.eval(feed_dict={X: X_batch, y:y_batch})\n",
    "            print(iteration, \"\\tMSE:\", mse)\n",
    "        saver.save(sess, \"./my_time_series_model\")"
   ]
  },
  {
   "cell_type": "code",
   "execution_count": 16,
   "metadata": {},
   "outputs": [],
   "source": [
    "with tf.Session() as sess:\n",
    "    saver.restore(sess, \"./my_time_series_model\")\n",
    "    \n",
    "    X_new = time_series(np.array(t_instance[:-1].reshape(-1, n_steps, n_inputs)))\n",
    "    y_pred = sess.run(outputs, feed_dict={X: X_new})"
   ]
  },
  {
   "cell_type": "code",
   "execution_count": 17,
   "metadata": {},
   "outputs": [
    {
     "data": {
      "text/plain": [
       "array([[[ 2.5749042 ],\n",
       "        [ 0.7054816 ],\n",
       "        [-0.36172363],\n",
       "        [-0.18785259],\n",
       "        [ 0.9394613 ],\n",
       "        [ 2.2135847 ],\n",
       "        [ 3.1755395 ],\n",
       "        [ 2.9489105 ],\n",
       "        [ 1.2200302 ],\n",
       "        [-1.5164654 ],\n",
       "        [-4.740799  ],\n",
       "        [-6.913212  ],\n",
       "        [-7.4023304 ],\n",
       "        [-5.8214974 ],\n",
       "        [-2.2746859 ],\n",
       "        [ 2.526572  ],\n",
       "        [ 6.846301  ],\n",
       "        [ 9.405141  ],\n",
       "        [ 9.217132  ],\n",
       "        [ 6.5340533 ]]], dtype=float32)"
      ]
     },
     "execution_count": 17,
     "metadata": {},
     "output_type": "execute_result"
    }
   ],
   "source": [
    "y_pred"
   ]
  },
  {
   "cell_type": "code",
   "execution_count": 18,
   "metadata": {},
   "outputs": [
    {
     "data": {
      "image/png": "[encoded data removed]",
      "text/plain": [
       "<Figure size 432x288 with 1 Axes>"
      ]
     },
     "metadata": {
      "needs_background": "light"
     },
     "output_type": "display_data"
    }
   ],
   "source": [
    "plt.title(\"Testing the model\", fontsize =14)\n",
    "plt.plot(t_instance[:-1], time_series(t_instance[:-1]), \"bo\", markersize=10, label=\"instance\")\n",
    "plt.plot(t_instance[1:], time_series(t_instance[1:]), \"w*\", markersize=10, label=\"target\")\n",
    "plt.plot(t_instance[1:], y_pred[0, :, 0], \"r.\", markersize=10, label=\"prediction\")\n",
    "plt.legend(loc=\"upper left\")\n",
    "plt.xlabel(\"Time\")\n",
    "\n",
    "plt.show()"
   ]
  },
  {
   "cell_type": "markdown",
   "metadata": {},
   "source": [
    "### without using outputprojectionwrapper"
   ]
  },
  {
   "cell_type": "code",
   "execution_count": 19,
   "metadata": {},
   "outputs": [],
   "source": [
    "tf.reset_default_graph()\n",
    "\n",
    "n_steps = 20\n",
    "n_inputs = 1\n",
    "n_neurons = 100\n",
    "\n",
    "X = tf.placeholder(tf.float32, [None, n_steps,n_inputs])\n",
    "y = tf.placeholder(tf.float32, [None,n_steps,n_outputs])\n"
   ]
  },
  {
   "cell_type": "code",
   "execution_count": 20,
   "metadata": {},
   "outputs": [],
   "source": [
    "cell = tf.nn.rnn_cell.BasicRNNCell(num_units=n_neurons,activation=tf.nn.relu)\n",
    "rnn_outputs, states = tf.nn.dynamic_rnn(cell,X,dtype=tf.float32)"
   ]
  },
  {
   "cell_type": "code",
   "execution_count": 21,
   "metadata": {},
   "outputs": [],
   "source": [
    "n_outputs = 1\n",
    "learning_rate = 0.001"
   ]
  },
  {
   "cell_type": "code",
   "execution_count": 23,
   "metadata": {
    "scrolled": true
   },
   "outputs": [
    {
     "name": "stderr",
     "output_type": "stream",
     "text": [
      "W0618 10:23:33.135255 12748 deprecation.py:323] From <ipython-input-23-cd7925fad3ed>:2: dense (from tensorflow.python.layers.core) is deprecated and will be removed in a future version.\n",
      "Instructions for updating:\n",
      "Use keras.layers.Dense instead.\n",
      "W0618 10:23:33.135873 12748 deprecation.py:323] From C:\\installs\\Anaconda\\envs\\tf_gpu\\lib\\site-packages\\tensorflow_core\\python\\layers\\core.py:187: Layer.apply (from tensorflow.python.keras.engine.base_layer) is deprecated and will be removed in a future version.\n",
      "Instructions for updating:\n",
      "Please use `layer.__call__` method instead.\n"
     ]
    }
   ],
   "source": [
    "# here we are using a dense laer to give us a single output\n",
    "\n",
    "stacked_rnn_outputs = tf.reshape(rnn_outputs, [-1,n_neurons ])\n",
    "stacked_outputs = tf.layers.dense(stacked_rnn_outputs, n_outputs)\n",
    "outputs = tf.reshape(stacked_outputs, [-1, n_steps,n_outputs])"
   ]
  },
  {
   "cell_type": "code",
   "execution_count": 24,
   "metadata": {},
   "outputs": [],
   "source": [
    "loss = tf.reduce_mean(tf.square(outputs-y))\n",
    "optimizer = tf.train.AdamOptimizer(learning_rate=learning_rate)\n",
    "training_op = optimizer.minimize(loss)\n",
    "\n",
    "init = tf.global_variables_initializer()\n",
    "saver = tf.train.Saver()"
   ]
  },
  {
   "cell_type": "code",
   "execution_count": 27,
   "metadata": {
    "scrolled": true
   },
   "outputs": [
    {
     "name": "stdout",
     "output_type": "stream",
     "text": [
      "0 \tMSE: 34.098057\n",
      "100 \tMSE: 1.1983507\n",
      "200 \tMSE: 1.0681823\n",
      "300 \tMSE: 0.4967683\n",
      "400 \tMSE: 0.32249728\n",
      "500 \tMSE: 0.37619054\n",
      "600 \tMSE: 0.39132816\n",
      "700 \tMSE: 0.511668\n",
      "800 \tMSE: 0.34348136\n",
      "900 \tMSE: 0.3476996\n",
      "1000 \tMSE: 0.5621788\n",
      "1100 \tMSE: 0.5280415\n",
      "1200 \tMSE: 0.32791147\n",
      "1300 \tMSE: 0.38845745\n",
      "1400 \tMSE: 0.44612303\n"
     ]
    }
   ],
   "source": [
    "n_iteration = 1500\n",
    "batch_size = 50\n",
    "\n",
    "with tf.Session() as sess:\n",
    "    init.run()\n",
    "    for iteration in range(n_iterations):\n",
    "        X_batch, y_batch = next_batch(batch_size,n_steps )\n",
    "        sess.run(training_op, feed_dict={X:X_batch, y:y_batch})\n",
    "        if (iteration % 100 == 0):\n",
    "            mse = loss.eval(feed_dict={X:X_batch, y: y_batch})\n",
    "            print(iteration, \"\\tMSE:\", mse)\n",
    "        \n",
    "    X_new = time_series(np.array(t_instance[:-1].reshape(-1, n_steps, n_inputs)))\n",
    "    y_pred = sess.run(outputs, feed_dict={X:X_new})\n",
    "    \n",
    "    saver.save(sess, \"./my_time_series_model\")\n",
    "    "
   ]
  },
  {
   "cell_type": "code",
   "execution_count": 28,
   "metadata": {},
   "outputs": [
    {
     "data": {
      "text/plain": [
       "array([[[ 2.7105174 ],\n",
       "        [ 0.6668517 ],\n",
       "        [-0.29246297],\n",
       "        [-0.14830099],\n",
       "        [ 0.76858336],\n",
       "        [ 2.3107    ],\n",
       "        [ 3.1291492 ],\n",
       "        [ 2.839957  ],\n",
       "        [ 1.153141  ],\n",
       "        [-1.4780499 ],\n",
       "        [-4.6290593 ],\n",
       "        [-6.9487834 ],\n",
       "        [-7.4354606 ],\n",
       "        [-5.70628   ],\n",
       "        [-2.0034468 ],\n",
       "        [ 2.6026359 ],\n",
       "        [ 6.7267227 ],\n",
       "        [ 9.158411  ],\n",
       "        [ 9.129086  ],\n",
       "        [ 6.4726453 ]]], dtype=float32)"
      ]
     },
     "execution_count": 28,
     "metadata": {},
     "output_type": "execute_result"
    }
   ],
   "source": [
    "y_pred"
   ]
  },
  {
   "cell_type": "code",
   "execution_count": 30,
   "metadata": {
    "scrolled": false
   },
   "outputs": [
    {
     "data": {
      "image/png": "[encoded data removed]",
      "text/plain": [
       "<Figure size 432x288 with 1 Axes>"
      ]
     },
     "metadata": {
      "needs_background": "light"
     },
     "output_type": "display_data"
    }
   ],
   "source": [
    "plt.title(\"Testing the model\", fontsize =14)\n",
    "plt.plot(t_instance[:-1], time_series(t_instance[:-1]), \"bo\", markersize=10, label=\"instance\")\n",
    "plt.plot(t_instance[1:], time_series(t_instance[1:]), \"w*\", markersize=10, label=\"target\")\n",
    "plt.plot(t_instance[1:],y_pred[0,:,0], \"r.\", markersize=10, label=\"prediction\")\n",
    "plt.legend(loc=\"upper left\")\n",
    "plt.xlabel(\"Time\")\n",
    "\n",
    "plt.show()"
   ]
  },
  {
   "cell_type": "markdown",
   "metadata": {},
   "source": [
    "### generating a creative sequence"
   ]
  },
  {
   "cell_type": "code",
   "execution_count": 42,
   "metadata": {},
   "outputs": [],
   "source": [
    "with tf.Session() as sess:\n",
    "    saver.restore(sess, \"./my_time_series_model\")\n",
    "    \n",
    "    sequence = [0.] * n_steps\n",
    "    for iteration in range (300):\n",
    "        X_batch = np.array(sequence[-n_steps:]).reshape(1, n_steps, 1)\n",
    "        y_pred =sess.run(outputs, feed_dict={X:X_batch})\n",
    "        sequence.append(y_pred[0,-1,0])"
   ]
  },
  {
   "cell_type": "code",
   "execution_count": 44,
   "metadata": {
    "scrolled": true
   },
   "outputs": [
    {
     "data": {
      "image/png": "[encoded data removed]",
      "text/plain": [
       "<Figure size 576x288 with 1 Axes>"
      ]
     },
     "metadata": {
      "needs_background": "light"
     },
     "output_type": "display_data"
    }
   ],
   "source": [
    "plt.figure(figsize=(8,4))\n",
    "plt.plot(np.arange(len(sequence)), sequence, \"b-\")\n",
    "plt.plot(t[:n_steps], sequence[:n_steps], \"b-\", linewidth=3)\n",
    "plt.xlabel(\"Time\")\n",
    "plt.ylabel(\"Value\")\n",
    "plt.show()"
   ]
  },
  {
   "cell_type": "code",
   "execution_count": 48,
   "metadata": {},
   "outputs": [
    {
     "data": {
      "image/png": "[encoded data removed]",
      "text/plain": [
       "<Figure size 792x288 with 2 Axes>"
      ]
     },
     "metadata": {
      "needs_background": "light"
     },
     "output_type": "display_data"
    }
   ],
   "source": [
    "with tf.Session() as sess:\n",
    "    saver.restore(sess, \"./my_time_series_model\")\n",
    "    \n",
    "    sequence1 = [0. for i in range(n_steps)]\n",
    "    for iteration in range(len(t) - n_steps):\n",
    "        X_batch = np.array(sequence1[-n_steps:]).reshape(1,n_steps, 1)\n",
    "        y_pred = sess.run(outputs, feed_dict={X: X_batch })\n",
    "        sequence1.append(y_pred[0,-1,0])\n",
    "    sequence2 = [time_series(i * resolution + t_min + (t_max-t_min/3)) for i in range(n_steps)]\n",
    "    for iteration in range(len(t) - n_steps):\n",
    "        X_batch =np.array(sequence2[-n_steps:]).reshape(1,n_steps, 1)\n",
    "        y_pred = sess.run(outputs, feed_dict={X:X_batch})\n",
    "        sequence2.append(y_pred[0,-1,0])\n",
    "\n",
    "plt.figure(figsize=(11,4))\n",
    "plt.subplot(121)\n",
    "plt.plot(t, sequence1, \"b-\")\n",
    "plt.plot(t[:n_steps], sequence1[:n_steps], \"b-\",linewidth=3 )\n",
    "plt.xlabel(\"Time\")\n",
    "plt.ylabel(\"Value\")\n",
    "\n",
    "plt.subplot(122)\n",
    "plt.plot(t, sequence2, \"b-\")\n",
    "plt.plot(t[:n_steps], sequence2[:n_steps], \"b-\", linewidth=3)\n",
    "plt.xlabel(\"Time\")\n",
    "plt.show()"
   ]
  }
 ],
 "metadata": {
  "kernelspec": {
   "display_name": "Python (tf_gpu)",
   "language": "python",
   "name": "tf_gpu"
  },
  "language_info": {
   "codemirror_mode": {
    "name": "ipython",
    "version": 3
   },
   "file_extension": ".py",
   "mimetype": "text/x-python",
   "name": "python",
   "nbconvert_exporter": "python",
   "pygments_lexer": "ipython3",
   "version": "3.7.4"
  }
 },
 "nbformat": 4,
 "nbformat_minor": 2
}
